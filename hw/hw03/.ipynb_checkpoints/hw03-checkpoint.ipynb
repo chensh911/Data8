{
 "cells": [
  {
   "cell_type": "markdown",
   "metadata": {},
   "source": [
    "# Homework 3: Tables and Charts\n",
    "\n",
    "Please complete this notebook by filling in the cells provided. When you’re done:\n",
    "\n",
    "1. Select `Run All` from the `Cell` menu to ensure that you have executed all cells.\n",
    "2. Select `Download as PDF via LaTeX (.pdf)` from the `File` menu\n",
    "3. Read that file! If any of your lines are too long and get cut off, we won't be able to see them,\n",
    "   so break them up into multiple lines and download again.\n",
    "4. Submit that downloaded file to Gradescope.\n",
    "\n",
    "If you cannot submit online, come to office hours for assistance. The office hours\n",
    "schedule appears on [data8.org/fa16/weekly.html](http://data8.org/fa16/weekly.html).\n",
    "\n",
    "This assignment is due Thursday, September 15 at 5PM. You will receive an early submission bonus point if you turn it in by Wednesday, September 14 at 5PM. Directly sharing answers is not okay, but discussing problems with course staff or with other students is encouraged.\n",
    "\n",
    "Reading:\n",
    "- Textbook chapter [5](http://www.inferentialthinking.com/chapters/05/tables.html)"
   ]
  },
  {
   "cell_type": "markdown",
   "metadata": {},
   "source": [
    "Run the cell below to prepare the notebook. **Passing the automatic tests does not guarantee full credit on any question.** The tests are provided to help catch some common errors, but it is *your* responsibility to answer the questions correctly."
   ]
  },
  {
   "cell_type": "code",
   "execution_count": 1,
   "metadata": {},
   "outputs": [
    {
     "name": "stderr",
     "output_type": "stream",
     "text": [
      "/Users/chenshangheng/opt/anaconda3/lib/python3.8/site-packages/datascience/tables.py:17: MatplotlibDeprecationWarning: The 'warn' parameter of use() is deprecated since Matplotlib 3.1 and will be removed in 3.3.  If any parameter follows 'warn', they should be pass as keyword, not positionally.\n",
      "  matplotlib.use('agg', warn=False)\n",
      "/Users/chenshangheng/opt/anaconda3/lib/python3.8/site-packages/datascience/util.py:10: MatplotlibDeprecationWarning: The 'warn' parameter of use() is deprecated since Matplotlib 3.1 and will be removed in 3.3.  If any parameter follows 'warn', they should be pass as keyword, not positionally.\n",
      "  matplotlib.use('agg', warn=False)\n"
     ]
    },
    {
     "name": "stdout",
     "output_type": "stream",
     "text": [
      "=====================================================================\n",
      "Assignment: Homework 3: Tables and Charts\n",
      "OK, version v1.18.1\n",
      "=====================================================================\n",
      "\n"
     ]
    }
   ],
   "source": [
    "# Run this cell to set up the notebook, but please don't change it.\n",
    "import numpy as np\n",
    "from datascience import *\n",
    "\n",
    "# These lines do some fancy plotting magic.\n",
    "import matplotlib\n",
    "%matplotlib inline\n",
    "import matplotlib.pyplot as plt\n",
    "plt.style.use('fivethirtyeight')\n",
    "import warnings\n",
    "warnings.simplefilter('ignore', FutureWarning)\n",
    "\n",
    "from client.api.assignment import load_assignment\n",
    "tests = load_assignment('hw03.ok')"
   ]
  },
  {
   "cell_type": "markdown",
   "metadata": {},
   "source": [
    "## 1. Differences between Universities, Part II\n"
   ]
  },
  {
   "cell_type": "markdown",
   "metadata": {},
   "source": [
    "**Question 1.** Suppose you're choosing a university to attend, and you'd like to *quantify* how *dissimilar* any two universities are.  You rate each university you're considering on several numerical traits.  You decide on a very detailed list of 1000 traits, and you measure all of them!  Some examples:\n",
    "\n",
    "* The cost to attend (per year)\n",
    "* The average Yelp review of nearby Thai restaurants\n",
    "* The USA Today ranking of the Medical school\n",
    "* The USA Today ranking of the Engineering school\n",
    "\n",
    "You decide that the dissimilarity between two universities is the *total* of the differences in their traits.  That is, the dissimilarity is:\n",
    "\n",
    "* the **sum** of\n",
    "* the absolute values of\n",
    "* the 1000 differences in their trait values.\n",
    "\n",
    "In the next cell, we've loaded arrays containing the 1000 trait values for Stanford and Berkeley.  Compute the dissimilarity (according to the above method) between Stanford and Berkeley.  Call your answer `dissimilarity`.  Use a single line of code to compute the answer.\n",
    "\n",
    "*Note:* The data we're using aren't real -- we made them up for this exercise, except for the cost-of-attendance numbers, which we estimated for a student from a median-income family living in California using [this tool](http://college-tuition.startclass.com)."
   ]
  },
  {
   "cell_type": "code",
   "execution_count": 2,
   "metadata": {},
   "outputs": [
    {
     "data": {
      "text/plain": [
       "14060.558701067917"
      ]
     },
     "execution_count": 2,
     "metadata": {},
     "output_type": "execute_result"
    }
   ],
   "source": [
    "stanford = Table.read_table(\"stanford.csv\").column(\"Trait value\")\n",
    "berkeley = Table.read_table(\"berkeley.csv\").column(\"Trait value\")\n",
    "\n",
    "dissimilarity = sum(abs(stanford - berkeley))\n",
    "dissimilarity"
   ]
  },
  {
   "cell_type": "code",
   "execution_count": 3,
   "metadata": {},
   "outputs": [
    {
     "name": "stdout",
     "output_type": "stream",
     "text": [
      "~~~~~~~~~~~~~~~~~~~~~~~~~~~~~~~~~~~~~~~~~~~~~~~~~~~~~~~~~~~~~~~~~~~~~\n",
      "Running tests\n",
      "\n",
      "---------------------------------------------------------------------\n",
      "Test summary\n",
      "    Passed: 1\n",
      "    Failed: 0\n",
      "[ooooooooook] 100.0% passed\n",
      "\n"
     ]
    }
   ],
   "source": [
    "_ = tests.grade('q1_1')"
   ]
  },
  {
   "cell_type": "markdown",
   "metadata": {},
   "source": [
    "**Question 2.** Identify all the subexpressions in your answer to the previous question, excluding the whole expression itself.  Write each on its own line.  Before each one, write a one-line comment describing the value of the subexpression, including what type of value it is.  We've written the first one for you.  (It should appear somewhere in your answer to the previous question!)"
   ]
  },
  {
   "cell_type": "code",
   "execution_count": 4,
   "metadata": {
    "for_assignment_type": "student"
   },
   "outputs": [
    {
     "data": {
      "text/plain": [
       "14060.558701067917"
      ]
     },
     "execution_count": 4,
     "metadata": {},
     "output_type": "execute_result"
    }
   ],
   "source": [
    "# An array of 1000 numbers, each a different measured trait of Stanford University.\n",
    "stanford\n",
    "berkeley\n",
    "(stanford - berkeley)\n",
    "abs(stanford - berkeley)\n",
    "sum(abs(stanford - berkeley))"
   ]
  },
  {
   "cell_type": "markdown",
   "metadata": {},
   "source": [
    "**Question 3.** Why do we sum up the absolute values of the differences in trait values, rather than just summing up the differences?"
   ]
  },
  {
   "cell_type": "markdown",
   "metadata": {},
   "source": [
    "*It can be cancelled out*"
   ]
  },
  {
   "cell_type": "markdown",
   "metadata": {},
   "source": [
    "##### Weighing the traits\n",
    "After computing dissimilarities between several schools, you notice a problem with your method: the scale of the traits matters a lot.\n",
    "\n",
    "Since schools cost tens of thousands of dollars to attend, the cost-to-attend trait is always a much bigger *number* than most other traits.  That makes it affect the dissimilarity a lot more than other traits.  Two schools that differ in cost-to-attend by \\$900, but are otherwise identical, get a dissimilarity of 900.  But two schools that differ in graduation rate by .9 (a huge difference!), but are otherwise identical, get a dissimilarity of only .9.\n",
    "\n",
    "One way to fix this problem is to assign different \"weights\" to different traits.  For example, we could fix the problem above by multiplying the difference in the cost-to-attend traits by .001, so that a difference of \\$900 in cost-to-attend results in a dissimilarity of $900 \\times .001$, or $.9$.\n",
    "\n",
    "Here's a revised method that does that for every trait:\n",
    "\n",
    "1. For each trait, subtract the two schools' trait values.\n",
    "2. Then take the absolute value of that difference.\n",
    "3. *Now multiply that absolute value by a trait-specific number, like .001 or 2.*\n",
    "4. Now sum the 1000 resulting numbers.\n",
    "\n",
    "**Question 4.** Suppose you've already decided on a weight for each trait.  These are loaded into an array called `weights` in the cell below.  `weights.item(0)` is the weight for the first trait, `weights.item(1)` is the weight for the second trait, and so on.  Use the revised method to compute a revised dissimilarity between Berkeley and Stanford.\n",
    "\n",
    "*Hint:* Using array arithmetic, your answer should be almost as short as in question 1."
   ]
  },
  {
   "cell_type": "code",
   "execution_count": 5,
   "metadata": {},
   "outputs": [
    {
     "data": {
      "text/plain": [
       "505.98313211458805"
      ]
     },
     "execution_count": 5,
     "metadata": {},
     "output_type": "execute_result"
    }
   ],
   "source": [
    "weights = Table.read_table(\"weights.csv\").column(\"Weight\")\n",
    "\n",
    "revised_dissimilarity = dissimilarity = sum(abs(stanford - berkeley) * weights)\n",
    "revised_dissimilarity"
   ]
  },
  {
   "cell_type": "code",
   "execution_count": 6,
   "metadata": {
    "scrolled": true
   },
   "outputs": [
    {
     "name": "stdout",
     "output_type": "stream",
     "text": [
      "~~~~~~~~~~~~~~~~~~~~~~~~~~~~~~~~~~~~~~~~~~~~~~~~~~~~~~~~~~~~~~~~~~~~~\n",
      "Running tests\n",
      "\n",
      "---------------------------------------------------------------------\n",
      "Test summary\n",
      "    Passed: 1\n",
      "    Failed: 0\n",
      "[ooooooooook] 100.0% passed\n",
      "\n"
     ]
    }
   ],
   "source": [
    "_ = tests.grade('q1_4')"
   ]
  },
  {
   "cell_type": "markdown",
   "metadata": {},
   "source": [
    "## 2. Period Plots\n"
   ]
  },
  {
   "cell_type": "markdown",
   "metadata": {},
   "source": [
    "Below is a plot that compares the number of characters to the number of periods in each chapter of Little Women.  Each point represents one chapter.\n",
    "\n",
    "<img src=\"little_women.png\">"
   ]
  },
  {
   "cell_type": "markdown",
   "metadata": {},
   "source": [
    "**Question 1.** About how many periods are in the chapter with the most characters per period?"
   ]
  },
  {
   "cell_type": "code",
   "execution_count": 7,
   "metadata": {},
   "outputs": [],
   "source": [
    "periods_in_most_characters_per_period = 160"
   ]
  },
  {
   "cell_type": "markdown",
   "metadata": {},
   "source": [
    "**Question 2.** About how many periods are in the chapter with the most characters?"
   ]
  },
  {
   "cell_type": "code",
   "execution_count": 8,
   "metadata": {},
   "outputs": [],
   "source": [
    "periods_in_most_characters = 425"
   ]
  },
  {
   "cell_type": "markdown",
   "metadata": {},
   "source": [
    "## 3. Unemployment\n"
   ]
  },
  {
   "cell_type": "markdown",
   "metadata": {},
   "source": [
    "The Federal Reserve Bank of St. Louis publishes data about jobs in the US.  Below we've loaded data on unemployment in the United States.  There are many ways of defining unemployment, and our dataset includes two notions of the unemployment rate:\n",
    "\n",
    "1. Among people who are able to work and are looking for a full-time job, the percentage who can't find a job.  This is called the Non-Employment Index, or NEI.\n",
    "2. Among people who are able to work and are looking for a full-time job, the percentage who can't find any job *or* are only working at a part-time job.  The latter group is called \"Part-Time for Economic Reasons\", so the acronym for this index is NEI-PTER.  (Economists are great at marketing.)\n",
    "\n",
    "The source of the data is [here](https://fred.stlouisfed.org/categories/33509)."
   ]
  },
  {
   "cell_type": "markdown",
   "metadata": {},
   "source": [
    "**Question 1.** The data are in a CSV file called `unemployment.csv`.  Load that file into a table called `unemployment`."
   ]
  },
  {
   "cell_type": "code",
   "execution_count": 9,
   "metadata": {},
   "outputs": [
    {
     "data": {
      "text/html": [
       "<table border=\"1\" class=\"dataframe\">\n",
       "    <thead>\n",
       "        <tr>\n",
       "            <th>Date</th> <th>NEI</th> <th>NEI-PTER</th>\n",
       "        </tr>\n",
       "    </thead>\n",
       "    <tbody>\n",
       "        <tr>\n",
       "            <td>1994-01-01</td> <td>10.0974</td> <td>11.172  </td>\n",
       "        </tr>\n",
       "        <tr>\n",
       "            <td>1994-04-01</td> <td>9.6239 </td> <td>10.7883 </td>\n",
       "        </tr>\n",
       "        <tr>\n",
       "            <td>1994-07-01</td> <td>9.3276 </td> <td>10.4831 </td>\n",
       "        </tr>\n",
       "        <tr>\n",
       "            <td>1994-10-01</td> <td>9.1071 </td> <td>10.2361 </td>\n",
       "        </tr>\n",
       "        <tr>\n",
       "            <td>1995-01-01</td> <td>8.9693 </td> <td>10.1832 </td>\n",
       "        </tr>\n",
       "        <tr>\n",
       "            <td>1995-04-01</td> <td>9.0314 </td> <td>10.1071 </td>\n",
       "        </tr>\n",
       "        <tr>\n",
       "            <td>1995-07-01</td> <td>8.9802 </td> <td>10.1084 </td>\n",
       "        </tr>\n",
       "        <tr>\n",
       "            <td>1995-10-01</td> <td>8.9932 </td> <td>10.1046 </td>\n",
       "        </tr>\n",
       "        <tr>\n",
       "            <td>1996-01-01</td> <td>9.0002 </td> <td>10.0531 </td>\n",
       "        </tr>\n",
       "        <tr>\n",
       "            <td>1996-04-01</td> <td>8.9038 </td> <td>9.9782  </td>\n",
       "        </tr>\n",
       "    </tbody>\n",
       "</table>\n",
       "<p>... (80 rows omitted)</p>"
      ],
      "text/plain": [
       "Date       | NEI     | NEI-PTER\n",
       "1994-01-01 | 10.0974 | 11.172\n",
       "1994-04-01 | 9.6239  | 10.7883\n",
       "1994-07-01 | 9.3276  | 10.4831\n",
       "1994-10-01 | 9.1071  | 10.2361\n",
       "1995-01-01 | 8.9693  | 10.1832\n",
       "1995-04-01 | 9.0314  | 10.1071\n",
       "1995-07-01 | 8.9802  | 10.1084\n",
       "1995-10-01 | 8.9932  | 10.1046\n",
       "1996-01-01 | 9.0002  | 10.0531\n",
       "1996-04-01 | 8.9038  | 9.9782\n",
       "... (80 rows omitted)"
      ]
     },
     "execution_count": 9,
     "metadata": {},
     "output_type": "execute_result"
    }
   ],
   "source": [
    "unemployment = Table.read_table(\"unemployment.csv\")\n",
    "unemployment"
   ]
  },
  {
   "cell_type": "code",
   "execution_count": 10,
   "metadata": {},
   "outputs": [
    {
     "name": "stdout",
     "output_type": "stream",
     "text": [
      "~~~~~~~~~~~~~~~~~~~~~~~~~~~~~~~~~~~~~~~~~~~~~~~~~~~~~~~~~~~~~~~~~~~~~\n",
      "Running tests\n",
      "\n",
      "---------------------------------------------------------------------\n",
      "Test summary\n",
      "    Passed: 1\n",
      "    Failed: 0\n",
      "[ooooooooook] 100.0% passed\n",
      "\n"
     ]
    }
   ],
   "source": [
    "_ = tests.grade('q3_1')"
   ]
  },
  {
   "cell_type": "markdown",
   "metadata": {},
   "source": [
    "**Question 2.** Sort the data in decreasing order by NEI, naming the sorted table `by_nei`.  Create another table called `by_nei_pter` that's sorted in decreasing order by NEI-PTER instead."
   ]
  },
  {
   "cell_type": "code",
   "execution_count": 14,
   "metadata": {},
   "outputs": [],
   "source": [
    "by_nei = unemployment.sort(\"NEI\", descending=True)\n",
    "by_nei_pter = unemployment.sort(\"NEI-PTER\", descending=True)"
   ]
  },
  {
   "cell_type": "code",
   "execution_count": 15,
   "metadata": {},
   "outputs": [
    {
     "name": "stdout",
     "output_type": "stream",
     "text": [
      "~~~~~~~~~~~~~~~~~~~~~~~~~~~~~~~~~~~~~~~~~~~~~~~~~~~~~~~~~~~~~~~~~~~~~\n",
      "Running tests\n",
      "\n",
      "---------------------------------------------------------------------\n",
      "Test summary\n",
      "    Passed: 1\n",
      "    Failed: 0\n",
      "[ooooooooook] 100.0% passed\n",
      "\n"
     ]
    }
   ],
   "source": [
    "_ = tests.grade('q3_2')"
   ]
  },
  {
   "cell_type": "markdown",
   "metadata": {},
   "source": [
    "**Question 3.** Use `take` to make a table containing the data for the 10 quarters when NEI was greatest.  Call that table `greatest_nei`."
   ]
  },
  {
   "cell_type": "code",
   "execution_count": 16,
   "metadata": {},
   "outputs": [
    {
     "data": {
      "text/html": [
       "<table border=\"1\" class=\"dataframe\">\n",
       "    <thead>\n",
       "        <tr>\n",
       "            <th>Date</th> <th>NEI</th> <th>NEI-PTER</th>\n",
       "        </tr>\n",
       "    </thead>\n",
       "    <tbody>\n",
       "        <tr>\n",
       "            <td>2009-10-01</td> <td>10.9698</td> <td>12.8557 </td>\n",
       "        </tr>\n",
       "        <tr>\n",
       "            <td>2010-01-01</td> <td>10.9054</td> <td>12.7311 </td>\n",
       "        </tr>\n",
       "        <tr>\n",
       "            <td>2009-07-01</td> <td>10.8089</td> <td>12.7404 </td>\n",
       "        </tr>\n",
       "        <tr>\n",
       "            <td>2009-04-01</td> <td>10.7082</td> <td>12.5497 </td>\n",
       "        </tr>\n",
       "        <tr>\n",
       "            <td>2010-04-01</td> <td>10.6597</td> <td>12.5664 </td>\n",
       "        </tr>\n",
       "        <tr>\n",
       "            <td>2010-10-01</td> <td>10.5856</td> <td>12.4329 </td>\n",
       "        </tr>\n",
       "        <tr>\n",
       "            <td>2010-07-01</td> <td>10.5521</td> <td>12.3897 </td>\n",
       "        </tr>\n",
       "        <tr>\n",
       "            <td>2011-01-01</td> <td>10.5024</td> <td>12.3017 </td>\n",
       "        </tr>\n",
       "        <tr>\n",
       "            <td>2011-07-01</td> <td>10.4856</td> <td>12.2507 </td>\n",
       "        </tr>\n",
       "        <tr>\n",
       "            <td>2011-04-01</td> <td>10.4409</td> <td>12.247  </td>\n",
       "        </tr>\n",
       "    </tbody>\n",
       "</table>"
      ],
      "text/plain": [
       "Date       | NEI     | NEI-PTER\n",
       "2009-10-01 | 10.9698 | 12.8557\n",
       "2010-01-01 | 10.9054 | 12.7311\n",
       "2009-07-01 | 10.8089 | 12.7404\n",
       "2009-04-01 | 10.7082 | 12.5497\n",
       "2010-04-01 | 10.6597 | 12.5664\n",
       "2010-10-01 | 10.5856 | 12.4329\n",
       "2010-07-01 | 10.5521 | 12.3897\n",
       "2011-01-01 | 10.5024 | 12.3017\n",
       "2011-07-01 | 10.4856 | 12.2507\n",
       "2011-04-01 | 10.4409 | 12.247"
      ]
     },
     "execution_count": 16,
     "metadata": {},
     "output_type": "execute_result"
    }
   ],
   "source": [
    "greatest_nei = by_nei.take(np.arange(10))\n",
    "greatest_nei"
   ]
  },
  {
   "cell_type": "code",
   "execution_count": 17,
   "metadata": {},
   "outputs": [
    {
     "name": "stdout",
     "output_type": "stream",
     "text": [
      "~~~~~~~~~~~~~~~~~~~~~~~~~~~~~~~~~~~~~~~~~~~~~~~~~~~~~~~~~~~~~~~~~~~~~\n",
      "Running tests\n",
      "\n",
      "---------------------------------------------------------------------\n",
      "Test summary\n",
      "    Passed: 1\n",
      "    Failed: 0\n",
      "[ooooooooook] 100.0% passed\n",
      "\n"
     ]
    }
   ],
   "source": [
    "_ = tests.grade('q3_3')"
   ]
  },
  {
   "cell_type": "markdown",
   "metadata": {},
   "source": [
    "**Question 4.** It's believed that many people became PTER (recall: \"Part-Time for Economic Reasons\") in the \"Great Recession\" of 2008-2009.  NEI-PTER is the percentage of people who are unemployed (and counted in the NEI) plus the proportion of people who are PTER.  Compute an array containing the percentage of people who were PTER in each quarter.  (The first element of the array should correspond to the first row of `unemployment`, and so on.)\n",
    "\n",
    "*Note:* Use the original `unemployment` table for this."
   ]
  },
  {
   "cell_type": "code",
   "execution_count": 23,
   "metadata": {},
   "outputs": [
    {
     "data": {
      "text/plain": [
       "array([1.0746, 1.1644, 1.1555, 1.129 , 1.2139, 1.0757, 1.1282, 1.1114,\n",
       "       1.0529, 1.0744, 1.1004, 1.0747, 1.0705, 1.0455, 1.008 , 0.9734,\n",
       "       0.9753, 0.8931, 0.9451, 0.8367, 0.8208, 0.8105, 0.8248, 0.7578,\n",
       "       0.7251, 0.7445, 0.7543, 0.7423, 0.7399, 0.7687, 0.8418, 0.9923,\n",
       "       0.9181, 0.9629, 0.9703, 0.9575, 1.0333, 1.0781, 1.0675, 1.0354,\n",
       "       1.0601, 1.01  , 1.0042, 1.0368, 0.9704, 0.923 , 0.9759, 0.93  ,\n",
       "       0.889 , 0.821 , 0.9409, 0.955 , 0.898 , 0.8948, 0.9523, 0.9579,\n",
       "       1.0149, 1.0762, 1.2873, 1.4335, 1.7446, 1.8415, 1.9315, 1.8859,\n",
       "       1.8257, 1.9067, 1.8376, 1.8473, 1.7993, 1.8061, 1.7651, 1.7927,\n",
       "       1.7286, 1.6387, 1.6808, 1.6805, 1.6629, 1.6253, 1.6477, 1.6298,\n",
       "       1.4796, 1.5131, 1.4866, 1.4345, 1.3675, 1.3097, 1.2319, 1.1735,\n",
       "       1.1844, 1.1746])"
      ]
     },
     "execution_count": 23,
     "metadata": {},
     "output_type": "execute_result"
    }
   ],
   "source": [
    "unemployment = Table.read_table(\"unemployment.csv\")\n",
    "pter = unemployment.column(\"NEI-PTER\") - unemployment.column(\"NEI\")\n",
    "pter"
   ]
  },
  {
   "cell_type": "code",
   "execution_count": 24,
   "metadata": {},
   "outputs": [
    {
     "name": "stdout",
     "output_type": "stream",
     "text": [
      "~~~~~~~~~~~~~~~~~~~~~~~~~~~~~~~~~~~~~~~~~~~~~~~~~~~~~~~~~~~~~~~~~~~~~\n",
      "Running tests\n",
      "\n",
      "---------------------------------------------------------------------\n",
      "Test summary\n",
      "    Passed: 1\n",
      "    Failed: 0\n",
      "[ooooooooook] 100.0% passed\n",
      "\n"
     ]
    }
   ],
   "source": [
    "_ = tests.grade('q3_4')"
   ]
  },
  {
   "cell_type": "markdown",
   "metadata": {},
   "source": [
    "**Question 5.** Add `pter` as a column to `unemployment` (named \"PTER\") and sort the resulting table by that column in decreasing order.  Call the table `by_pter`.\n",
    "\n",
    "Try to do this with a single line of code, if you can."
   ]
  },
  {
   "cell_type": "code",
   "execution_count": 29,
   "metadata": {},
   "outputs": [
    {
     "data": {
      "text/html": [
       "<table border=\"1\" class=\"dataframe\">\n",
       "    <thead>\n",
       "        <tr>\n",
       "            <th>Date</th> <th>NEI</th> <th>NEI-PTER</th> <th>PTER</th>\n",
       "        </tr>\n",
       "    </thead>\n",
       "    <tbody>\n",
       "        <tr>\n",
       "            <td>2009-07-01</td> <td>10.8089</td> <td>12.7404 </td> <td>1.9315</td>\n",
       "        </tr>\n",
       "        <tr>\n",
       "            <td>2010-04-01</td> <td>10.6597</td> <td>12.5664 </td> <td>1.9067</td>\n",
       "        </tr>\n",
       "        <tr>\n",
       "            <td>2009-10-01</td> <td>10.9698</td> <td>12.8557 </td> <td>1.8859</td>\n",
       "        </tr>\n",
       "        <tr>\n",
       "            <td>2010-10-01</td> <td>10.5856</td> <td>12.4329 </td> <td>1.8473</td>\n",
       "        </tr>\n",
       "        <tr>\n",
       "            <td>2009-04-01</td> <td>10.7082</td> <td>12.5497 </td> <td>1.8415</td>\n",
       "        </tr>\n",
       "        <tr>\n",
       "            <td>2010-07-01</td> <td>10.5521</td> <td>12.3897 </td> <td>1.8376</td>\n",
       "        </tr>\n",
       "        <tr>\n",
       "            <td>2010-01-01</td> <td>10.9054</td> <td>12.7311 </td> <td>1.8257</td>\n",
       "        </tr>\n",
       "        <tr>\n",
       "            <td>2011-04-01</td> <td>10.4409</td> <td>12.247  </td> <td>1.8061</td>\n",
       "        </tr>\n",
       "        <tr>\n",
       "            <td>2011-01-01</td> <td>10.5024</td> <td>12.3017 </td> <td>1.7993</td>\n",
       "        </tr>\n",
       "        <tr>\n",
       "            <td>2011-10-01</td> <td>10.3287</td> <td>12.1214 </td> <td>1.7927</td>\n",
       "        </tr>\n",
       "    </tbody>\n",
       "</table>\n",
       "<p>... (80 rows omitted)</p>"
      ],
      "text/plain": [
       "Date       | NEI     | NEI-PTER | PTER\n",
       "2009-07-01 | 10.8089 | 12.7404  | 1.9315\n",
       "2010-04-01 | 10.6597 | 12.5664  | 1.9067\n",
       "2009-10-01 | 10.9698 | 12.8557  | 1.8859\n",
       "2010-10-01 | 10.5856 | 12.4329  | 1.8473\n",
       "2009-04-01 | 10.7082 | 12.5497  | 1.8415\n",
       "2010-07-01 | 10.5521 | 12.3897  | 1.8376\n",
       "2010-01-01 | 10.9054 | 12.7311  | 1.8257\n",
       "2011-04-01 | 10.4409 | 12.247   | 1.8061\n",
       "2011-01-01 | 10.5024 | 12.3017  | 1.7993\n",
       "2011-10-01 | 10.3287 | 12.1214  | 1.7927\n",
       "... (80 rows omitted)"
      ]
     },
     "execution_count": 29,
     "metadata": {},
     "output_type": "execute_result"
    }
   ],
   "source": [
    "by_pter = unemployment.with_column(\"PTER\", pter).sort(\"PTER\", descending=True)\n",
    "by_pter"
   ]
  },
  {
   "cell_type": "code",
   "execution_count": 27,
   "metadata": {},
   "outputs": [
    {
     "name": "stdout",
     "output_type": "stream",
     "text": [
      "~~~~~~~~~~~~~~~~~~~~~~~~~~~~~~~~~~~~~~~~~~~~~~~~~~~~~~~~~~~~~~~~~~~~~\n",
      "Running tests\n",
      "\n",
      "---------------------------------------------------------------------\n",
      "Test summary\n",
      "    Passed: 1\n",
      "    Failed: 0\n",
      "[ooooooooook] 100.0% passed\n",
      "\n"
     ]
    }
   ],
   "source": [
    "_ = tests.grade('q3_5')"
   ]
  },
  {
   "cell_type": "markdown",
   "metadata": {},
   "source": [
    "**Question 6.** Does it seem true that the PTER rate was very high during the Great Recession, compared to other periods in the dataset?  **Also**, is the sorted table the best way to find this out, or can you think of other ways to look at the data to answer this question?"
   ]
  },
  {
   "cell_type": "markdown",
   "metadata": {},
   "source": [
    "*Yes. We can plot the graph of it.*"
   ]
  },
  {
   "cell_type": "code",
   "execution_count": 33,
   "metadata": {
    "scrolled": true
   },
   "outputs": [
    {
     "data": {
      "image/png": "[encoded data removed]",
      "text/plain": [
       "<Figure size 432x288 with 1 Axes>"
      ]
     },
     "metadata": {},
     "output_type": "display_data"
    }
   ],
   "source": [
    "unemployment.with_column(\"PTER\", pter).where(\"Date\", are.between('1990', '2016')).plot(\"Date\")"
   ]
  },
  {
   "cell_type": "markdown",
   "metadata": {},
   "source": [
    "## 4. Consumer Financial Protection Bureau Complaints\n"
   ]
  },
  {
   "cell_type": "markdown",
   "metadata": {},
   "source": [
    "The Consumer Financial Protection Bureau has collected and published consumer complaints against financial companies since 2011.  The data are available [here](https://dev.socrata.com/foundry/data.consumerfinance.gov/jhzv-w97w) (or at this [direct link](https://data.consumerfinance.gov/resource/jhzv-w97w.csv).  For this exercise, to make your code run faster, we've selected only the data from May 2016.\n",
    "\n",
    "Run the next cell to load the data.  Each row represents one consumer's complaint."
   ]
  },
  {
   "cell_type": "code",
   "execution_count": 34,
   "metadata": {},
   "outputs": [
    {
     "data": {
      "text/html": [
       "<table border=\"1\" class=\"dataframe\">\n",
       "    <thead>\n",
       "        <tr>\n",
       "            <th>company</th> <th>company_public_response</th> <th>company_response</th> <th>complaint_id</th> <th>complaint_what_happened</th> <th>consumer_consent_provided</th> <th>consumer_disputed</th> <th>date_received</th> <th>date_sent_to_company</th> <th>issue</th> <th>product</th> <th>state</th> <th>sub_issue</th> <th>sub_product</th> <th>submitted_via</th> <th>tags</th> <th>timely</th> <th>zip_code</th>\n",
       "        </tr>\n",
       "    </thead>\n",
       "    <tbody>\n",
       "        <tr>\n",
       "            <td>TransUnion Intermediate Holdings, Inc.</td> <td>Company has responded to the consumer and the CFPB and c ...</td> <td>Closed with explanation        </td> <td>1920073     </td> <td>(None)                                                      </td> <td>(None)                   </td> <td>Yes              </td> <td>2016-05-11T15:39:07.000</td> <td>2016-05-11T15:39:07.000</td> <td>Credit reporting company's investigation</td> <td>Credit reporting</td> <td>VT   </td> <td>Inadequate help over the phone       </td> <td>(None)                                </td> <td>Phone        </td> <td>(None)        </td> <td>Yes   </td> <td>05035   </td>\n",
       "        </tr>\n",
       "        <tr>\n",
       "            <td>TransUnion Intermediate Holdings, Inc.</td> <td>Company has responded to the consumer and the CFPB and c ...</td> <td>Closed with explanation        </td> <td>1914777     </td> <td>(None)                                                      </td> <td>Consent not provided     </td> <td>No               </td> <td>2016-05-08T00:53:47.000</td> <td>2016-05-12T18:40:34.000</td> <td>Incorrect information on credit report  </td> <td>Credit reporting</td> <td>MO   </td> <td>Information is not mine              </td> <td>(None)                                </td> <td>Web          </td> <td>(None)        </td> <td>Yes   </td> <td>63020   </td>\n",
       "        </tr>\n",
       "        <tr>\n",
       "            <td>Bank of America                       </td> <td>Company has responded to the consumer and the CFPB and c ...</td> <td>Closed with explanation        </td> <td>1907306     </td> <td>I became aware of several charges on a Bank of America c ...</td> <td>Consent provided         </td> <td>No               </td> <td>2016-05-03T16:49:33.000</td> <td>2016-05-03T16:49:34.000</td> <td>Other                                   </td> <td>Credit card     </td> <td>VA   </td> <td>(None)                               </td> <td>(None)                                </td> <td>Web          </td> <td>(None)        </td> <td>Yes   </td> <td>239XX   </td>\n",
       "        </tr>\n",
       "        <tr>\n",
       "            <td>Finance of America Reverse LLC        </td> <td>Company believes it acted appropriately as authorized by ...</td> <td>Closed with explanation        </td> <td>1919055     </td> <td>I applied for a reverse mortgage and everthing was going ...</td> <td>Consent provided         </td> <td>No               </td> <td>2016-05-10T20:13:22.000</td> <td>2016-05-10T20:13:23.000</td> <td>Application, originator, mortgage broker</td> <td>Mortgage        </td> <td>TX   </td> <td>(None)                               </td> <td>Reverse mortgage                      </td> <td>Web          </td> <td>Older American</td> <td>Yes   </td> <td>774XX   </td>\n",
       "        </tr>\n",
       "        <tr>\n",
       "            <td>Acceptance Solutions Group, INC       </td> <td>Company believes it acted appropriately as authorized by ...</td> <td>Closed with explanation        </td> <td>1908628     </td> <td>Keeps calling numbers that are not mine. And talking to  ...</td> <td>Consent provided         </td> <td>No               </td> <td>2016-05-03T21:05:42.000</td> <td>2016-05-06T13:42:45.000</td> <td>Improper contact or sharing of info     </td> <td>Debt collection </td> <td>OH   </td> <td>Talked to a third party about my debt</td> <td>Payday loan                           </td> <td>Web          </td> <td>(None)        </td> <td>Yes   </td> <td>430XX   </td>\n",
       "        </tr>\n",
       "        <tr>\n",
       "            <td>Equifax                               </td> <td>(None)                                                      </td> <td>Closed with explanation        </td> <td>1909176     </td> <td>(None)                                                      </td> <td>(None)                   </td> <td>No               </td> <td>2016-05-04T20:08:06.000</td> <td>2016-05-09T15:11:00.000</td> <td>Incorrect information on credit report  </td> <td>Credit reporting</td> <td>NC   </td> <td>Information is not mine              </td> <td>(None)                                </td> <td>Postal mail  </td> <td>(None)        </td> <td>Yes   </td> <td>28052   </td>\n",
       "        </tr>\n",
       "        <tr>\n",
       "            <td>TransUnion Intermediate Holdings, Inc.</td> <td>Company has responded to the consumer and the CFPB and c ...</td> <td>Closed with explanation        </td> <td>1914477     </td> <td>When I enter my personal information to receive my credi ...</td> <td>Consent provided         </td> <td>No               </td> <td>2016-05-06T23:09:50.000</td> <td>2016-05-08T22:40:19.000</td> <td>Unable to get credit report/credit score</td> <td>Credit reporting</td> <td>OH   </td> <td>Problem getting my free annual report</td> <td>(None)                                </td> <td>Web          </td> <td>(None)        </td> <td>Yes   </td> <td>450XX   </td>\n",
       "        </tr>\n",
       "        <tr>\n",
       "            <td>Encore Capital Group                  </td> <td>(None)                                                      </td> <td>Closed with non-monetary relief</td> <td>1919937     </td> <td>(None)                                                      </td> <td>Consent not provided     </td> <td>(None)           </td> <td>2016-05-11T18:58:25.000</td> <td>2016-05-11T21:53:54.000</td> <td>Cont'd attempts collect debt not owed   </td> <td>Debt collection </td> <td>CT   </td> <td>Debt is not mine                     </td> <td>Credit card                           </td> <td>Web          </td> <td>Older American</td> <td>Yes   </td> <td>06801   </td>\n",
       "        </tr>\n",
       "        <tr>\n",
       "            <td>Nationstar Mortgage                   </td> <td>(None)                                                      </td> <td>Closed with explanation        </td> <td>1920517     </td> <td>I am livid with Nation Star for refusing to work with me ...</td> <td>Consent provided         </td> <td>(None)           </td> <td>2016-05-11T20:38:09.000</td> <td>2016-05-11T20:38:09.000</td> <td>Application, originator, mortgage broker</td> <td>Mortgage        </td> <td>IL   </td> <td>(None)                               </td> <td>Conventional adjustable mortgage (ARM)</td> <td>Web          </td> <td>(None)        </td> <td>Yes   </td> <td>606XX   </td>\n",
       "        </tr>\n",
       "        <tr>\n",
       "            <td>Convergent Resources, Inc.            </td> <td>(None)                                                      </td> <td>Closed with explanation        </td> <td>1920464     </td> <td>(None)                                                      </td> <td>Consent not provided     </td> <td>No               </td> <td>2016-05-11T12:16:31.000</td> <td>2016-05-11T12:16:32.000</td> <td>Cont'd attempts collect debt not owed   </td> <td>Debt collection </td> <td>TX   </td> <td>Debt is not mine                     </td> <td>Other (i.e. phone, health club, etc.) </td> <td>Web          </td> <td>(None)        </td> <td>Yes   </td> <td>78109   </td>\n",
       "        </tr>\n",
       "    </tbody>\n",
       "</table>\n",
       "<p>... (15021 rows omitted)</p>"
      ],
      "text/plain": [
       "company                                | company_public_response                                      | company_response                | complaint_id | complaint_what_happened                                      | consumer_consent_provided | consumer_disputed | date_received           | date_sent_to_company    | issue                                    | product          | state | sub_issue                             | sub_product                            | submitted_via | tags           | timely | zip_code\n",
       "TransUnion Intermediate Holdings, Inc. | Company has responded to the consumer and the CFPB and c ... | Closed with explanation         | 1920073      | (None)                                                       | (None)                    | Yes               | 2016-05-11T15:39:07.000 | 2016-05-11T15:39:07.000 | Credit reporting company's investigation | Credit reporting | VT    | Inadequate help over the phone        | (None)                                 | Phone         | (None)         | Yes    | 05035\n",
       "TransUnion Intermediate Holdings, Inc. | Company has responded to the consumer and the CFPB and c ... | Closed with explanation         | 1914777      | (None)                                                       | Consent not provided      | No                | 2016-05-08T00:53:47.000 | 2016-05-12T18:40:34.000 | Incorrect information on credit report   | Credit reporting | MO    | Information is not mine               | (None)                                 | Web           | (None)         | Yes    | 63020\n",
       "Bank of America                        | Company has responded to the consumer and the CFPB and c ... | Closed with explanation         | 1907306      | I became aware of several charges on a Bank of America c ... | Consent provided          | No                | 2016-05-03T16:49:33.000 | 2016-05-03T16:49:34.000 | Other                                    | Credit card      | VA    | (None)                                | (None)                                 | Web           | (None)         | Yes    | 239XX\n",
       "Finance of America Reverse LLC         | Company believes it acted appropriately as authorized by ... | Closed with explanation         | 1919055      | I applied for a reverse mortgage and everthing was going ... | Consent provided          | No                | 2016-05-10T20:13:22.000 | 2016-05-10T20:13:23.000 | Application, originator, mortgage broker | Mortgage         | TX    | (None)                                | Reverse mortgage                       | Web           | Older American | Yes    | 774XX\n",
       "Acceptance Solutions Group, INC        | Company believes it acted appropriately as authorized by ... | Closed with explanation         | 1908628      | Keeps calling numbers that are not mine. And talking to  ... | Consent provided          | No                | 2016-05-03T21:05:42.000 | 2016-05-06T13:42:45.000 | Improper contact or sharing of info      | Debt collection  | OH    | Talked to a third party about my debt | Payday loan                            | Web           | (None)         | Yes    | 430XX\n",
       "Equifax                                | (None)                                                       | Closed with explanation         | 1909176      | (None)                                                       | (None)                    | No                | 2016-05-04T20:08:06.000 | 2016-05-09T15:11:00.000 | Incorrect information on credit report   | Credit reporting | NC    | Information is not mine               | (None)                                 | Postal mail   | (None)         | Yes    | 28052\n",
       "TransUnion Intermediate Holdings, Inc. | Company has responded to the consumer and the CFPB and c ... | Closed with explanation         | 1914477      | When I enter my personal information to receive my credi ... | Consent provided          | No                | 2016-05-06T23:09:50.000 | 2016-05-08T22:40:19.000 | Unable to get credit report/credit score | Credit reporting | OH    | Problem getting my free annual report | (None)                                 | Web           | (None)         | Yes    | 450XX\n",
       "Encore Capital Group                   | (None)                                                       | Closed with non-monetary relief | 1919937      | (None)                                                       | Consent not provided      | (None)            | 2016-05-11T18:58:25.000 | 2016-05-11T21:53:54.000 | Cont'd attempts collect debt not owed    | Debt collection  | CT    | Debt is not mine                      | Credit card                            | Web           | Older American | Yes    | 06801\n",
       "Nationstar Mortgage                    | (None)                                                       | Closed with explanation         | 1920517      | I am livid with Nation Star for refusing to work with me ... | Consent provided          | (None)            | 2016-05-11T20:38:09.000 | 2016-05-11T20:38:09.000 | Application, originator, mortgage broker | Mortgage         | IL    | (None)                                | Conventional adjustable mortgage (ARM) | Web           | (None)         | Yes    | 606XX\n",
       "Convergent Resources, Inc.             | (None)                                                       | Closed with explanation         | 1920464      | (None)                                                       | Consent not provided      | No                | 2016-05-11T12:16:31.000 | 2016-05-11T12:16:32.000 | Cont'd attempts collect debt not owed    | Debt collection  | TX    | Debt is not mine                      | Other (i.e. phone, health club, etc.)  | Web           | (None)         | Yes    | 78109\n",
       "... (15021 rows omitted)"
      ]
     },
     "execution_count": 34,
     "metadata": {},
     "output_type": "execute_result"
    }
   ],
   "source": [
    "# Just run this cell.\n",
    "complaints = Table.read_table(\"complaints.csv\")\n",
    "complaints"
   ]
  },
  {
   "cell_type": "markdown",
   "metadata": {},
   "source": [
    "**Question 1.** Financial companies offer a variety of products.  How many complaints were made against each kind of product?  Make a table called `complaints_per_product` with one row per product category and 2 columns: \"product\" (the name of the product) and \"number of complaints\" (the number of complaints made against that kind of product)."
   ]
  },
  {
   "cell_type": "code",
   "execution_count": 37,
   "metadata": {},
   "outputs": [
    {
     "data": {
      "text/html": [
       "<table border=\"1\" class=\"dataframe\">\n",
       "    <thead>\n",
       "        <tr>\n",
       "            <th>product</th> <th>number of complaints</th>\n",
       "        </tr>\n",
       "    </thead>\n",
       "    <tbody>\n",
       "        <tr>\n",
       "            <td>Bank account or service</td> <td>1687                </td>\n",
       "        </tr>\n",
       "        <tr>\n",
       "            <td>Consumer Loan          </td> <td>775                 </td>\n",
       "        </tr>\n",
       "        <tr>\n",
       "            <td>Credit card            </td> <td>1566                </td>\n",
       "        </tr>\n",
       "        <tr>\n",
       "            <td>Credit reporting       </td> <td>3820                </td>\n",
       "        </tr>\n",
       "        <tr>\n",
       "            <td>Debt collection        </td> <td>3022                </td>\n",
       "        </tr>\n",
       "        <tr>\n",
       "            <td>Money transfers        </td> <td>142                 </td>\n",
       "        </tr>\n",
       "        <tr>\n",
       "            <td>Mortgage               </td> <td>3468                </td>\n",
       "        </tr>\n",
       "        <tr>\n",
       "            <td>Other financial service</td> <td>16                  </td>\n",
       "        </tr>\n",
       "        <tr>\n",
       "            <td>Payday loan            </td> <td>119                 </td>\n",
       "        </tr>\n",
       "        <tr>\n",
       "            <td>Prepaid card           </td> <td>110                 </td>\n",
       "        </tr>\n",
       "    </tbody>\n",
       "</table>\n",
       "<p>... (1 rows omitted)</p>"
      ],
      "text/plain": [
       "product                 | number of complaints\n",
       "Bank account or service | 1687\n",
       "Consumer Loan           | 775\n",
       "Credit card             | 1566\n",
       "Credit reporting        | 3820\n",
       "Debt collection         | 3022\n",
       "Money transfers         | 142\n",
       "Mortgage                | 3468\n",
       "Other financial service | 16\n",
       "Payday loan             | 119\n",
       "Prepaid card            | 110\n",
       "... (1 rows omitted)"
      ]
     },
     "execution_count": 37,
     "metadata": {},
     "output_type": "execute_result"
    }
   ],
   "source": [
    "complaints_per_product = complaints.group(\"product\").relabeled(\"count\", \"number of complaints\")\n",
    "complaints_per_product"
   ]
  },
  {
   "cell_type": "code",
   "execution_count": 38,
   "metadata": {},
   "outputs": [
    {
     "name": "stdout",
     "output_type": "stream",
     "text": [
      "~~~~~~~~~~~~~~~~~~~~~~~~~~~~~~~~~~~~~~~~~~~~~~~~~~~~~~~~~~~~~~~~~~~~~\n",
      "Running tests\n",
      "\n",
      "---------------------------------------------------------------------\n",
      "Test summary\n",
      "    Passed: 1\n",
      "    Failed: 0\n",
      "[ooooooooook] 100.0% passed\n",
      "\n"
     ]
    }
   ],
   "source": [
    "_ = tests.grade('q4_1')"
   ]
  },
  {
   "cell_type": "markdown",
   "metadata": {},
   "source": [
    "**Question 2.** Make a bar chart showing how many complaints were made about each product category."
   ]
  },
  {
   "cell_type": "code",
   "execution_count": 39,
   "metadata": {},
   "outputs": [
    {
     "data": {
      "image/png": "[encoded data removed]",
      "text/plain": [
       "<Figure size 432x396 with 1 Axes>"
      ]
     },
     "metadata": {},
     "output_type": "display_data"
    }
   ],
   "source": [
    "complaints_per_product.barh(\"product\")"
   ]
  },
  {
   "cell_type": "markdown",
   "metadata": {},
   "source": [
    "**Question 3.** Make a table of the number of complaints made against each *company*.  Call it `complaints_per_company`.  It should have one row per company and 2 columns: \"company\" (the name of the company) and \"number of complaints\" (the number of complaints made against that company)."
   ]
  },
  {
   "cell_type": "code",
   "execution_count": 40,
   "metadata": {},
   "outputs": [
    {
     "data": {
      "text/html": [
       "<table border=\"1\" class=\"dataframe\">\n",
       "    <thead>\n",
       "        <tr>\n",
       "            <th>company</th> <th>number of complaints</th>\n",
       "        </tr>\n",
       "    </thead>\n",
       "    <tbody>\n",
       "        <tr>\n",
       "            <td>1st Preference Mortgage  </td> <td>2                   </td>\n",
       "        </tr>\n",
       "        <tr>\n",
       "            <td>21st Mortgage Corporation</td> <td>7                   </td>\n",
       "        </tr>\n",
       "        <tr>\n",
       "            <td>2288984 Ontario Inc.     </td> <td>3                   </td>\n",
       "        </tr>\n",
       "        <tr>\n",
       "            <td>360 Mortgage             </td> <td>1                   </td>\n",
       "        </tr>\n",
       "        <tr>\n",
       "            <td>3rd Generation, Inc.     </td> <td>1                   </td>\n",
       "        </tr>\n",
       "        <tr>\n",
       "            <td>4M Collections, LLC      </td> <td>1                   </td>\n",
       "        </tr>\n",
       "        <tr>\n",
       "            <td>A.R.M. Solutions, Inc.   </td> <td>2                   </td>\n",
       "        </tr>\n",
       "        <tr>\n",
       "            <td>AC Autopay, LLC          </td> <td>1                   </td>\n",
       "        </tr>\n",
       "        <tr>\n",
       "            <td>ACE Cash Express Inc.    </td> <td>21                  </td>\n",
       "        </tr>\n",
       "        <tr>\n",
       "            <td>ACS Education Services   </td> <td>8                   </td>\n",
       "        </tr>\n",
       "    </tbody>\n",
       "</table>\n",
       "<p>... (1131 rows omitted)</p>"
      ],
      "text/plain": [
       "company                   | number of complaints\n",
       "1st Preference Mortgage   | 2\n",
       "21st Mortgage Corporation | 7\n",
       "2288984 Ontario Inc.      | 3\n",
       "360 Mortgage              | 1\n",
       "3rd Generation, Inc.      | 1\n",
       "4M Collections, LLC       | 1\n",
       "A.R.M. Solutions, Inc.    | 2\n",
       "AC Autopay, LLC           | 1\n",
       "ACE Cash Express Inc.     | 21\n",
       "ACS Education Services    | 8\n",
       "... (1131 rows omitted)"
      ]
     },
     "execution_count": 40,
     "metadata": {},
     "output_type": "execute_result"
    }
   ],
   "source": [
    "complaints_per_company = complaints.group(\"company\").relabeled(\"count\", \"number of complaints\")\n",
    "complaints_per_company"
   ]
  },
  {
   "cell_type": "code",
   "execution_count": 41,
   "metadata": {},
   "outputs": [
    {
     "name": "stdout",
     "output_type": "stream",
     "text": [
      "~~~~~~~~~~~~~~~~~~~~~~~~~~~~~~~~~~~~~~~~~~~~~~~~~~~~~~~~~~~~~~~~~~~~~\n",
      "Running tests\n",
      "\n",
      "---------------------------------------------------------------------\n",
      "Test summary\n",
      "    Passed: 1\n",
      "    Failed: 0\n",
      "[ooooooooook] 100.0% passed\n",
      "\n"
     ]
    }
   ],
   "source": [
    "_ = tests.grade('q4_3')"
   ]
  },
  {
   "cell_type": "markdown",
   "metadata": {},
   "source": [
    "**Question 4.** It wouldn't be a good idea to make a bar chart of that data.  (Don't try it!)  Why not?"
   ]
  },
  {
   "cell_type": "markdown",
   "metadata": {},
   "source": [
    "*There are too much companies to show.*"
   ]
  },
  {
   "cell_type": "markdown",
   "metadata": {},
   "source": [
    "**Question 5.** Make a bar chart of just the companies with the most complaints.  Specifically, make a chart that displays the number of complaints against the companies with the 10 most complaints."
   ]
  },
  {
   "cell_type": "code",
   "execution_count": 53,
   "metadata": {},
   "outputs": [
    {
     "data": {
      "image/png": "[encoded data removed]",
      "text/plain": [
       "<Figure size 432x360 with 1 Axes>"
      ]
     },
     "metadata": {},
     "output_type": "display_data"
    }
   ],
   "source": [
    "top10 = complaints_per_company.sort(\"number of complaints\", descending=True).take(np.arange(10))\n",
    "top10.barh(\"company\")"
   ]
  },
  {
   "cell_type": "markdown",
   "metadata": {},
   "source": [
    "**Question 6.** Make a bar chart like the one above, with one difference: The size of each company's bar should be the *proportion* (among *all complaints* made against any company in `complaints`) that were made against that company.\n",
    "\n",
    "**Note:** Graphs aren't very useful without accurate labels.  Make sure that the text on the horizontal axis of the graph makes sense."
   ]
  },
  {
   "cell_type": "code",
   "execution_count": 55,
   "metadata": {
    "for_assignment_type": "student"
   },
   "outputs": [
    {
     "data": {
      "image/png": "[encoded data removed]",
      "text/plain": [
       "<Figure size 432x360 with 1 Axes>"
      ]
     },
     "metadata": {},
     "output_type": "display_data"
    }
   ],
   "source": [
    "name = top10.column(\"company\")\n",
    "num = top10.column(\"number of complaints\")\n",
    "total = sum(num)\n",
    "num = num / total\n",
    "new_table = Table().with_columns(\"company\", name, \"number of complaints\", num)\n",
    "new_table.barh(\"company\")"
   ]
  },
  {
   "cell_type": "code",
   "execution_count": null,
   "metadata": {
    "collapsed": true
   },
   "outputs": [],
   "source": [
    "# For your convenience, you can run this cell to run all the tests at once!\n",
    "import os\n",
    "print(\"Running all tests...\")\n",
    "_ = [tests.grade(q[:-3]) for q in os.listdir(\"tests\") if q.startswith('q')]\n",
    "print(\"Finished running all tests.\")"
   ]
  }
 ],
 "metadata": {
  "kernelspec": {
   "display_name": "Python 3",
   "language": "python",
   "name": "python3"
  },
  "language_info": {
   "codemirror_mode": {
    "name": "ipython",
    "version": 3
   },
   "file_extension": ".py",
   "mimetype": "text/x-python",
   "name": "python",
   "nbconvert_exporter": "python",
   "pygments_lexer": "ipython3",
   "version": "3.8.3"
  }
 },
 "nbformat": 4,
 "nbformat_minor": 1
}
