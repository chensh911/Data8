{
 "cells": [
  {
   "cell_type": "markdown",
   "metadata": {},
   "source": [
    "# Homework 4: Functions and Histograms\n",
    "\n",
    "Please complete this notebook by filling in the cells provided. When you’re done, follow the instructions in [this short explainer video](https://www.youtube.com/watch?v=gMt_Rq43y_4&ab_channel=FahadKamran) to submit your homework.\n",
    "\n",
    "If you cannot submit online, come to office hours for assistance. The office hours\n",
    "schedule appears on [data8.org/fa16/weekly.html](http://data8.org/fa16/weekly.html).\n",
    "\n",
    "This assignment is due Thursday, September 22 at 5PM. You will receive an early submission bonus point if you turn it in by Wednesday, September 21 at 5PM. Directly sharing answers is not okay, but discussing problems with course staff or with other students is encouraged.\n",
    "\n",
    "Reading:\n",
    "- Textbook chapters [6](http://www.inferentialthinking.com/chapters/06/visualization.html) and [7](http://www.inferentialthinking.com/chapters/07/functions-and-tables.html)"
   ]
  },
  {
   "cell_type": "markdown",
   "metadata": {},
   "source": [
    "Run the cell below to prepare the notebook and the tests. **Passing the automatic tests does not guarantee full credit on any question.** The tests are provided to help catch some common errors, but it is *your* responsibility to answer the questions correctly."
   ]
  },
  {
   "cell_type": "code",
   "execution_count": 1,
   "metadata": {},
   "outputs": [
    {
     "name": "stderr",
     "output_type": "stream",
     "text": [
      "/Users/chenshangheng/opt/anaconda3/lib/python3.8/site-packages/datascience/tables.py:17: MatplotlibDeprecationWarning: The 'warn' parameter of use() is deprecated since Matplotlib 3.1 and will be removed in 3.3.  If any parameter follows 'warn', they should be pass as keyword, not positionally.\n",
      "  matplotlib.use('agg', warn=False)\n",
      "/Users/chenshangheng/opt/anaconda3/lib/python3.8/site-packages/datascience/util.py:10: MatplotlibDeprecationWarning: The 'warn' parameter of use() is deprecated since Matplotlib 3.1 and will be removed in 3.3.  If any parameter follows 'warn', they should be pass as keyword, not positionally.\n",
      "  matplotlib.use('agg', warn=False)\n"
     ]
    },
    {
     "name": "stdout",
     "output_type": "stream",
     "text": [
      "=====================================================================\n",
      "Assignment: Homework 4: Functions and Histograms\n",
      "OK, version v1.18.1\n",
      "=====================================================================\n",
      "\n"
     ]
    }
   ],
   "source": [
    "# Run this cell to set up the notebook, but please don't change it.\n",
    "import numpy as np\n",
    "from datascience import *\n",
    "\n",
    "# These lines do some fancy plotting magic.\n",
    "import matplotlib\n",
    "%matplotlib inline\n",
    "import matplotlib.pyplot as plt\n",
    "plt.style.use('fivethirtyeight')\n",
    "import warnings\n",
    "warnings.simplefilter('ignore', FutureWarning)\n",
    "\n",
    "from client.api.assignment import load_assignment\n",
    "tests = load_assignment('hw04.ok')"
   ]
  },
  {
   "cell_type": "markdown",
   "metadata": {},
   "source": [
    "## 1. Predicting Temperatures\n"
   ]
  },
  {
   "cell_type": "markdown",
   "metadata": {},
   "source": [
    "In this exercise, we will try to predict the weather in California using the prediction method  discussed in [section 7.1 of the textbook](https://www.inferentialthinking.com/chapters/07/1/applying-a-function-to-a-column.html).  Much of the code is provided for you; you will be asked to understand and run the code and interpret the results.\n",
    "\n",
    "The US National Oceanic and Atmospheric Administration (NOAA) operates thousands of climate observation stations (mostly in the US) that collect information about local climate.  Among other things, each station records the highest and lowest observed temperature each day.  These data, called \"Quality Controlled Local Climatological Data,\" are publicly available [here](http://www.ncdc.noaa.gov/orders/qclcd/) and described [here](https://www.ncdc.noaa.gov/data-access/land-based-station-data/land-based-datasets/quality-controlled-local-climatological-data-qclcd).\n",
    "\n",
    "`temperatures.csv` contains an excerpt of that dataset.  Each row represents a temperature reading in Fahrenheit from one station on one day.  (The temperature is actually the highest temperature observed at that station on that day.)  All the readings are from 2015 and from California stations."
   ]
  },
  {
   "cell_type": "code",
   "execution_count": 2,
   "metadata": {},
   "outputs": [
    {
     "data": {
      "text/html": [
       "<table border=\"1\" class=\"dataframe\">\n",
       "    <thead>\n",
       "        <tr>\n",
       "            <th>Temperature</th> <th>Date</th> <th>Latitude</th> <th>Longitude</th> <th>Station name</th>\n",
       "        </tr>\n",
       "    </thead>\n",
       "    <tbody>\n",
       "        <tr>\n",
       "            <td>67         </td> <td>1013</td> <td>40.9781 </td> <td>-124.109 </td> <td>Arcata/Eureka</td>\n",
       "        </tr>\n",
       "        <tr>\n",
       "            <td>63         </td> <td>811 </td> <td>38.3208 </td> <td>-123.075 </td> <td>Bodega       </td>\n",
       "        </tr>\n",
       "        <tr>\n",
       "            <td>94         </td> <td>706 </td> <td>39.1019 </td> <td>-121.568 </td> <td>Marysville   </td>\n",
       "        </tr>\n",
       "        <tr>\n",
       "            <td>59         </td> <td>1211</td> <td>36.9358 </td> <td>-121.789 </td> <td>Watsonville  </td>\n",
       "        </tr>\n",
       "        <tr>\n",
       "            <td>111        </td> <td>620 </td> <td>32.8342 </td> <td>-115.579 </td> <td>Imperial     </td>\n",
       "        </tr>\n",
       "        <tr>\n",
       "            <td>88         </td> <td>821 </td> <td>33.9    </td> <td>-117.25  </td> <td>Riverside    </td>\n",
       "        </tr>\n",
       "        <tr>\n",
       "            <td>68         </td> <td>606 </td> <td>33.938  </td> <td>-118.389 </td> <td>Los Angeles  </td>\n",
       "        </tr>\n",
       "        <tr>\n",
       "            <td>66         </td> <td>205 </td> <td>37.2847 </td> <td>-120.513 </td> <td>Merced       </td>\n",
       "        </tr>\n",
       "        <tr>\n",
       "            <td>89         </td> <td>902 </td> <td>39.49   </td> <td>-121.618 </td> <td>Oroville     </td>\n",
       "        </tr>\n",
       "        <tr>\n",
       "            <td>105        </td> <td>728 </td> <td>34.8536 </td> <td>-116.786 </td> <td>Daggett      </td>\n",
       "        </tr>\n",
       "    </tbody>\n",
       "</table>\n",
       "<p>... (990 rows omitted)</p>"
      ],
      "text/plain": [
       "Temperature | Date | Latitude | Longitude | Station name\n",
       "67          | 1013 | 40.9781  | -124.109  | Arcata/Eureka\n",
       "63          | 811  | 38.3208  | -123.075  | Bodega\n",
       "94          | 706  | 39.1019  | -121.568  | Marysville\n",
       "59          | 1211 | 36.9358  | -121.789  | Watsonville\n",
       "111         | 620  | 32.8342  | -115.579  | Imperial\n",
       "88          | 821  | 33.9     | -117.25   | Riverside\n",
       "68          | 606  | 33.938   | -118.389  | Los Angeles\n",
       "66          | 205  | 37.2847  | -120.513  | Merced\n",
       "89          | 902  | 39.49    | -121.618  | Oroville\n",
       "105         | 728  | 34.8536  | -116.786  | Daggett\n",
       "... (990 rows omitted)"
      ]
     },
     "execution_count": 2,
     "metadata": {},
     "output_type": "execute_result"
    }
   ],
   "source": [
    "temperatures = Table.read_table(\"temperatures.csv\")\n",
    "temperatures"
   ]
  },
  {
   "cell_type": "markdown",
   "metadata": {},
   "source": [
    "Here is a scatter plot:"
   ]
  },
  {
   "cell_type": "code",
   "execution_count": 3,
   "metadata": {},
   "outputs": [
    {
     "data": {
      "image/png": "[encoded data removed]",
      "text/plain": [
       "<Figure size 360x360 with 1 Axes>"
      ]
     },
     "metadata": {},
     "output_type": "display_data"
    }
   ],
   "source": [
    "temperatures.scatter(\"Date\", \"Temperature\")"
   ]
  },
  {
   "cell_type": "markdown",
   "metadata": {},
   "source": [
    "Each entry in the column \"Date\" is a number in MMDD format, meaning that the last two digits denote the day of the month, and the first 1 or 2 digits denote the month.\n",
    "\n",
    "**Question 1.** Why do the data form vertical bands with gaps?"
   ]
  },
  {
   "cell_type": "markdown",
   "metadata": {},
   "source": [
    "*Because there is only 30 days.*"
   ]
  },
  {
   "cell_type": "markdown",
   "metadata": {},
   "source": [
    "Let us solve that problem.  We will convert each date to the number of days since the start of the year."
   ]
  },
  {
   "cell_type": "code",
   "execution_count": 8,
   "metadata": {},
   "outputs": [
    {
     "data": {
      "text/html": [
       "<table border=\"1\" class=\"dataframe\">\n",
       "    <thead>\n",
       "        <tr>\n",
       "            <th>Temperature</th> <th>Date</th> <th>Latitude</th> <th>Longitude</th> <th>Station name</th> <th>Days since start of year</th>\n",
       "        </tr>\n",
       "    </thead>\n",
       "    <tbody>\n",
       "        <tr>\n",
       "            <td>67         </td> <td>1013</td> <td>40.9781 </td> <td>-124.109 </td> <td>Arcata/Eureka</td> <td>286                     </td>\n",
       "        </tr>\n",
       "        <tr>\n",
       "            <td>63         </td> <td>811 </td> <td>38.3208 </td> <td>-123.075 </td> <td>Bodega       </td> <td>223                     </td>\n",
       "        </tr>\n",
       "        <tr>\n",
       "            <td>94         </td> <td>706 </td> <td>39.1019 </td> <td>-121.568 </td> <td>Marysville   </td> <td>187                     </td>\n",
       "        </tr>\n",
       "        <tr>\n",
       "            <td>59         </td> <td>1211</td> <td>36.9358 </td> <td>-121.789 </td> <td>Watsonville  </td> <td>345                     </td>\n",
       "        </tr>\n",
       "        <tr>\n",
       "            <td>111        </td> <td>620 </td> <td>32.8342 </td> <td>-115.579 </td> <td>Imperial     </td> <td>171                     </td>\n",
       "        </tr>\n",
       "        <tr>\n",
       "            <td>88         </td> <td>821 </td> <td>33.9    </td> <td>-117.25  </td> <td>Riverside    </td> <td>233                     </td>\n",
       "        </tr>\n",
       "        <tr>\n",
       "            <td>68         </td> <td>606 </td> <td>33.938  </td> <td>-118.389 </td> <td>Los Angeles  </td> <td>157                     </td>\n",
       "        </tr>\n",
       "        <tr>\n",
       "            <td>66         </td> <td>205 </td> <td>37.2847 </td> <td>-120.513 </td> <td>Merced       </td> <td>36                      </td>\n",
       "        </tr>\n",
       "        <tr>\n",
       "            <td>89         </td> <td>902 </td> <td>39.49   </td> <td>-121.618 </td> <td>Oroville     </td> <td>245                     </td>\n",
       "        </tr>\n",
       "        <tr>\n",
       "            <td>105        </td> <td>728 </td> <td>34.8536 </td> <td>-116.786 </td> <td>Daggett      </td> <td>209                     </td>\n",
       "        </tr>\n",
       "    </tbody>\n",
       "</table>\n",
       "<p>... (990 rows omitted)</p>"
      ],
      "text/plain": [
       "Temperature | Date | Latitude | Longitude | Station name  | Days since start of year\n",
       "67          | 1013 | 40.9781  | -124.109  | Arcata/Eureka | 286\n",
       "63          | 811  | 38.3208  | -123.075  | Bodega        | 223\n",
       "94          | 706  | 39.1019  | -121.568  | Marysville    | 187\n",
       "59          | 1211 | 36.9358  | -121.789  | Watsonville   | 345\n",
       "111         | 620  | 32.8342  | -115.579  | Imperial      | 171\n",
       "88          | 821  | 33.9     | -117.25   | Riverside     | 233\n",
       "68          | 606  | 33.938   | -118.389  | Los Angeles   | 157\n",
       "66          | 205  | 37.2847  | -120.513  | Merced        | 36\n",
       "89          | 902  | 39.49    | -121.618  | Oroville      | 245\n",
       "105         | 728  | 34.8536  | -116.786  | Daggett       | 209\n",
       "... (990 rows omitted)"
      ]
     },
     "execution_count": 8,
     "metadata": {},
     "output_type": "execute_result"
    }
   ],
   "source": [
    "def get_month(date):\n",
    "    \"\"\"The month in the year for a given date.\n",
    "    \n",
    "    >>> get_month(315)\n",
    "    3\n",
    "    \"\"\"\n",
    "    return int(date / 100)\n",
    "\n",
    "def get_day_in_month(date):\n",
    "    \"\"\"The day in the month for a given date.\n",
    "    \n",
    "    >>> get_day_in_month(315)\n",
    "    15\n",
    "    \"\"\"\n",
    "    return date % 100\n",
    "\n",
    "DAYS_IN_MONTHS = Table().with_columns(\n",
    "    \"Month\", np.arange(1, 12+1),\n",
    "    \"Days in Month\", make_array(31, 28, 31, 30, 31, 30, 31, 31, 30, 31, 30, 31))\n",
    "\n",
    "# A table with one row for each month.  For each month, we have\n",
    "# the number of the month (e.g. 3 for March), the number of\n",
    "# days in that month in 2015 (e.g. 31 for March), and the\n",
    "# number of days in the year before the first day of that month\n",
    "# (e.g. 0 for January or 59 for March).\n",
    "DAYS_SINCE_YEAR_START = DAYS_IN_MONTHS.with_column(\n",
    "    \"Days since start of year\", np.cumsum(DAYS_IN_MONTHS.column(\"Days in Month\")) - DAYS_IN_MONTHS.column(\"Days in Month\"))\n",
    "\n",
    "def days_since_year_start(month):\n",
    "    \"\"\"The number of days in the year before this month starts.\n",
    "    \n",
    "    month should be the number of a month, like 3 for March.\n",
    "    \n",
    "    >>> days_since_year_start(3)\n",
    "    59\n",
    "    \"\"\"\n",
    "    return DAYS_SINCE_YEAR_START.where(\"Month\", are.equal_to(month))\\\n",
    "                                .column(\"Days since start of year\")\\\n",
    "                                .item(0)\n",
    "\n",
    "# First, extract the month and day for each reading.\n",
    "with_month_and_day = temperatures.with_columns(\n",
    "    \"Month\", temperatures.apply(get_month, \"Date\"),\n",
    "    \"Day in month\", temperatures.apply(get_day_in_month, \"Date\"))\n",
    "# Compute the days-since-year-start for each month and day.\n",
    "fixed_dates = with_month_and_day.apply(days_since_year_start, \"Month\") + with_month_and_day.column(\"Day in month\")\n",
    "# Add those to the table.\n",
    "with_dates_fixed = with_month_and_day.with_column(\"Days since start of year\", fixed_dates).drop(\"Month\", \"Day in month\")\n",
    "with_dates_fixed"
   ]
  },
  {
   "cell_type": "markdown",
   "metadata": {},
   "source": [
    "**Question 2.** In the cell above, what is the value of this expression?\n",
    "\n",
    "    np.cumsum(DAYS_IN_MONTHS.column(\"Days in Month\")) - DAYS_IN_MONTHS.column(\"Days in Month\")\n",
    "    \n",
    "Describe its type and what its value (or the values in it, if it's an array or table) means.\n",
    "\n",
    "*Hint:* You can write `np.cumsum?` to get documentation for the function `cumsum`."
   ]
  },
  {
   "cell_type": "code",
   "execution_count": 9,
   "metadata": {
    "for_assignment_type": "student"
   },
   "outputs": [
    {
     "data": {
      "text/plain": [
       "array([  0,  31,  59,  90, 120, 151, 181, 212, 243, 273, 304, 334])"
      ]
     },
     "execution_count": 9,
     "metadata": {},
     "output_type": "execute_result"
    }
   ],
   "source": [
    "# You can write code in this cell to help you answer this\n",
    "# question, if you want to.\n",
    "np.cumsum(DAYS_IN_MONTHS.column(\"Days in Month\")) - DAYS_IN_MONTHS.column(\"Days in Month\")"
   ]
  },
  {
   "cell_type": "markdown",
   "metadata": {},
   "source": [
    "*The day accumulated in each day.*"
   ]
  },
  {
   "cell_type": "markdown",
   "metadata": {},
   "source": [
    "Now we can make a better scatter plot."
   ]
  },
  {
   "cell_type": "code",
   "execution_count": 10,
   "metadata": {},
   "outputs": [
    {
     "data": {
      "image/png": "[encoded data removed]",
      "text/plain": [
       "<Figure size 360x360 with 1 Axes>"
      ]
     },
     "metadata": {},
     "output_type": "display_data"
    }
   ],
   "source": [
    "with_dates_fixed.scatter(\"Days since start of year\", \"Temperature\")"
   ]
  },
  {
   "cell_type": "markdown",
   "metadata": {},
   "source": [
    "Let's do some prediction.  For any reading on any day, we will predict its value using all the readings from the week before and after that day.  A reasonable prediction is that the reading will be the average of all those readings.  We will package our code in a function."
   ]
  },
  {
   "cell_type": "code",
   "execution_count": 11,
   "metadata": {},
   "outputs": [],
   "source": [
    "PREDICTION_RADIUS = 7\n",
    "\n",
    "def predict_temperature(day):\n",
    "    \"\"\"A prediction of the temperature (in Fahrenheit) on a given day at some station.\n",
    "    \"\"\"\n",
    "    nearby_readings = with_dates_fixed.where(\"Days since start of year\", are.between_or_equal_to(day - PREDICTION_RADIUS, day + PREDICTION_RADIUS))\n",
    "    return np.average(nearby_readings.column(\"Temperature\"))"
   ]
  },
  {
   "cell_type": "markdown",
   "metadata": {},
   "source": [
    "**Question 3.** Suppose you're planning a trip to Yosemite for Thanksgiving break this year, and you'd like to predict the temperature on November 26 (the Saturday after Thanksgiving). Use `predict_temperature` to compute a prediction for a temperature reading on that day.\n",
    "\n",
    "*Hint:* In addition to `predict_temperature`, another function we wrote earlier will be helpful."
   ]
  },
  {
   "cell_type": "code",
   "execution_count": 17,
   "metadata": {},
   "outputs": [
    {
     "data": {
      "text/plain": [
       "64.31914893617021"
      ]
     },
     "execution_count": 17,
     "metadata": {},
     "output_type": "execute_result"
    }
   ],
   "source": [
    "thanksgiving_prediction = predict_temperature(days_since_year_start(11) + 26)\n",
    "thanksgiving_prediction"
   ]
  },
  {
   "cell_type": "code",
   "execution_count": 18,
   "metadata": {},
   "outputs": [
    {
     "name": "stdout",
     "output_type": "stream",
     "text": [
      "~~~~~~~~~~~~~~~~~~~~~~~~~~~~~~~~~~~~~~~~~~~~~~~~~~~~~~~~~~~~~~~~~~~~~\n",
      "Running tests\n",
      "\n",
      "---------------------------------------------------------------------\n",
      "Test summary\n",
      "    Passed: 1\n",
      "    Failed: 0\n",
      "[ooooooooook] 100.0% passed\n",
      "\n"
     ]
    }
   ],
   "source": [
    "_ = tests.grade('q1_3')"
   ]
  },
  {
   "cell_type": "markdown",
   "metadata": {},
   "source": [
    "Below we have computed a predicted temperature for each reading in the table and plotted both.  (It may take a **minute or two** to run the cell.)"
   ]
  },
  {
   "cell_type": "code",
   "execution_count": 19,
   "metadata": {},
   "outputs": [
    {
     "data": {
      "image/png": "[encoded data removed]",
      "text/plain": [
       "<Figure size 360x360 with 1 Axes>"
      ]
     },
     "metadata": {},
     "output_type": "display_data"
    }
   ],
   "source": [
    "with_predictions = with_dates_fixed.with_column(\n",
    "    \"Predicted temperature\",\n",
    "    with_dates_fixed.apply(predict_temperature, \"Days since start of year\"))\n",
    "with_predictions.select(\"Days since start of year\", \"Temperature\", \"Predicted temperature\")\\\n",
    "                .scatter(\"Days since start of year\")"
   ]
  },
  {
   "cell_type": "markdown",
   "metadata": {},
   "source": [
    "**Question 4.** How many times was the first line of the body of the function `predict_temperature` (the one that starts with `nearby_readings = ...`) executed when you ran the cell above?"
   ]
  },
  {
   "cell_type": "markdown",
   "metadata": {},
   "source": [
    "*with_dates_fixed.num_rows*"
   ]
  },
  {
   "cell_type": "markdown",
   "metadata": {},
   "source": [
    "**Question 5.** The scatter plot is called a *graph of averages*.  In the [example in the textbook](https://www.inferentialthinking.com/chapters/07/1/applying-a-function-to-a-column.html#Example:-Prediction), the graph of averages roughly followed a straight line.  Is that true for this one?  Using your knowledge about the weather, explain why or why not."
   ]
  },
  {
   "cell_type": "markdown",
   "metadata": {},
   "source": [
    "*No. the weather has changed in a period*"
   ]
  },
  {
   "cell_type": "markdown",
   "metadata": {},
   "source": [
    "**Question 6.** According to the [Wikipedia article](https://en.wikipedia.org/wiki/Climate_of_California) on California's climate, \"[t]he climate of California varies widely, from hot desert to subarctic.\"  Suppose we limited our data to weather stations in a smaller area whose climate varied less from place to place (for example, the state of Vermont, or the San Francisco Bay Area).  If we made the same graph for that dataset, in what ways would you expect it to look different?"
   ]
  },
  {
   "cell_type": "markdown",
   "metadata": {},
   "source": [
    "*Write your answer here, replacing this text.*"
   ]
  },
  {
   "cell_type": "markdown",
   "metadata": {},
   "source": [
    "## 2. Reading Documents\n"
   ]
  },
  {
   "cell_type": "markdown",
   "metadata": {},
   "source": [
    "Often, we have to work with data that aren't in CSV format, but instead come in some less nice form.  In this exercise, we'll look at the text of some Reuters news reports from 1987.  Our dataset doesn't include *all* the news reports from that year, but it includes 1,000 of them.  Reuters doesn't say how the articles were selected.\n",
    "\n",
    "We've put the text of all the articles in a file called `reuters.txt`.  The cell below loads that file into a single big string and prints a few thousand characters, which is just enough to see one full article and the start of the next.  (Don't try to print the whole thing, because it's very long.)"
   ]
  },
  {
   "cell_type": "code",
   "execution_count": 28,
   "metadata": {},
   "outputs": [
    {
     "name": "stdout",
     "output_type": "stream",
     "text": [
      "<reuters cgisplit=\"PUBLISHED-TESTSET\" lewissplit=\"NOT-USED\" newid=\"12603\" oldid=\"21460\" topics=\"YES\">\n",
      "<date> 2-APR-1987 11:11:23.62</date>\n",
      "<topics><d>livestock</d><d>carcass</d><d>trade</d></topics>\n",
      "<places><d>usa</d><d>japan</d></places>\n",
      "<people><d>lyng</d></people>\n",
      "<orgs></orgs>\n",
      "<exchanges></exchanges>\n",
      "<companies></companies>\n",
      "<unknown> \n",
      "C G L\n",
      "f1408reute\n",
      "u f BC-/LYNG-SETS-TOUGH-U.S.   04-02 0141</unknown>\n",
      "<text>\n",
      "<title>LYNG SETS TOUGH U.S. STANCE WITH JAPAN ON BEEF</title>\n",
      "<dateline>    WASHINGTON, April 2 - </dateline>U.S. Agriculture Secretary Richard\n",
      "Lyng warned Japan that the failure to remove a longstanding \n",
      "import quota on Japanese beef might spark a protectionist\n",
      "response in the United States.\n",
      "    \"Given the protectionist mood in the Congress and the\n",
      "country, if I were a leader in Japan I would certainly be very\n",
      "concerned...and the failure to remove it (the beef quota) might\n",
      "be very serious,\" Lyng told a group of U.S cattlemen.\n",
      "    Lyng said he and Trade Representative Clayton Yeutter,\n",
      "during a visit to Japan later this month, will demand \"total\n",
      "elimination\" of the beef import quota by April 1988.\n",
      "    The current dispute with Japan over semiconductor may\n",
      "strengthen the U.S. stance in farm trade negotiations, Lyng\n",
      "said, because Japan does not want a trade war with the U.S.\n",
      "    Lyng dismissed recent statements in Tokyo that Japan might\n",
      "retaliate against U.S. products as a result of the\n",
      "semiconductor dispute.\n",
      "    \"They (Japan) aren't going to pick a fight with us,\" Lyng\n",
      "said, adding that with its huge bilateral trade surplus Japan\n",
      "has more to lose in a trade war than the United States.\n",
      "    Lyng told the U.S. cattlemen that the quota on Japanese\n",
      "beef imports does not allow consumers there an adequate choice\n",
      "in food purchases.\n",
      "    He said in addition to beef, the U.S. will press for\n",
      "eliminiation of import barriers on Japan's citrus and rice as\n",
      "well.\n",
      "    Lyng noted that Japan is the largest buyer of U.S. farm\n",
      "products, principally grains and soybeans.\n",
      " Reuter\n",
      "</text>\n",
      "</reuters>***ARTICLE***<reuters cgisplit=\"TRAINING-SET\" lewissplit=\"TEST\" newid=\"19096\" oldid=\"6932\" topics=\"NO\">\n",
      "<date>19-JUN-1987 08:19:25.45</date>\n",
      "<topics></topics>\n",
      "<places><d>usa</d></places>\n",
      "<people></people>\n",
      "<orgs></orgs>\n",
      "<exchanges></exchanges>\n",
      "<companies></companies>\n",
      "<unknown> \n",
      "F \n",
      "f0606reute\n",
      "u f BC-DE-LAURENTIIS-COMPANI   06-19 0050</unknown>\n",
      "<text>\n",
      "<title>DE LAURENTIIS COMPANIES SEE LOSS ON FILM</title>\n",
      "<dateline>    LOS ANGELES, June 19 - </dateline>De Laurentiis Film Partners LP <DFP>\n",
      "and De Laurentiis Entertainment Group Inc <DEG> said they will\n",
      "take charges of five mln and 6,500,000 dlrs repsectively on\n",
      "their film \"Million Dollar Mystery\" due to disappointing box\n",
      "office results.\n",
      " Reuter\n",
      "</text>\n",
      "</reuters>***ARTICLE***<reuters cgisplit=\"TRAINING-SET\" lewissplit=\"TRAIN\" newid=\"3541\" oldid=\"8454\" topics=\"YES\">\n",
      "<date>11-MAR-1987 08:16:54.73</date>\n",
      "<topics><d>bop</d></topics>\n",
      "<places><d>portugal</d></places>\n",
      "<people></people>\n",
      "<orgs></orgs>\n",
      "<exchanges></exchanges>\n",
      "<companies></companies>\n",
      "<unknown> \n",
      "RM\n",
      "f0775reute\n",
      "u f BC-PORTUGUESE-TRADE-DEFI   03-11 0115</unknown>\n",
      "<text>\n",
      "<title>PORTUGUESE TRADE DEFICIT NARROWS IN 1986</title>\n",
      "<dateline>    LISBON, March 11 - </dateline>Portugal's trade deficit narrowed in\n",
      "1986 to 336.5 billion escudos from 354.8 billion in 1985,\n",
      "according to provisional National Statistics Institute figures.\n",
      "    Imports totalled 1,412.6 billion escudos and exports\n",
      "1,076.1 billion compared with 1,326.5 billion and 971.7 billion\n",
      "in 1985.\n",
      "    Expressed in terms of dollars, imports rose 21.2 pct and\n",
      "exports 26.1 pct and the trade deficit increased by 7.8 pct.\n",
      "    In its first year as a member of the European Community,\n",
      "Portugal recorded a deficit of 98.1 billion escudos in its\n",
      "trade with the other Community states compared with a deficit\n",
      "of 2.4 billion escudos in 1985.\n",
      "    Imports from the EC in 1986 totalled 830.2 billion escudos,\n",
      "while exports to the Community were 732.1 billion, compared\n",
      "with 609.5 billion and 607.1 billion the previous year.\n",
      "    Portugal's deficit with Spain was 83.2 billion escudos\n",
      "against 57.7 billion in 1985, with Italy it was 70.4 billion\n",
      "against 30.3 billion, and with West Germany 40.5 billion\n",
      "against 19.1 billion.\n",
      " REUTER\n",
      "</text>\n",
      "</reuters>***ARTICLE***<reuters cgisplit=\"TRAINING-SET\" lewissplit=\"TRAIN\" newid=\"10003\" oldid=\"15524\" topics=\"NO\">\n",
      "<date>26-MAR-1987 12:15:35.31</date>\n",
      "<topics></topics>\n",
      "<places><d>usa</d><d>uk</d><d>switzerland</d><d>belgium</d><d>luxembourg</d></places>\n",
      "<people></people>\n",
      "<orgs></orgs>\n",
      "<exchanges></exchanges>\n",
      "<companies></companies>\n",
      "<unknown> \n",
      "F\n",
      "f1735reute\n",
      "r f BC-BIOGEN-<BGNF>-GETS-PA   03-26 0103</unknown>\n",
      "<text>\n",
      "<title>BIOGEN <BGNF> GETS PATENT FROM EUROPEAN OFFICE</title>\n",
      "<dateline>    CAMBRIDGE, Mass., March 26 - </dateline>Biogen Inc said the European\n",
      "Patent Office granted it a patent covering certain proteins\n",
      "used to produce a hepatitis B vaccine through genetic\n",
      "engineering techniques.\n",
      "    Robert Gottlieb, Biogen spokesman, said the company has\n",
      "licensed the vacci\n",
      "[...]\n"
     ]
    }
   ],
   "source": [
    "# Just run this cell to load the dataset as one big string of text.\n",
    "with open('reuters.txt', 'r') as file:\n",
    "    big_reuters_string = file.read()\n",
    "\n",
    "print(\"{:.5000}\\n[...]\".format(big_reuters_string))"
   ]
  },
  {
   "cell_type": "markdown",
   "metadata": {},
   "source": [
    "There's a bunch of weird text for each article.  Each article is separated from its neighbors by the string `\"***ARTICLE***\"`.\n",
    "\n",
    "**Question 1.** Use the String method `split` to make an array of the text of all the articles.  That is, each entry of this array should be the text of one article.  Put that array in a new table called `reuters` as a column with the name \"Raw text\".\n",
    "\n",
    "*Hint:* When you split the articles correctly, you should see that each article starts with `\"<reuters...\"` and ends with `\"...</reuters>\"`.  There should be 1,000 articles.\n",
    "\n",
    "*Hint 2:* As an example, `\"steamcleaner\".split(\"ea\")` is the same as `make_array('st', 'mcl', 'ner')`.  So you want to split the big string that contains all the data, splitting with the text `\"***ARTICLE***\"`."
   ]
  },
  {
   "cell_type": "code",
   "execution_count": 62,
   "metadata": {},
   "outputs": [
    {
     "data": {
      "text/html": [
       "<table border=\"1\" class=\"dataframe\">\n",
       "    <thead>\n",
       "        <tr>\n",
       "            <th>Raw text</th>\n",
       "        </tr>\n",
       "    </thead>\n",
       "    <tbody>\n",
       "        <tr>\n",
       "            <td><reuters cgisplit=\"PUBLISHED-TESTSET\" lewissplit=\"NOT-US ...</td>\n",
       "        </tr>\n",
       "        <tr>\n",
       "            <td><reuters cgisplit=\"TRAINING-SET\" lewissplit=\"TEST\" newid ...</td>\n",
       "        </tr>\n",
       "        <tr>\n",
       "            <td><reuters cgisplit=\"TRAINING-SET\" lewissplit=\"TRAIN\" newi ...</td>\n",
       "        </tr>\n",
       "        <tr>\n",
       "            <td><reuters cgisplit=\"TRAINING-SET\" lewissplit=\"TRAIN\" newi ...</td>\n",
       "        </tr>\n",
       "        <tr>\n",
       "            <td><reuters cgisplit=\"PUBLISHED-TESTSET\" lewissplit=\"NOT-US ...</td>\n",
       "        </tr>\n",
       "        <tr>\n",
       "            <td><reuters cgisplit=\"TRAINING-SET\" lewissplit=\"TRAIN\" newi ...</td>\n",
       "        </tr>\n",
       "        <tr>\n",
       "            <td><reuters cgisplit=\"TRAINING-SET\" lewissplit=\"TRAIN\" newi ...</td>\n",
       "        </tr>\n",
       "        <tr>\n",
       "            <td><reuters cgisplit=\"TRAINING-SET\" lewissplit=\"TRAIN\" newi ...</td>\n",
       "        </tr>\n",
       "        <tr>\n",
       "            <td><reuters cgisplit=\"TRAINING-SET\" lewissplit=\"TRAIN\" newi ...</td>\n",
       "        </tr>\n",
       "        <tr>\n",
       "            <td><reuters cgisplit=\"TRAINING-SET\" lewissplit=\"TRAIN\" newi ...</td>\n",
       "        </tr>\n",
       "    </tbody>\n",
       "</table>\n",
       "<p>... (990 rows omitted)</p>"
      ],
      "text/plain": [
       "Raw text\n",
       "<reuters cgisplit=\"PUBLISHED-TESTSET\" lewissplit=\"NOT-US ...\n",
       "<reuters cgisplit=\"TRAINING-SET\" lewissplit=\"TEST\" newid ...\n",
       "<reuters cgisplit=\"TRAINING-SET\" lewissplit=\"TRAIN\" newi ...\n",
       "<reuters cgisplit=\"TRAINING-SET\" lewissplit=\"TRAIN\" newi ...\n",
       "<reuters cgisplit=\"PUBLISHED-TESTSET\" lewissplit=\"NOT-US ...\n",
       "<reuters cgisplit=\"TRAINING-SET\" lewissplit=\"TRAIN\" newi ...\n",
       "<reuters cgisplit=\"TRAINING-SET\" lewissplit=\"TRAIN\" newi ...\n",
       "<reuters cgisplit=\"TRAINING-SET\" lewissplit=\"TRAIN\" newi ...\n",
       "<reuters cgisplit=\"TRAINING-SET\" lewissplit=\"TRAIN\" newi ...\n",
       "<reuters cgisplit=\"TRAINING-SET\" lewissplit=\"TRAIN\" newi ...\n",
       "... (990 rows omitted)"
      ]
     },
     "execution_count": 62,
     "metadata": {},
     "output_type": "execute_result"
    }
   ],
   "source": [
    "reuters = Table().with_column(\n",
    "        \"Raw text\", big_reuters_string.split(\"***ARTICLE***\")\n",
    "    )\n",
    "reuters"
   ]
  },
  {
   "cell_type": "code",
   "execution_count": 63,
   "metadata": {},
   "outputs": [
    {
     "name": "stdout",
     "output_type": "stream",
     "text": [
      "~~~~~~~~~~~~~~~~~~~~~~~~~~~~~~~~~~~~~~~~~~~~~~~~~~~~~~~~~~~~~~~~~~~~~\n",
      "Running tests\n",
      "\n",
      "---------------------------------------------------------------------\n",
      "Test summary\n",
      "    Passed: 1\n",
      "    Failed: 0\n",
      "[ooooooooook] 100.0% passed\n",
      "\n"
     ]
    }
   ],
   "source": [
    "_ = tests.grade('q2_1')"
   ]
  },
  {
   "cell_type": "markdown",
   "metadata": {},
   "source": [
    "Each article has a line containing its title that looks something like this:\n",
    "\n",
    "    <title>LYNG SETS TOUGH U.S. STANCE WITH JAPAN ON BEEF</title>\n",
    "\n",
    "You could find that yourself for a few of the articles, but it would be very tedious to do it for all 1,000 articles.  So we'll write code to do it instead.\n",
    "\n",
    "**Question 2.** Below, we've written a function called `get_text_in_markers` that will help you find the title text for an article.  Use it to write a function called `get_title`, which is also documented below."
   ]
  },
  {
   "cell_type": "code",
   "execution_count": 66,
   "metadata": {},
   "outputs": [
    {
     "data": {
      "text/plain": [
       "'LYNG SETS TOUGH U.S. STANCE WITH JAPAN ON BEEF'"
      ]
     },
     "execution_count": 66,
     "metadata": {},
     "output_type": "execute_result"
    }
   ],
   "source": [
    "# This function is provided for you to use.  Read at least\n",
    "# its documentation (the stuff at the beginning in red).\n",
    "# You can also type in get_text_in_markers? somewhere and\n",
    "# run it to see the documentation in a slightly nicer form.\n",
    "# We haven't used any tools you haven't seen yet, so it\n",
    "# wouldn't hurt to read the code itself, too.\n",
    "def get_text_in_markers(text, marker):\n",
    "    \"\"\"Finds the part of a piece of text that's between specified markers.\n",
    "    \n",
    "    Parameters\n",
    "    ----------\n",
    "    text : str\n",
    "        The text in which you want to find something.\n",
    "    marker : str\n",
    "        The name of the marker that delimits the part of the\n",
    "        text you want to grab.  In the text itself, this string\n",
    "        will be surrounded by \"<>\" or \"</>\", but don't include\n",
    "        those angle brackets in this argument.\n",
    "    \n",
    "    Returns\n",
    "    -------\n",
    "    str\n",
    "        The parts of the text that are inside the markers.\n",
    "    \n",
    "    Examples\n",
    "    --------\n",
    "    >>> get_text_in_markers(\"stuff <interesting>yay exciting</interesting> more stuff\", \"interesting\")\n",
    "    'yay exciting'\n",
    "    \"\"\"\n",
    "    start_marker = \"<{}>\".format(marker)\n",
    "    end_marker = \"</{}>\".format(marker)\n",
    "    split_before = np.array(text.split(start_marker))\n",
    "    marker_text_and_after = split_before.item(1)\n",
    "    split_on_end_marker = np.array(marker_text_and_after.split(end_marker))\n",
    "    return split_on_end_marker.item(0)\n",
    "\n",
    "# Fill in this function.\n",
    "def get_title(article_text):\n",
    "    \"\"\"Takes the text of an article and returns its title.\"\"\"\n",
    "    return get_text_in_markers(article_text, \"title\")\n",
    "\n",
    "# When you're done, this should produce 'LYNG SETS TOUGH U.S. STANCE WITH JAPAN ON BEEF'.\n",
    "get_title(reuters.column(\"Raw text\").item(0))"
   ]
  },
  {
   "cell_type": "code",
   "execution_count": 67,
   "metadata": {},
   "outputs": [
    {
     "name": "stdout",
     "output_type": "stream",
     "text": [
      "~~~~~~~~~~~~~~~~~~~~~~~~~~~~~~~~~~~~~~~~~~~~~~~~~~~~~~~~~~~~~~~~~~~~~\n",
      "Running tests\n",
      "\n",
      "---------------------------------------------------------------------\n",
      "Test summary\n",
      "    Passed: 1\n",
      "    Failed: 0\n",
      "[ooooooooook] 100.0% passed\n",
      "\n"
     ]
    }
   ],
   "source": [
    "_ = tests.grade('q2_2')"
   ]
  },
  {
   "cell_type": "markdown",
   "metadata": {},
   "source": [
    "**Question 3.** Now use your function to find the title of every article in `reuters`.  Create a new table called `with_titles` that's a copy of `reuters` with an extra column named \"Title\" that contains these titles.\n",
    "\n",
    "*Note:* This might take a few seconds to run."
   ]
  },
  {
   "cell_type": "code",
   "execution_count": 70,
   "metadata": {},
   "outputs": [
    {
     "data": {
      "text/html": [
       "<table border=\"1\" class=\"dataframe\">\n",
       "    <thead>\n",
       "        <tr>\n",
       "            <th>Raw text</th> <th>Title</th>\n",
       "        </tr>\n",
       "    </thead>\n",
       "    <tbody>\n",
       "        <tr>\n",
       "            <td><reuters cgisplit=\"PUBLISHED-TESTSET\" lewissplit=\"NOT-US ...</td> <td>LYNG SETS TOUGH U.S. STANCE WITH JAPAN ON BEEF  </td>\n",
       "        </tr>\n",
       "        <tr>\n",
       "            <td><reuters cgisplit=\"TRAINING-SET\" lewissplit=\"TEST\" newid ...</td> <td>DE LAURENTIIS COMPANIES SEE LOSS ON FILM        </td>\n",
       "        </tr>\n",
       "        <tr>\n",
       "            <td><reuters cgisplit=\"TRAINING-SET\" lewissplit=\"TRAIN\" newi ...</td> <td>PORTUGUESE TRADE DEFICIT NARROWS IN 1986        </td>\n",
       "        </tr>\n",
       "        <tr>\n",
       "            <td><reuters cgisplit=\"TRAINING-SET\" lewissplit=\"TRAIN\" newi ...</td> <td>BIOGEN <BGNF> GETS PATENT FROM EUROPEAN OFFICE  </td>\n",
       "        </tr>\n",
       "        <tr>\n",
       "            <td><reuters cgisplit=\"PUBLISHED-TESTSET\" lewissplit=\"NOT-US ...</td> <td>DEFENSE CONTRACTOR BOOSTS BIRD <BIRD> STAKE     </td>\n",
       "        </tr>\n",
       "        <tr>\n",
       "            <td><reuters cgisplit=\"TRAINING-SET\" lewissplit=\"TRAIN\" newi ...</td> <td>MOODY'S MAY DOWNGRADE RESORTS INTERNATIONAL <RT></td>\n",
       "        </tr>\n",
       "        <tr>\n",
       "            <td><reuters cgisplit=\"TRAINING-SET\" lewissplit=\"TRAIN\" newi ...</td> <td>RECORD N.Z. FUTURES VOLUMES TRADED IN FEBRUARY  </td>\n",
       "        </tr>\n",
       "        <tr>\n",
       "            <td><reuters cgisplit=\"TRAINING-SET\" lewissplit=\"TRAIN\" newi ...</td> <td>SWISS SIGHT DEPOSITS RISE 743.7 MLN FRANCS      </td>\n",
       "        </tr>\n",
       "        <tr>\n",
       "            <td><reuters cgisplit=\"TRAINING-SET\" lewissplit=\"TRAIN\" newi ...</td> <td>IRAN SAYS IT INTENDS NO THREAT TO GULF SHIPPING </td>\n",
       "        </tr>\n",
       "        <tr>\n",
       "            <td><reuters cgisplit=\"TRAINING-SET\" lewissplit=\"TRAIN\" newi ...</td> <td>BUSINESSLAND <BUSL> COMPLETES OFFERING          </td>\n",
       "        </tr>\n",
       "    </tbody>\n",
       "</table>\n",
       "<p>... (990 rows omitted)</p>"
      ],
      "text/plain": [
       "Raw text                                                     | Title\n",
       "<reuters cgisplit=\"PUBLISHED-TESTSET\" lewissplit=\"NOT-US ... | LYNG SETS TOUGH U.S. STANCE WITH JAPAN ON BEEF\n",
       "<reuters cgisplit=\"TRAINING-SET\" lewissplit=\"TEST\" newid ... | DE LAURENTIIS COMPANIES SEE LOSS ON FILM\n",
       "<reuters cgisplit=\"TRAINING-SET\" lewissplit=\"TRAIN\" newi ... | PORTUGUESE TRADE DEFICIT NARROWS IN 1986\n",
       "<reuters cgisplit=\"TRAINING-SET\" lewissplit=\"TRAIN\" newi ... | BIOGEN <BGNF> GETS PATENT FROM EUROPEAN OFFICE\n",
       "<reuters cgisplit=\"PUBLISHED-TESTSET\" lewissplit=\"NOT-US ... | DEFENSE CONTRACTOR BOOSTS BIRD <BIRD> STAKE\n",
       "<reuters cgisplit=\"TRAINING-SET\" lewissplit=\"TRAIN\" newi ... | MOODY'S MAY DOWNGRADE RESORTS INTERNATIONAL <RT>\n",
       "<reuters cgisplit=\"TRAINING-SET\" lewissplit=\"TRAIN\" newi ... | RECORD N.Z. FUTURES VOLUMES TRADED IN FEBRUARY\n",
       "<reuters cgisplit=\"TRAINING-SET\" lewissplit=\"TRAIN\" newi ... | SWISS SIGHT DEPOSITS RISE 743.7 MLN FRANCS\n",
       "<reuters cgisplit=\"TRAINING-SET\" lewissplit=\"TRAIN\" newi ... | IRAN SAYS IT INTENDS NO THREAT TO GULF SHIPPING\n",
       "<reuters cgisplit=\"TRAINING-SET\" lewissplit=\"TRAIN\" newi ... | BUSINESSLAND <BUSL> COMPLETES OFFERING\n",
       "... (990 rows omitted)"
      ]
     },
     "execution_count": 70,
     "metadata": {},
     "output_type": "execute_result"
    }
   ],
   "source": [
    "with_titles = reuters.with_column(\n",
    "        \"Title\", reuters.apply(get_title, \"Raw text\")\n",
    "    )\n",
    "with_titles"
   ]
  },
  {
   "cell_type": "code",
   "execution_count": 71,
   "metadata": {},
   "outputs": [
    {
     "name": "stdout",
     "output_type": "stream",
     "text": [
      "~~~~~~~~~~~~~~~~~~~~~~~~~~~~~~~~~~~~~~~~~~~~~~~~~~~~~~~~~~~~~~~~~~~~~\n",
      "Running tests\n",
      "\n",
      "---------------------------------------------------------------------\n",
      "Test summary\n",
      "    Passed: 1\n",
      "    Failed: 0\n",
      "[ooooooooook] 100.0% passed\n",
      "\n"
     ]
    }
   ],
   "source": [
    "_ = tests.grade('q2_3')"
   ]
  },
  {
   "cell_type": "markdown",
   "metadata": {},
   "source": [
    "Now we'll go through a similar process to get the date of each article.  In each article, the date is on its own line, separated from the rest of the article by `<date>` and `</date>` markers.  You can check one of the articles for an example.\n",
    "\n",
    "**Question 4.** Write a function called `get_date`.  It should take as its argument the whole text of an article and return the date.  The date should be just the day of the year (so January 1 is day 1, and February 1 is day 32, since January has 31 days).  Note that all the articles are from the year 1987, so the year is irrelevant.\n",
    "\n",
    "We've written a function called `date_string_to_day` that will help you do this."
   ]
  },
  {
   "cell_type": "code",
   "execution_count": 72,
   "metadata": {},
   "outputs": [
    {
     "data": {
      "text/plain": [
       "92"
      ]
     },
     "execution_count": 72,
     "metadata": {},
     "output_type": "execute_result"
    }
   ],
   "source": [
    "# This function is provided for you to use.  Read at least\n",
    "# its documentation (the stuff at the beginning in red).\n",
    "def date_string_to_day(date_string):\n",
    "    \"\"\"Converts a string that looks like a date into the day of the year.\n",
    "    \n",
    "    Parameters\n",
    "    ----------\n",
    "    date_string : str\n",
    "        Text that contains a date in any reasonable format.\n",
    "        For example, \"September 13, 1994\" or \"9/13/94\" or\n",
    "        \"13-SEP-1994 15:02:20.00\" all work.\n",
    "    \n",
    "    Returns\n",
    "    -------\n",
    "    int\n",
    "        The day of the year that the date represents.\n",
    "    \n",
    "    Examples\n",
    "    --------\n",
    "    >>> date_string_to_day(\"January 3, 2016\")\n",
    "    3\n",
    "    \n",
    "    >>> date_string_to_day(\"February 4, 2000\")\n",
    "    35\n",
    "    \"\"\"\n",
    "    from dateutil import parser\n",
    "    import re\n",
    "    # Some of the Reuters dates have extraneous text at the end.\n",
    "    # This removes that text.\n",
    "    date_part = re.sub(\" [A-Z]*$\", \"\", date_string)\n",
    "    try:\n",
    "        date = parser.parse(date_part)\n",
    "    except:\n",
    "        print(\"Failed on\", date_string)\n",
    "    day_in_year = date.timetuple().tm_yday\n",
    "    return day_in_year\n",
    "\n",
    "# Fill in this function.\n",
    "def get_date(article_text):\n",
    "    date_text = get_text_in_markers(article_text, \"date\")\n",
    "    day_in_year = date_string_to_day(date_text)\n",
    "    return day_in_year\n",
    "\n",
    "# When you're done, this should produce 92.\n",
    "get_date(reuters.column(\"Raw text\").item(0))"
   ]
  },
  {
   "cell_type": "code",
   "execution_count": 73,
   "metadata": {},
   "outputs": [
    {
     "name": "stdout",
     "output_type": "stream",
     "text": [
      "~~~~~~~~~~~~~~~~~~~~~~~~~~~~~~~~~~~~~~~~~~~~~~~~~~~~~~~~~~~~~~~~~~~~~\n",
      "Running tests\n",
      "\n",
      "---------------------------------------------------------------------\n",
      "Test summary\n",
      "    Passed: 1\n",
      "    Failed: 0\n",
      "[ooooooooook] 100.0% passed\n",
      "\n"
     ]
    }
   ],
   "source": [
    "_ = tests.grade('q2_4')"
   ]
  },
  {
   "cell_type": "markdown",
   "metadata": {},
   "source": [
    "**Question 5.** Use your function to find the date of every article in `with_titles`. Create a new table called `with_dates` that's a copy of `with_titles` with an extra column named \"Date\" that contains the dates."
   ]
  },
  {
   "cell_type": "code",
   "execution_count": 75,
   "metadata": {},
   "outputs": [
    {
     "name": "stderr",
     "output_type": "stream",
     "text": [
      "/Users/chenshangheng/opt/anaconda3/lib/python3.8/site-packages/dateutil/parser/_parser.py:1213: UnknownTimezoneWarning: tzname F identified but not understood.  Pass `tzinfos` argument in order to correctly return a timezone-aware datetime.  In a future version, this will raise an exception.\n",
      "  warnings.warn(\"tzname {tzname} identified but not understood.  \"\n",
      "/Users/chenshangheng/opt/anaconda3/lib/python3.8/site-packages/dateutil/parser/_parser.py:1213: UnknownTimezoneWarning: tzname RM identified but not understood.  Pass `tzinfos` argument in order to correctly return a timezone-aware datetime.  In a future version, this will raise an exception.\n",
      "  warnings.warn(\"tzname {tzname} identified but not understood.  \"\n",
      "/Users/chenshangheng/opt/anaconda3/lib/python3.8/site-packages/dateutil/parser/_parser.py:1213: UnknownTimezoneWarning: tzname G identified but not understood.  Pass `tzinfos` argument in order to correctly return a timezone-aware datetime.  In a future version, this will raise an exception.\n",
      "  warnings.warn(\"tzname {tzname} identified but not understood.  \"\n",
      "/Users/chenshangheng/opt/anaconda3/lib/python3.8/site-packages/dateutil/parser/_parser.py:1213: UnknownTimezoneWarning: tzname V identified but not understood.  Pass `tzinfos` argument in order to correctly return a timezone-aware datetime.  In a future version, this will raise an exception.\n",
      "  warnings.warn(\"tzname {tzname} identified but not understood.  \"\n",
      "/Users/chenshangheng/opt/anaconda3/lib/python3.8/site-packages/dateutil/parser/_parser.py:1213: UnknownTimezoneWarning: tzname C identified but not understood.  Pass `tzinfos` argument in order to correctly return a timezone-aware datetime.  In a future version, this will raise an exception.\n",
      "  warnings.warn(\"tzname {tzname} identified but not understood.  \"\n"
     ]
    },
    {
     "data": {
      "text/html": [
       "<table border=\"1\" class=\"dataframe\">\n",
       "    <thead>\n",
       "        <tr>\n",
       "            <th>Raw text</th> <th>Title</th> <th>Date</th>\n",
       "        </tr>\n",
       "    </thead>\n",
       "    <tbody>\n",
       "        <tr>\n",
       "            <td><reuters cgisplit=\"PUBLISHED-TESTSET\" lewissplit=\"NOT-US ...</td> <td>LYNG SETS TOUGH U.S. STANCE WITH JAPAN ON BEEF  </td> <td>92  </td>\n",
       "        </tr>\n",
       "        <tr>\n",
       "            <td><reuters cgisplit=\"TRAINING-SET\" lewissplit=\"TEST\" newid ...</td> <td>DE LAURENTIIS COMPANIES SEE LOSS ON FILM        </td> <td>170 </td>\n",
       "        </tr>\n",
       "        <tr>\n",
       "            <td><reuters cgisplit=\"TRAINING-SET\" lewissplit=\"TRAIN\" newi ...</td> <td>PORTUGUESE TRADE DEFICIT NARROWS IN 1986        </td> <td>70  </td>\n",
       "        </tr>\n",
       "        <tr>\n",
       "            <td><reuters cgisplit=\"TRAINING-SET\" lewissplit=\"TRAIN\" newi ...</td> <td>BIOGEN <BGNF> GETS PATENT FROM EUROPEAN OFFICE  </td> <td>85  </td>\n",
       "        </tr>\n",
       "        <tr>\n",
       "            <td><reuters cgisplit=\"PUBLISHED-TESTSET\" lewissplit=\"NOT-US ...</td> <td>DEFENSE CONTRACTOR BOOSTS BIRD <BIRD> STAKE     </td> <td>92  </td>\n",
       "        </tr>\n",
       "        <tr>\n",
       "            <td><reuters cgisplit=\"TRAINING-SET\" lewissplit=\"TRAIN\" newi ...</td> <td>MOODY'S MAY DOWNGRADE RESORTS INTERNATIONAL <RT></td> <td>68  </td>\n",
       "        </tr>\n",
       "        <tr>\n",
       "            <td><reuters cgisplit=\"TRAINING-SET\" lewissplit=\"TRAIN\" newi ...</td> <td>RECORD N.Z. FUTURES VOLUMES TRADED IN FEBRUARY  </td> <td>61  </td>\n",
       "        </tr>\n",
       "        <tr>\n",
       "            <td><reuters cgisplit=\"TRAINING-SET\" lewissplit=\"TRAIN\" newi ...</td> <td>SWISS SIGHT DEPOSITS RISE 743.7 MLN FRANCS      </td> <td>82  </td>\n",
       "        </tr>\n",
       "        <tr>\n",
       "            <td><reuters cgisplit=\"TRAINING-SET\" lewissplit=\"TRAIN\" newi ...</td> <td>IRAN SAYS IT INTENDS NO THREAT TO GULF SHIPPING </td> <td>81  </td>\n",
       "        </tr>\n",
       "        <tr>\n",
       "            <td><reuters cgisplit=\"TRAINING-SET\" lewissplit=\"TRAIN\" newi ...</td> <td>BUSINESSLAND <BUSL> COMPLETES OFFERING          </td> <td>70  </td>\n",
       "        </tr>\n",
       "    </tbody>\n",
       "</table>\n",
       "<p>... (990 rows omitted)</p>"
      ],
      "text/plain": [
       "Raw text                                                     | Title                                            | Date\n",
       "<reuters cgisplit=\"PUBLISHED-TESTSET\" lewissplit=\"NOT-US ... | LYNG SETS TOUGH U.S. STANCE WITH JAPAN ON BEEF   | 92\n",
       "<reuters cgisplit=\"TRAINING-SET\" lewissplit=\"TEST\" newid ... | DE LAURENTIIS COMPANIES SEE LOSS ON FILM         | 170\n",
       "<reuters cgisplit=\"TRAINING-SET\" lewissplit=\"TRAIN\" newi ... | PORTUGUESE TRADE DEFICIT NARROWS IN 1986         | 70\n",
       "<reuters cgisplit=\"TRAINING-SET\" lewissplit=\"TRAIN\" newi ... | BIOGEN <BGNF> GETS PATENT FROM EUROPEAN OFFICE   | 85\n",
       "<reuters cgisplit=\"PUBLISHED-TESTSET\" lewissplit=\"NOT-US ... | DEFENSE CONTRACTOR BOOSTS BIRD <BIRD> STAKE      | 92\n",
       "<reuters cgisplit=\"TRAINING-SET\" lewissplit=\"TRAIN\" newi ... | MOODY'S MAY DOWNGRADE RESORTS INTERNATIONAL <RT> | 68\n",
       "<reuters cgisplit=\"TRAINING-SET\" lewissplit=\"TRAIN\" newi ... | RECORD N.Z. FUTURES VOLUMES TRADED IN FEBRUARY   | 61\n",
       "<reuters cgisplit=\"TRAINING-SET\" lewissplit=\"TRAIN\" newi ... | SWISS SIGHT DEPOSITS RISE 743.7 MLN FRANCS       | 82\n",
       "<reuters cgisplit=\"TRAINING-SET\" lewissplit=\"TRAIN\" newi ... | IRAN SAYS IT INTENDS NO THREAT TO GULF SHIPPING  | 81\n",
       "<reuters cgisplit=\"TRAINING-SET\" lewissplit=\"TRAIN\" newi ... | BUSINESSLAND <BUSL> COMPLETES OFFERING           | 70\n",
       "... (990 rows omitted)"
      ]
     },
     "execution_count": 75,
     "metadata": {},
     "output_type": "execute_result"
    }
   ],
   "source": [
    "with_dates =with_titles.with_column(\n",
    "        \"Date\", with_titles.apply(get_date, \"Raw text\")\n",
    "    )\n",
    "with_dates"
   ]
  },
  {
   "cell_type": "code",
   "execution_count": 76,
   "metadata": {},
   "outputs": [
    {
     "name": "stdout",
     "output_type": "stream",
     "text": [
      "~~~~~~~~~~~~~~~~~~~~~~~~~~~~~~~~~~~~~~~~~~~~~~~~~~~~~~~~~~~~~~~~~~~~~\n",
      "Running tests\n",
      "\n",
      "---------------------------------------------------------------------\n",
      "Test summary\n",
      "    Passed: 1\n",
      "    Failed: 0\n",
      "[ooooooooook] 100.0% passed\n",
      "\n"
     ]
    }
   ],
   "source": [
    "_ = tests.grade('q2_5')"
   ]
  },
  {
   "cell_type": "markdown",
   "metadata": {},
   "source": [
    "**Question 6.** There was a series of earthquakes in Ecuador on March 6, 1987.  Most Reuters news stories about Ecuador from that period were related to the earthquake or its political and economic consequences.  Find out when Reuters reported on the earthquake by making a histogram of all the dates of the articles whose *titles* include the word `\"ECUADOR\"`.  Use bins of width 3.\n",
    "\n",
    "*Hint:* The function `are.containing` creates a predicate that matches strings that contain a given string.  You can find its documentation by running `are.containing?`."
   ]
  },
  {
   "cell_type": "code",
   "execution_count": 80,
   "metadata": {},
   "outputs": [
    {
     "ename": "AttributeError",
     "evalue": "'Rectangle' object has no property 'bin'",
     "output_type": "error",
     "traceback": [
      "\u001b[0;31m---------------------------------------------------------------------------\u001b[0m",
      "\u001b[0;31mAttributeError\u001b[0m                            Traceback (most recent call last)",
      "\u001b[0;32m<ipython-input-80-75565f46489a>\u001b[0m in \u001b[0;36m<module>\u001b[0;34m\u001b[0m\n\u001b[1;32m      2\u001b[0m \u001b[0mbins\u001b[0m \u001b[0;34m=\u001b[0m \u001b[0mnp\u001b[0m\u001b[0;34m.\u001b[0m\u001b[0marange\u001b[0m\u001b[0;34m(\u001b[0m\u001b[0;36m0\u001b[0m\u001b[0;34m,\u001b[0m \u001b[0;36m375\u001b[0m\u001b[0;34m,\u001b[0m \u001b[0;36m3\u001b[0m\u001b[0;34m)\u001b[0m\u001b[0;34m\u001b[0m\u001b[0;34m\u001b[0m\u001b[0m\n\u001b[1;32m      3\u001b[0m \u001b[0;34m\u001b[0m\u001b[0m\n\u001b[0;32m----> 4\u001b[0;31m \u001b[0mwith_dates\u001b[0m\u001b[0;34m.\u001b[0m\u001b[0mwhere\u001b[0m\u001b[0;34m(\u001b[0m\u001b[0;34m\"Raw text\"\u001b[0m\u001b[0;34m,\u001b[0m \u001b[0mare\u001b[0m\u001b[0;34m.\u001b[0m\u001b[0mcontaining\u001b[0m\u001b[0;34m(\u001b[0m\u001b[0;34m\"ECUADOR\"\u001b[0m\u001b[0;34m)\u001b[0m\u001b[0;34m)\u001b[0m\u001b[0;34m.\u001b[0m\u001b[0mhist\u001b[0m\u001b[0;34m(\u001b[0m\u001b[0;34m\"Date\"\u001b[0m\u001b[0;34m,\u001b[0m \u001b[0mbin\u001b[0m\u001b[0;34m=\u001b[0m\u001b[0mbins\u001b[0m\u001b[0;34m)\u001b[0m\u001b[0;34m\u001b[0m\u001b[0;34m\u001b[0m\u001b[0m\n\u001b[0m",
      "\u001b[0;32m~/opt/anaconda3/lib/python3.8/site-packages/datascience/tables.py\u001b[0m in \u001b[0;36mhist\u001b[0;34m(self, overlay, bins, bin_column, unit, counts, group, side_by_side, left_end, right_end, width, height, *columns, **vargs)\u001b[0m\n\u001b[1;32m   2729\u001b[0m                         \u001b[0mtype\u001b[0m\u001b[0;34m(\u001b[0m\u001b[0mself\u001b[0m\u001b[0;34m)\u001b[0m\u001b[0;34m.\u001b[0m\u001b[0mplots\u001b[0m\u001b[0;34m.\u001b[0m\u001b[0mappend\u001b[0m\u001b[0;34m(\u001b[0m\u001b[0maxis\u001b[0m\u001b[0;34m)\u001b[0m\u001b[0;34m\u001b[0m\u001b[0;34m\u001b[0m\u001b[0m\n\u001b[1;32m   2730\u001b[0m \u001b[0;34m\u001b[0m\u001b[0m\n\u001b[0;32m-> 2731\u001b[0;31m         \u001b[0mdraw_hist\u001b[0m\u001b[0;34m(\u001b[0m\u001b[0mvalues_dict\u001b[0m\u001b[0;34m)\u001b[0m\u001b[0;34m\u001b[0m\u001b[0;34m\u001b[0m\u001b[0m\n\u001b[0m\u001b[1;32m   2732\u001b[0m \u001b[0;34m\u001b[0m\u001b[0m\n\u001b[1;32m   2733\u001b[0m     def hist_of_counts(self, *columns, overlay=True, bins=None, bin_column=None,\n",
      "\u001b[0;32m~/opt/anaconda3/lib/python3.8/site-packages/datascience/tables.py\u001b[0m in \u001b[0;36mdraw_hist\u001b[0;34m(values_dict)\u001b[0m\n\u001b[1;32m   2721\u001b[0m                             \u001b[0mvargs\u001b[0m\u001b[0;34m[\u001b[0m\u001b[0;34m'weights'\u001b[0m\u001b[0;34m]\u001b[0m \u001b[0;34m=\u001b[0m \u001b[0mweights\u001b[0m\u001b[0;34m[\u001b[0m\u001b[0mi\u001b[0m\u001b[0;34m]\u001b[0m\u001b[0;34m\u001b[0m\u001b[0;34m\u001b[0m\u001b[0m\n\u001b[1;32m   2722\u001b[0m                         \u001b[0maxis\u001b[0m\u001b[0;34m.\u001b[0m\u001b[0mset_xlabel\u001b[0m\u001b[0;34m(\u001b[0m\u001b[0mhist_name\u001b[0m \u001b[0;34m+\u001b[0m \u001b[0mx_unit\u001b[0m\u001b[0;34m,\u001b[0m \u001b[0mfontsize\u001b[0m\u001b[0;34m=\u001b[0m\u001b[0;36m16\u001b[0m\u001b[0;34m)\u001b[0m\u001b[0;34m\u001b[0m\u001b[0;34m\u001b[0m\u001b[0m\n\u001b[0;32m-> 2723\u001b[0;31m                         \u001b[0mheights\u001b[0m\u001b[0;34m,\u001b[0m \u001b[0mbins\u001b[0m\u001b[0;34m,\u001b[0m \u001b[0mpatches\u001b[0m \u001b[0;34m=\u001b[0m \u001b[0maxis\u001b[0m\u001b[0;34m.\u001b[0m\u001b[0mhist\u001b[0m\u001b[0;34m(\u001b[0m\u001b[0mvalues_for_hist\u001b[0m\u001b[0;34m,\u001b[0m \u001b[0mcolor\u001b[0m\u001b[0;34m=\u001b[0m\u001b[0mcolor\u001b[0m\u001b[0;34m,\u001b[0m \u001b[0;34m**\u001b[0m\u001b[0mvargs\u001b[0m\u001b[0;34m)\u001b[0m\u001b[0;34m\u001b[0m\u001b[0;34m\u001b[0m\u001b[0m\n\u001b[0m\u001b[1;32m   2724\u001b[0m                         \u001b[0;32mif\u001b[0m \u001b[0mleft_end\u001b[0m \u001b[0;32mis\u001b[0m \u001b[0;32mnot\u001b[0m \u001b[0;32mNone\u001b[0m \u001b[0;32mand\u001b[0m \u001b[0mright_end\u001b[0m \u001b[0;32mis\u001b[0m \u001b[0;32mnot\u001b[0m \u001b[0;32mNone\u001b[0m\u001b[0;34m:\u001b[0m\u001b[0;34m\u001b[0m\u001b[0;34m\u001b[0m\u001b[0m\n\u001b[1;32m   2725\u001b[0m                             \u001b[0mx_shade\u001b[0m\u001b[0;34m,\u001b[0m \u001b[0mheight_shade\u001b[0m\u001b[0;34m,\u001b[0m \u001b[0mwidth_shade\u001b[0m \u001b[0;34m=\u001b[0m \u001b[0m_compute_shading\u001b[0m\u001b[0;34m(\u001b[0m\u001b[0mheights\u001b[0m\u001b[0;34m,\u001b[0m \u001b[0mbins\u001b[0m\u001b[0;34m.\u001b[0m\u001b[0mcopy\u001b[0m\u001b[0;34m(\u001b[0m\u001b[0;34m)\u001b[0m\u001b[0;34m,\u001b[0m \u001b[0mleft_end\u001b[0m\u001b[0;34m,\u001b[0m \u001b[0mright_end\u001b[0m\u001b[0;34m)\u001b[0m\u001b[0;34m\u001b[0m\u001b[0;34m\u001b[0m\u001b[0m\n",
      "\u001b[0;32m~/opt/anaconda3/lib/python3.8/site-packages/matplotlib/__init__.py\u001b[0m in \u001b[0;36minner\u001b[0;34m(ax, data, *args, **kwargs)\u001b[0m\n\u001b[1;32m   1563\u001b[0m     \u001b[0;32mdef\u001b[0m \u001b[0minner\u001b[0m\u001b[0;34m(\u001b[0m\u001b[0max\u001b[0m\u001b[0;34m,\u001b[0m \u001b[0;34m*\u001b[0m\u001b[0margs\u001b[0m\u001b[0;34m,\u001b[0m \u001b[0mdata\u001b[0m\u001b[0;34m=\u001b[0m\u001b[0;32mNone\u001b[0m\u001b[0;34m,\u001b[0m \u001b[0;34m**\u001b[0m\u001b[0mkwargs\u001b[0m\u001b[0;34m)\u001b[0m\u001b[0;34m:\u001b[0m\u001b[0;34m\u001b[0m\u001b[0;34m\u001b[0m\u001b[0m\n\u001b[1;32m   1564\u001b[0m         \u001b[0;32mif\u001b[0m \u001b[0mdata\u001b[0m \u001b[0;32mis\u001b[0m \u001b[0;32mNone\u001b[0m\u001b[0;34m:\u001b[0m\u001b[0;34m\u001b[0m\u001b[0;34m\u001b[0m\u001b[0m\n\u001b[0;32m-> 1565\u001b[0;31m             \u001b[0;32mreturn\u001b[0m \u001b[0mfunc\u001b[0m\u001b[0;34m(\u001b[0m\u001b[0max\u001b[0m\u001b[0;34m,\u001b[0m \u001b[0;34m*\u001b[0m\u001b[0mmap\u001b[0m\u001b[0;34m(\u001b[0m\u001b[0msanitize_sequence\u001b[0m\u001b[0;34m,\u001b[0m \u001b[0margs\u001b[0m\u001b[0;34m)\u001b[0m\u001b[0;34m,\u001b[0m \u001b[0;34m**\u001b[0m\u001b[0mkwargs\u001b[0m\u001b[0;34m)\u001b[0m\u001b[0;34m\u001b[0m\u001b[0;34m\u001b[0m\u001b[0m\n\u001b[0m\u001b[1;32m   1566\u001b[0m \u001b[0;34m\u001b[0m\u001b[0m\n\u001b[1;32m   1567\u001b[0m         \u001b[0mbound\u001b[0m \u001b[0;34m=\u001b[0m \u001b[0mnew_sig\u001b[0m\u001b[0;34m.\u001b[0m\u001b[0mbind\u001b[0m\u001b[0;34m(\u001b[0m\u001b[0max\u001b[0m\u001b[0;34m,\u001b[0m \u001b[0;34m*\u001b[0m\u001b[0margs\u001b[0m\u001b[0;34m,\u001b[0m \u001b[0;34m**\u001b[0m\u001b[0mkwargs\u001b[0m\u001b[0;34m)\u001b[0m\u001b[0;34m\u001b[0m\u001b[0;34m\u001b[0m\u001b[0m\n",
      "\u001b[0;32m~/opt/anaconda3/lib/python3.8/site-packages/matplotlib/axes/_axes.py\u001b[0m in \u001b[0;36mhist\u001b[0;34m(self, x, bins, range, density, weights, cumulative, bottom, histtype, align, orientation, rwidth, log, color, label, stacked, **kwargs)\u001b[0m\n\u001b[1;32m   6817\u001b[0m             \u001b[0;32mif\u001b[0m \u001b[0mpatch\u001b[0m\u001b[0;34m:\u001b[0m\u001b[0;34m\u001b[0m\u001b[0;34m\u001b[0m\u001b[0m\n\u001b[1;32m   6818\u001b[0m                 \u001b[0mp\u001b[0m \u001b[0;34m=\u001b[0m \u001b[0mpatch\u001b[0m\u001b[0;34m[\u001b[0m\u001b[0;36m0\u001b[0m\u001b[0;34m]\u001b[0m\u001b[0;34m\u001b[0m\u001b[0;34m\u001b[0m\u001b[0m\n\u001b[0;32m-> 6819\u001b[0;31m                 \u001b[0mp\u001b[0m\u001b[0;34m.\u001b[0m\u001b[0mupdate\u001b[0m\u001b[0;34m(\u001b[0m\u001b[0mkwargs\u001b[0m\u001b[0;34m)\u001b[0m\u001b[0;34m\u001b[0m\u001b[0;34m\u001b[0m\u001b[0m\n\u001b[0m\u001b[1;32m   6820\u001b[0m                 \u001b[0;32mif\u001b[0m \u001b[0mlbl\u001b[0m \u001b[0;32mis\u001b[0m \u001b[0;32mnot\u001b[0m \u001b[0;32mNone\u001b[0m\u001b[0;34m:\u001b[0m\u001b[0;34m\u001b[0m\u001b[0;34m\u001b[0m\u001b[0m\n\u001b[1;32m   6821\u001b[0m                     \u001b[0mp\u001b[0m\u001b[0;34m.\u001b[0m\u001b[0mset_label\u001b[0m\u001b[0;34m(\u001b[0m\u001b[0mlbl\u001b[0m\u001b[0;34m)\u001b[0m\u001b[0;34m\u001b[0m\u001b[0;34m\u001b[0m\u001b[0m\n",
      "\u001b[0;32m~/opt/anaconda3/lib/python3.8/site-packages/matplotlib/artist.py\u001b[0m in \u001b[0;36mupdate\u001b[0;34m(self, props)\u001b[0m\n\u001b[1;32m   1004\u001b[0m \u001b[0;34m\u001b[0m\u001b[0m\n\u001b[1;32m   1005\u001b[0m         \u001b[0;32mwith\u001b[0m \u001b[0mcbook\u001b[0m\u001b[0;34m.\u001b[0m\u001b[0m_setattr_cm\u001b[0m\u001b[0;34m(\u001b[0m\u001b[0mself\u001b[0m\u001b[0;34m,\u001b[0m \u001b[0meventson\u001b[0m\u001b[0;34m=\u001b[0m\u001b[0;32mFalse\u001b[0m\u001b[0;34m)\u001b[0m\u001b[0;34m:\u001b[0m\u001b[0;34m\u001b[0m\u001b[0;34m\u001b[0m\u001b[0m\n\u001b[0;32m-> 1006\u001b[0;31m             \u001b[0mret\u001b[0m \u001b[0;34m=\u001b[0m \u001b[0;34m[\u001b[0m\u001b[0m_update_property\u001b[0m\u001b[0;34m(\u001b[0m\u001b[0mself\u001b[0m\u001b[0;34m,\u001b[0m \u001b[0mk\u001b[0m\u001b[0;34m,\u001b[0m \u001b[0mv\u001b[0m\u001b[0;34m)\u001b[0m \u001b[0;32mfor\u001b[0m \u001b[0mk\u001b[0m\u001b[0;34m,\u001b[0m \u001b[0mv\u001b[0m \u001b[0;32min\u001b[0m \u001b[0mprops\u001b[0m\u001b[0;34m.\u001b[0m\u001b[0mitems\u001b[0m\u001b[0;34m(\u001b[0m\u001b[0;34m)\u001b[0m\u001b[0;34m]\u001b[0m\u001b[0;34m\u001b[0m\u001b[0;34m\u001b[0m\u001b[0m\n\u001b[0m\u001b[1;32m   1007\u001b[0m \u001b[0;34m\u001b[0m\u001b[0m\n\u001b[1;32m   1008\u001b[0m         \u001b[0;32mif\u001b[0m \u001b[0mlen\u001b[0m\u001b[0;34m(\u001b[0m\u001b[0mret\u001b[0m\u001b[0;34m)\u001b[0m\u001b[0;34m:\u001b[0m\u001b[0;34m\u001b[0m\u001b[0;34m\u001b[0m\u001b[0m\n",
      "\u001b[0;32m~/opt/anaconda3/lib/python3.8/site-packages/matplotlib/artist.py\u001b[0m in \u001b[0;36m<listcomp>\u001b[0;34m(.0)\u001b[0m\n\u001b[1;32m   1004\u001b[0m \u001b[0;34m\u001b[0m\u001b[0m\n\u001b[1;32m   1005\u001b[0m         \u001b[0;32mwith\u001b[0m \u001b[0mcbook\u001b[0m\u001b[0;34m.\u001b[0m\u001b[0m_setattr_cm\u001b[0m\u001b[0;34m(\u001b[0m\u001b[0mself\u001b[0m\u001b[0;34m,\u001b[0m \u001b[0meventson\u001b[0m\u001b[0;34m=\u001b[0m\u001b[0;32mFalse\u001b[0m\u001b[0;34m)\u001b[0m\u001b[0;34m:\u001b[0m\u001b[0;34m\u001b[0m\u001b[0;34m\u001b[0m\u001b[0m\n\u001b[0;32m-> 1006\u001b[0;31m             \u001b[0mret\u001b[0m \u001b[0;34m=\u001b[0m \u001b[0;34m[\u001b[0m\u001b[0m_update_property\u001b[0m\u001b[0;34m(\u001b[0m\u001b[0mself\u001b[0m\u001b[0;34m,\u001b[0m \u001b[0mk\u001b[0m\u001b[0;34m,\u001b[0m \u001b[0mv\u001b[0m\u001b[0;34m)\u001b[0m \u001b[0;32mfor\u001b[0m \u001b[0mk\u001b[0m\u001b[0;34m,\u001b[0m \u001b[0mv\u001b[0m \u001b[0;32min\u001b[0m \u001b[0mprops\u001b[0m\u001b[0;34m.\u001b[0m\u001b[0mitems\u001b[0m\u001b[0;34m(\u001b[0m\u001b[0;34m)\u001b[0m\u001b[0;34m]\u001b[0m\u001b[0;34m\u001b[0m\u001b[0;34m\u001b[0m\u001b[0m\n\u001b[0m\u001b[1;32m   1007\u001b[0m \u001b[0;34m\u001b[0m\u001b[0m\n\u001b[1;32m   1008\u001b[0m         \u001b[0;32mif\u001b[0m \u001b[0mlen\u001b[0m\u001b[0;34m(\u001b[0m\u001b[0mret\u001b[0m\u001b[0;34m)\u001b[0m\u001b[0;34m:\u001b[0m\u001b[0;34m\u001b[0m\u001b[0;34m\u001b[0m\u001b[0m\n",
      "\u001b[0;32m~/opt/anaconda3/lib/python3.8/site-packages/matplotlib/artist.py\u001b[0m in \u001b[0;36m_update_property\u001b[0;34m(self, k, v)\u001b[0m\n\u001b[1;32m    999\u001b[0m                 \u001b[0mfunc\u001b[0m \u001b[0;34m=\u001b[0m \u001b[0mgetattr\u001b[0m\u001b[0;34m(\u001b[0m\u001b[0mself\u001b[0m\u001b[0;34m,\u001b[0m \u001b[0;34m'set_'\u001b[0m \u001b[0;34m+\u001b[0m \u001b[0mk\u001b[0m\u001b[0;34m,\u001b[0m \u001b[0;32mNone\u001b[0m\u001b[0;34m)\u001b[0m\u001b[0;34m\u001b[0m\u001b[0;34m\u001b[0m\u001b[0m\n\u001b[1;32m   1000\u001b[0m                 \u001b[0;32mif\u001b[0m \u001b[0;32mnot\u001b[0m \u001b[0mcallable\u001b[0m\u001b[0;34m(\u001b[0m\u001b[0mfunc\u001b[0m\u001b[0;34m)\u001b[0m\u001b[0;34m:\u001b[0m\u001b[0;34m\u001b[0m\u001b[0;34m\u001b[0m\u001b[0m\n\u001b[0;32m-> 1001\u001b[0;31m                     raise AttributeError('{!r} object has no property {!r}'\n\u001b[0m\u001b[1;32m   1002\u001b[0m                                          .format(type(self).__name__, k))\n\u001b[1;32m   1003\u001b[0m                 \u001b[0;32mreturn\u001b[0m \u001b[0mfunc\u001b[0m\u001b[0;34m(\u001b[0m\u001b[0mv\u001b[0m\u001b[0;34m)\u001b[0m\u001b[0;34m\u001b[0m\u001b[0;34m\u001b[0m\u001b[0m\n",
      "\u001b[0;31mAttributeError\u001b[0m: 'Rectangle' object has no property 'bin'"
     ]
    },
    {
     "data": {
      "image/png": "[encoded data removed]",
      "text/plain": [
       "<Figure size 432x288 with 1 Axes>"
      ]
     },
     "metadata": {},
     "output_type": "display_data"
    }
   ],
   "source": [
    "# Use these bins:\n",
    "bins = np.arange(0, 375, 3)\n",
    "\n",
    "with_dates.where(\"Raw text\", are.containing(\"ECUADOR\")).hist(\"Date\", bin=bins)"
   ]
  },
  {
   "cell_type": "markdown",
   "metadata": {},
   "source": [
    "**Question 7.** Make another histogram of the same data, but this time using different bins.  The first bin should start at day 0, and each bin should have a width of 10 days. Then, **using only your own inspection of the histogram (and no other Python code)**, estimate the proportion of Ecuador articles that were reported between days 50 and 100 of the year (including day 50 but not day 100). (The proportion should be out of the total number of articles whose titles include \"ECUADOR\".) Give that number the name `proportion_50_to_100`."
   ]
  },
  {
   "cell_type": "code",
   "execution_count": 83,
   "metadata": {},
   "outputs": [
    {
     "ename": "AttributeError",
     "evalue": "'Rectangle' object has no property 'bin'",
     "output_type": "error",
     "traceback": [
      "\u001b[0;31m---------------------------------------------------------------------------\u001b[0m",
      "\u001b[0;31mAttributeError\u001b[0m                            Traceback (most recent call last)",
      "\u001b[0;32m<ipython-input-83-ee9ff2976f02>\u001b[0m in \u001b[0;36m<module>\u001b[0;34m\u001b[0m\n\u001b[1;32m      2\u001b[0m \u001b[0;31m# bins described in the question.)\u001b[0m\u001b[0;34m\u001b[0m\u001b[0;34m\u001b[0m\u001b[0;34m\u001b[0m\u001b[0m\n\u001b[1;32m      3\u001b[0m \u001b[0mnew_bins\u001b[0m \u001b[0;34m=\u001b[0m \u001b[0mnp\u001b[0m\u001b[0;34m.\u001b[0m\u001b[0marange\u001b[0m\u001b[0;34m(\u001b[0m\u001b[0;36m0\u001b[0m\u001b[0;34m,\u001b[0m\u001b[0;36m375\u001b[0m \u001b[0;34m,\u001b[0m\u001b[0;36m10\u001b[0m\u001b[0;34m)\u001b[0m\u001b[0;34m\u001b[0m\u001b[0;34m\u001b[0m\u001b[0m\n\u001b[0;32m----> 4\u001b[0;31m \u001b[0mwith_dates\u001b[0m\u001b[0;34m.\u001b[0m\u001b[0mwhere\u001b[0m\u001b[0;34m(\u001b[0m\u001b[0;34m\"Raw text\"\u001b[0m\u001b[0;34m,\u001b[0m \u001b[0mare\u001b[0m\u001b[0;34m.\u001b[0m\u001b[0mcontaining\u001b[0m\u001b[0;34m(\u001b[0m\u001b[0;34m\"ECUADOR\"\u001b[0m\u001b[0;34m)\u001b[0m\u001b[0;34m)\u001b[0m\u001b[0;34m.\u001b[0m\u001b[0mhist\u001b[0m\u001b[0;34m(\u001b[0m\u001b[0;34m\"Date\"\u001b[0m\u001b[0;34m,\u001b[0m \u001b[0mbin\u001b[0m\u001b[0;34m=\u001b[0m\u001b[0mnew_bins\u001b[0m\u001b[0;34m)\u001b[0m\u001b[0;34m\u001b[0m\u001b[0;34m\u001b[0m\u001b[0m\n\u001b[0m\u001b[1;32m      5\u001b[0m \u001b[0;31m# By inspecting your histogram, estimate the proportion of\u001b[0m\u001b[0;34m\u001b[0m\u001b[0;34m\u001b[0m\u001b[0;34m\u001b[0m\u001b[0m\n\u001b[1;32m      6\u001b[0m \u001b[0;31m# Ecuador articles that were reported between days 50 and 100\u001b[0m\u001b[0;34m\u001b[0m\u001b[0;34m\u001b[0m\u001b[0;34m\u001b[0m\u001b[0m\n",
      "\u001b[0;32m~/opt/anaconda3/lib/python3.8/site-packages/datascience/tables.py\u001b[0m in \u001b[0;36mhist\u001b[0;34m(self, overlay, bins, bin_column, unit, counts, group, side_by_side, left_end, right_end, width, height, *columns, **vargs)\u001b[0m\n\u001b[1;32m   2729\u001b[0m                         \u001b[0mtype\u001b[0m\u001b[0;34m(\u001b[0m\u001b[0mself\u001b[0m\u001b[0;34m)\u001b[0m\u001b[0;34m.\u001b[0m\u001b[0mplots\u001b[0m\u001b[0;34m.\u001b[0m\u001b[0mappend\u001b[0m\u001b[0;34m(\u001b[0m\u001b[0maxis\u001b[0m\u001b[0;34m)\u001b[0m\u001b[0;34m\u001b[0m\u001b[0;34m\u001b[0m\u001b[0m\n\u001b[1;32m   2730\u001b[0m \u001b[0;34m\u001b[0m\u001b[0m\n\u001b[0;32m-> 2731\u001b[0;31m         \u001b[0mdraw_hist\u001b[0m\u001b[0;34m(\u001b[0m\u001b[0mvalues_dict\u001b[0m\u001b[0;34m)\u001b[0m\u001b[0;34m\u001b[0m\u001b[0;34m\u001b[0m\u001b[0m\n\u001b[0m\u001b[1;32m   2732\u001b[0m \u001b[0;34m\u001b[0m\u001b[0m\n\u001b[1;32m   2733\u001b[0m     def hist_of_counts(self, *columns, overlay=True, bins=None, bin_column=None,\n",
      "\u001b[0;32m~/opt/anaconda3/lib/python3.8/site-packages/datascience/tables.py\u001b[0m in \u001b[0;36mdraw_hist\u001b[0;34m(values_dict)\u001b[0m\n\u001b[1;32m   2721\u001b[0m                             \u001b[0mvargs\u001b[0m\u001b[0;34m[\u001b[0m\u001b[0;34m'weights'\u001b[0m\u001b[0;34m]\u001b[0m \u001b[0;34m=\u001b[0m \u001b[0mweights\u001b[0m\u001b[0;34m[\u001b[0m\u001b[0mi\u001b[0m\u001b[0;34m]\u001b[0m\u001b[0;34m\u001b[0m\u001b[0;34m\u001b[0m\u001b[0m\n\u001b[1;32m   2722\u001b[0m                         \u001b[0maxis\u001b[0m\u001b[0;34m.\u001b[0m\u001b[0mset_xlabel\u001b[0m\u001b[0;34m(\u001b[0m\u001b[0mhist_name\u001b[0m \u001b[0;34m+\u001b[0m \u001b[0mx_unit\u001b[0m\u001b[0;34m,\u001b[0m \u001b[0mfontsize\u001b[0m\u001b[0;34m=\u001b[0m\u001b[0;36m16\u001b[0m\u001b[0;34m)\u001b[0m\u001b[0;34m\u001b[0m\u001b[0;34m\u001b[0m\u001b[0m\n\u001b[0;32m-> 2723\u001b[0;31m                         \u001b[0mheights\u001b[0m\u001b[0;34m,\u001b[0m \u001b[0mbins\u001b[0m\u001b[0;34m,\u001b[0m \u001b[0mpatches\u001b[0m \u001b[0;34m=\u001b[0m \u001b[0maxis\u001b[0m\u001b[0;34m.\u001b[0m\u001b[0mhist\u001b[0m\u001b[0;34m(\u001b[0m\u001b[0mvalues_for_hist\u001b[0m\u001b[0;34m,\u001b[0m \u001b[0mcolor\u001b[0m\u001b[0;34m=\u001b[0m\u001b[0mcolor\u001b[0m\u001b[0;34m,\u001b[0m \u001b[0;34m**\u001b[0m\u001b[0mvargs\u001b[0m\u001b[0;34m)\u001b[0m\u001b[0;34m\u001b[0m\u001b[0;34m\u001b[0m\u001b[0m\n\u001b[0m\u001b[1;32m   2724\u001b[0m                         \u001b[0;32mif\u001b[0m \u001b[0mleft_end\u001b[0m \u001b[0;32mis\u001b[0m \u001b[0;32mnot\u001b[0m \u001b[0;32mNone\u001b[0m \u001b[0;32mand\u001b[0m \u001b[0mright_end\u001b[0m \u001b[0;32mis\u001b[0m \u001b[0;32mnot\u001b[0m \u001b[0;32mNone\u001b[0m\u001b[0;34m:\u001b[0m\u001b[0;34m\u001b[0m\u001b[0;34m\u001b[0m\u001b[0m\n\u001b[1;32m   2725\u001b[0m                             \u001b[0mx_shade\u001b[0m\u001b[0;34m,\u001b[0m \u001b[0mheight_shade\u001b[0m\u001b[0;34m,\u001b[0m \u001b[0mwidth_shade\u001b[0m \u001b[0;34m=\u001b[0m \u001b[0m_compute_shading\u001b[0m\u001b[0;34m(\u001b[0m\u001b[0mheights\u001b[0m\u001b[0;34m,\u001b[0m \u001b[0mbins\u001b[0m\u001b[0;34m.\u001b[0m\u001b[0mcopy\u001b[0m\u001b[0;34m(\u001b[0m\u001b[0;34m)\u001b[0m\u001b[0;34m,\u001b[0m \u001b[0mleft_end\u001b[0m\u001b[0;34m,\u001b[0m \u001b[0mright_end\u001b[0m\u001b[0;34m)\u001b[0m\u001b[0;34m\u001b[0m\u001b[0;34m\u001b[0m\u001b[0m\n",
      "\u001b[0;32m~/opt/anaconda3/lib/python3.8/site-packages/matplotlib/__init__.py\u001b[0m in \u001b[0;36minner\u001b[0;34m(ax, data, *args, **kwargs)\u001b[0m\n\u001b[1;32m   1563\u001b[0m     \u001b[0;32mdef\u001b[0m \u001b[0minner\u001b[0m\u001b[0;34m(\u001b[0m\u001b[0max\u001b[0m\u001b[0;34m,\u001b[0m \u001b[0;34m*\u001b[0m\u001b[0margs\u001b[0m\u001b[0;34m,\u001b[0m \u001b[0mdata\u001b[0m\u001b[0;34m=\u001b[0m\u001b[0;32mNone\u001b[0m\u001b[0;34m,\u001b[0m \u001b[0;34m**\u001b[0m\u001b[0mkwargs\u001b[0m\u001b[0;34m)\u001b[0m\u001b[0;34m:\u001b[0m\u001b[0;34m\u001b[0m\u001b[0;34m\u001b[0m\u001b[0m\n\u001b[1;32m   1564\u001b[0m         \u001b[0;32mif\u001b[0m \u001b[0mdata\u001b[0m \u001b[0;32mis\u001b[0m \u001b[0;32mNone\u001b[0m\u001b[0;34m:\u001b[0m\u001b[0;34m\u001b[0m\u001b[0;34m\u001b[0m\u001b[0m\n\u001b[0;32m-> 1565\u001b[0;31m             \u001b[0;32mreturn\u001b[0m \u001b[0mfunc\u001b[0m\u001b[0;34m(\u001b[0m\u001b[0max\u001b[0m\u001b[0;34m,\u001b[0m \u001b[0;34m*\u001b[0m\u001b[0mmap\u001b[0m\u001b[0;34m(\u001b[0m\u001b[0msanitize_sequence\u001b[0m\u001b[0;34m,\u001b[0m \u001b[0margs\u001b[0m\u001b[0;34m)\u001b[0m\u001b[0;34m,\u001b[0m \u001b[0;34m**\u001b[0m\u001b[0mkwargs\u001b[0m\u001b[0;34m)\u001b[0m\u001b[0;34m\u001b[0m\u001b[0;34m\u001b[0m\u001b[0m\n\u001b[0m\u001b[1;32m   1566\u001b[0m \u001b[0;34m\u001b[0m\u001b[0m\n\u001b[1;32m   1567\u001b[0m         \u001b[0mbound\u001b[0m \u001b[0;34m=\u001b[0m \u001b[0mnew_sig\u001b[0m\u001b[0;34m.\u001b[0m\u001b[0mbind\u001b[0m\u001b[0;34m(\u001b[0m\u001b[0max\u001b[0m\u001b[0;34m,\u001b[0m \u001b[0;34m*\u001b[0m\u001b[0margs\u001b[0m\u001b[0;34m,\u001b[0m \u001b[0;34m**\u001b[0m\u001b[0mkwargs\u001b[0m\u001b[0;34m)\u001b[0m\u001b[0;34m\u001b[0m\u001b[0;34m\u001b[0m\u001b[0m\n",
      "\u001b[0;32m~/opt/anaconda3/lib/python3.8/site-packages/matplotlib/axes/_axes.py\u001b[0m in \u001b[0;36mhist\u001b[0;34m(self, x, bins, range, density, weights, cumulative, bottom, histtype, align, orientation, rwidth, log, color, label, stacked, **kwargs)\u001b[0m\n\u001b[1;32m   6817\u001b[0m             \u001b[0;32mif\u001b[0m \u001b[0mpatch\u001b[0m\u001b[0;34m:\u001b[0m\u001b[0;34m\u001b[0m\u001b[0;34m\u001b[0m\u001b[0m\n\u001b[1;32m   6818\u001b[0m                 \u001b[0mp\u001b[0m \u001b[0;34m=\u001b[0m \u001b[0mpatch\u001b[0m\u001b[0;34m[\u001b[0m\u001b[0;36m0\u001b[0m\u001b[0;34m]\u001b[0m\u001b[0;34m\u001b[0m\u001b[0;34m\u001b[0m\u001b[0m\n\u001b[0;32m-> 6819\u001b[0;31m                 \u001b[0mp\u001b[0m\u001b[0;34m.\u001b[0m\u001b[0mupdate\u001b[0m\u001b[0;34m(\u001b[0m\u001b[0mkwargs\u001b[0m\u001b[0;34m)\u001b[0m\u001b[0;34m\u001b[0m\u001b[0;34m\u001b[0m\u001b[0m\n\u001b[0m\u001b[1;32m   6820\u001b[0m                 \u001b[0;32mif\u001b[0m \u001b[0mlbl\u001b[0m \u001b[0;32mis\u001b[0m \u001b[0;32mnot\u001b[0m \u001b[0;32mNone\u001b[0m\u001b[0;34m:\u001b[0m\u001b[0;34m\u001b[0m\u001b[0;34m\u001b[0m\u001b[0m\n\u001b[1;32m   6821\u001b[0m                     \u001b[0mp\u001b[0m\u001b[0;34m.\u001b[0m\u001b[0mset_label\u001b[0m\u001b[0;34m(\u001b[0m\u001b[0mlbl\u001b[0m\u001b[0;34m)\u001b[0m\u001b[0;34m\u001b[0m\u001b[0;34m\u001b[0m\u001b[0m\n",
      "\u001b[0;32m~/opt/anaconda3/lib/python3.8/site-packages/matplotlib/artist.py\u001b[0m in \u001b[0;36mupdate\u001b[0;34m(self, props)\u001b[0m\n\u001b[1;32m   1004\u001b[0m \u001b[0;34m\u001b[0m\u001b[0m\n\u001b[1;32m   1005\u001b[0m         \u001b[0;32mwith\u001b[0m \u001b[0mcbook\u001b[0m\u001b[0;34m.\u001b[0m\u001b[0m_setattr_cm\u001b[0m\u001b[0;34m(\u001b[0m\u001b[0mself\u001b[0m\u001b[0;34m,\u001b[0m \u001b[0meventson\u001b[0m\u001b[0;34m=\u001b[0m\u001b[0;32mFalse\u001b[0m\u001b[0;34m)\u001b[0m\u001b[0;34m:\u001b[0m\u001b[0;34m\u001b[0m\u001b[0;34m\u001b[0m\u001b[0m\n\u001b[0;32m-> 1006\u001b[0;31m             \u001b[0mret\u001b[0m \u001b[0;34m=\u001b[0m \u001b[0;34m[\u001b[0m\u001b[0m_update_property\u001b[0m\u001b[0;34m(\u001b[0m\u001b[0mself\u001b[0m\u001b[0;34m,\u001b[0m \u001b[0mk\u001b[0m\u001b[0;34m,\u001b[0m \u001b[0mv\u001b[0m\u001b[0;34m)\u001b[0m \u001b[0;32mfor\u001b[0m \u001b[0mk\u001b[0m\u001b[0;34m,\u001b[0m \u001b[0mv\u001b[0m \u001b[0;32min\u001b[0m \u001b[0mprops\u001b[0m\u001b[0;34m.\u001b[0m\u001b[0mitems\u001b[0m\u001b[0;34m(\u001b[0m\u001b[0;34m)\u001b[0m\u001b[0;34m]\u001b[0m\u001b[0;34m\u001b[0m\u001b[0;34m\u001b[0m\u001b[0m\n\u001b[0m\u001b[1;32m   1007\u001b[0m \u001b[0;34m\u001b[0m\u001b[0m\n\u001b[1;32m   1008\u001b[0m         \u001b[0;32mif\u001b[0m \u001b[0mlen\u001b[0m\u001b[0;34m(\u001b[0m\u001b[0mret\u001b[0m\u001b[0;34m)\u001b[0m\u001b[0;34m:\u001b[0m\u001b[0;34m\u001b[0m\u001b[0;34m\u001b[0m\u001b[0m\n",
      "\u001b[0;32m~/opt/anaconda3/lib/python3.8/site-packages/matplotlib/artist.py\u001b[0m in \u001b[0;36m<listcomp>\u001b[0;34m(.0)\u001b[0m\n\u001b[1;32m   1004\u001b[0m \u001b[0;34m\u001b[0m\u001b[0m\n\u001b[1;32m   1005\u001b[0m         \u001b[0;32mwith\u001b[0m \u001b[0mcbook\u001b[0m\u001b[0;34m.\u001b[0m\u001b[0m_setattr_cm\u001b[0m\u001b[0;34m(\u001b[0m\u001b[0mself\u001b[0m\u001b[0;34m,\u001b[0m \u001b[0meventson\u001b[0m\u001b[0;34m=\u001b[0m\u001b[0;32mFalse\u001b[0m\u001b[0;34m)\u001b[0m\u001b[0;34m:\u001b[0m\u001b[0;34m\u001b[0m\u001b[0;34m\u001b[0m\u001b[0m\n\u001b[0;32m-> 1006\u001b[0;31m             \u001b[0mret\u001b[0m \u001b[0;34m=\u001b[0m \u001b[0;34m[\u001b[0m\u001b[0m_update_property\u001b[0m\u001b[0;34m(\u001b[0m\u001b[0mself\u001b[0m\u001b[0;34m,\u001b[0m \u001b[0mk\u001b[0m\u001b[0;34m,\u001b[0m \u001b[0mv\u001b[0m\u001b[0;34m)\u001b[0m \u001b[0;32mfor\u001b[0m \u001b[0mk\u001b[0m\u001b[0;34m,\u001b[0m \u001b[0mv\u001b[0m \u001b[0;32min\u001b[0m \u001b[0mprops\u001b[0m\u001b[0;34m.\u001b[0m\u001b[0mitems\u001b[0m\u001b[0;34m(\u001b[0m\u001b[0;34m)\u001b[0m\u001b[0;34m]\u001b[0m\u001b[0;34m\u001b[0m\u001b[0;34m\u001b[0m\u001b[0m\n\u001b[0m\u001b[1;32m   1007\u001b[0m \u001b[0;34m\u001b[0m\u001b[0m\n\u001b[1;32m   1008\u001b[0m         \u001b[0;32mif\u001b[0m \u001b[0mlen\u001b[0m\u001b[0;34m(\u001b[0m\u001b[0mret\u001b[0m\u001b[0;34m)\u001b[0m\u001b[0;34m:\u001b[0m\u001b[0;34m\u001b[0m\u001b[0;34m\u001b[0m\u001b[0m\n",
      "\u001b[0;32m~/opt/anaconda3/lib/python3.8/site-packages/matplotlib/artist.py\u001b[0m in \u001b[0;36m_update_property\u001b[0;34m(self, k, v)\u001b[0m\n\u001b[1;32m    999\u001b[0m                 \u001b[0mfunc\u001b[0m \u001b[0;34m=\u001b[0m \u001b[0mgetattr\u001b[0m\u001b[0;34m(\u001b[0m\u001b[0mself\u001b[0m\u001b[0;34m,\u001b[0m \u001b[0;34m'set_'\u001b[0m \u001b[0;34m+\u001b[0m \u001b[0mk\u001b[0m\u001b[0;34m,\u001b[0m \u001b[0;32mNone\u001b[0m\u001b[0;34m)\u001b[0m\u001b[0;34m\u001b[0m\u001b[0;34m\u001b[0m\u001b[0m\n\u001b[1;32m   1000\u001b[0m                 \u001b[0;32mif\u001b[0m \u001b[0;32mnot\u001b[0m \u001b[0mcallable\u001b[0m\u001b[0;34m(\u001b[0m\u001b[0mfunc\u001b[0m\u001b[0;34m)\u001b[0m\u001b[0;34m:\u001b[0m\u001b[0;34m\u001b[0m\u001b[0;34m\u001b[0m\u001b[0m\n\u001b[0;32m-> 1001\u001b[0;31m                     raise AttributeError('{!r} object has no property {!r}'\n\u001b[0m\u001b[1;32m   1002\u001b[0m                                          .format(type(self).__name__, k))\n\u001b[1;32m   1003\u001b[0m                 \u001b[0;32mreturn\u001b[0m \u001b[0mfunc\u001b[0m\u001b[0;34m(\u001b[0m\u001b[0mv\u001b[0m\u001b[0;34m)\u001b[0m\u001b[0;34m\u001b[0m\u001b[0;34m\u001b[0m\u001b[0m\n",
      "\u001b[0;31mAttributeError\u001b[0m: 'Rectangle' object has no property 'bin'"
     ]
    },
    {
     "data": {
      "image/png": "[encoded data removed]",
      "text/plain": [
       "<Figure size 432x288 with 1 Axes>"
      ]
     },
     "metadata": {},
     "output_type": "display_data"
    }
   ],
   "source": [
    "# Make a histogram as described above.  (Be sure to use the\n",
    "# bins described in the question.)\n",
    "new_bins = np.arange(0,375 ,10)\n",
    "with_dates.where(\"Raw text\", are.containing(\"ECUADOR\")).hist(\"Date\", bin=new_bins)\n",
    "# By inspecting your histogram, estimate the proportion of\n",
    "# Ecuador articles that were reported between days 50 and 100\n",
    "# of the year.  (It's hard to get exactly the right answer\n",
    "# from a histogram like this, so it's okay if your answer is\n",
    "# off by a little bit.)\n",
    "proportion_50_to_100 = ..."
   ]
  },
  {
   "cell_type": "markdown",
   "metadata": {},
   "source": [
    "**Question 8.** Your histogram should show several long gaps in coverage about Ecuador during the year.  By exploring the dataset, try to explain this.  Use the code cell below for your explorations."
   ]
  },
  {
   "cell_type": "code",
   "execution_count": 85,
   "metadata": {
    "for_assignment_type": "student"
   },
   "outputs": [
    {
     "data": {
      "text/plain": [
       "array([ 57,  64,  64,  64,  65,  66,  68,  68,  68,  68,  70,  70,  70,\n",
       "        70,  70,  70,  70,  70,  71,  71,  71,  71,  72,  72,  72,  72,\n",
       "        73,  73,  74,  75,  75,  76,  77,  78,  78,  78,  78,  82,  84,\n",
       "        84,  84,  85,  85,  90,  99,  99, 103, 113, 114, 166, 169, 180,\n",
       "       180, 292, 292, 293, 293])"
      ]
     },
     "execution_count": 85,
     "metadata": {},
     "output_type": "execute_result"
    }
   ],
   "source": [
    "# Use this cell to answer the question.\n",
    "with_dates.where(\"Raw text\", are.containing(\"ECUADOR\")).sort(\"Date\").column(\"Date\")"
   ]
  },
  {
   "cell_type": "markdown",
   "metadata": {},
   "source": [
    "*There are some gaps between the date.*"
   ]
  },
  {
   "cell_type": "markdown",
   "metadata": {},
   "source": [
    "## 3. Causes of Death in California\n"
   ]
  },
  {
   "cell_type": "markdown",
   "metadata": {},
   "source": [
    "This exercise is designed to give you practice using the Table method `group`.\n",
    "\n",
    "We'll be looking at a dataset from the California Department of Public Health (available [here](http://www.healthdata.gov/dataset/leading-causes-death-zip-code-1999-2013) and described [here](http://www.cdph.ca.gov/data/statistics/Pages/DeathProfilesbyZIPCode.aspx)) that records the cause of death (as recorded on a death certificate) for everyone who died in California from 1999 to 2013.  The data are in the file `causes_of_death.csv.zip`.  Each row records the number of deaths by one cause in one year in one ZIP code.\n",
    "\n",
    "To make the file smaller, we've compressed it; run the next cell to unzip and load it."
   ]
  },
  {
   "cell_type": "code",
   "execution_count": 100,
   "metadata": {},
   "outputs": [
    {
     "name": "stdout",
     "output_type": "stream",
     "text": [
      "Archive:  causes_of_death.csv.zip\n",
      "  inflating: causes_of_death.csv     \n"
     ]
    },
    {
     "data": {
      "text/html": [
       "<table border=\"1\" class=\"dataframe\">\n",
       "    <thead>\n",
       "        <tr>\n",
       "            <th>Year</th> <th>ZIP Code</th> <th>Cause of Death</th> <th>Count</th> <th>Location </th>\n",
       "        </tr>\n",
       "    </thead>\n",
       "    <tbody>\n",
       "        <tr>\n",
       "            <td>1999</td> <td>90002   </td> <td>SUI           </td> <td>1    </td> <td>(33.94969, -118.246213) </td>\n",
       "        </tr>\n",
       "        <tr>\n",
       "            <td>1999</td> <td>90005   </td> <td>HOM           </td> <td>1    </td> <td>(34.058508, -118.301197)</td>\n",
       "        </tr>\n",
       "        <tr>\n",
       "            <td>1999</td> <td>90006   </td> <td>ALZ           </td> <td>1    </td> <td>(34.049323, -118.291687)</td>\n",
       "        </tr>\n",
       "        <tr>\n",
       "            <td>1999</td> <td>90007   </td> <td>ALZ           </td> <td>1    </td> <td>(34.029442, -118.287095)</td>\n",
       "        </tr>\n",
       "        <tr>\n",
       "            <td>1999</td> <td>90009   </td> <td>DIA           </td> <td>1    </td> <td>(33.9452, -118.3832)    </td>\n",
       "        </tr>\n",
       "        <tr>\n",
       "            <td>1999</td> <td>90009   </td> <td>LIV           </td> <td>1    </td> <td>(33.9452, -118.3832)    </td>\n",
       "        </tr>\n",
       "        <tr>\n",
       "            <td>1999</td> <td>90009   </td> <td>OTH           </td> <td>1    </td> <td>(33.9452, -118.3832)    </td>\n",
       "        </tr>\n",
       "        <tr>\n",
       "            <td>1999</td> <td>90010   </td> <td>STK           </td> <td>1    </td> <td>(34.060633, -118.302664)</td>\n",
       "        </tr>\n",
       "        <tr>\n",
       "            <td>1999</td> <td>90010   </td> <td>CLD           </td> <td>1    </td> <td>(34.060633, -118.302664)</td>\n",
       "        </tr>\n",
       "        <tr>\n",
       "            <td>1999</td> <td>90010   </td> <td>DIA           </td> <td>1    </td> <td>(34.060633, -118.302664)</td>\n",
       "        </tr>\n",
       "    </tbody>\n",
       "</table>\n",
       "<p>... (320142 rows omitted)</p>"
      ],
      "text/plain": [
       "Year | ZIP Code | Cause of Death | Count | Location\n",
       "1999 | 90002    | SUI            | 1     | (33.94969, -118.246213)\n",
       "1999 | 90005    | HOM            | 1     | (34.058508, -118.301197)\n",
       "1999 | 90006    | ALZ            | 1     | (34.049323, -118.291687)\n",
       "1999 | 90007    | ALZ            | 1     | (34.029442, -118.287095)\n",
       "1999 | 90009    | DIA            | 1     | (33.9452, -118.3832)\n",
       "1999 | 90009    | LIV            | 1     | (33.9452, -118.3832)\n",
       "1999 | 90009    | OTH            | 1     | (33.9452, -118.3832)\n",
       "1999 | 90010    | STK            | 1     | (34.060633, -118.302664)\n",
       "1999 | 90010    | CLD            | 1     | (34.060633, -118.302664)\n",
       "1999 | 90010    | DIA            | 1     | (34.060633, -118.302664)\n",
       "... (320142 rows omitted)"
      ]
     },
     "execution_count": 100,
     "metadata": {},
     "output_type": "execute_result"
    }
   ],
   "source": [
    "!unzip -o causes_of_death.csv.zip\n",
    "causes = Table.read_table('causes_of_death.csv')\n",
    "causes"
   ]
  },
  {
   "cell_type": "markdown",
   "metadata": {},
   "source": [
    "The causes of death in the data are abbreviated.  If you want to know what the abbreviations mean, we've provided a table called `abbreviations.csv`."
   ]
  },
  {
   "cell_type": "markdown",
   "metadata": {},
   "source": [
    "**Question 1.** Find the top 5 causes of death in California over the entire period covered by the data.  To do that, create a table with one row for each of the top 5 causes of death, a column called \"Cause of Death\", and a column called \"Count\" that records the total number of deaths due to that cause.  Sort it in descending order by count, and call it `top_5_causes`."
   ]
  },
  {
   "cell_type": "code",
   "execution_count": 103,
   "metadata": {
    "for_assignment_type": "student"
   },
   "outputs": [],
   "source": [
    "# Use this cell to find the top 5 causes of death.\n",
    "top_5_causes = causes.select(\"Cause of Death\", \"Count\").group(\"Cause of Death\", sum).sort(\"Count sum\", descending=True).relabeled(\"Count sum\", \"Count\").take(np.arange(5))"
   ]
  },
  {
   "cell_type": "code",
   "execution_count": 104,
   "metadata": {},
   "outputs": [
    {
     "name": "stdout",
     "output_type": "stream",
     "text": [
      "~~~~~~~~~~~~~~~~~~~~~~~~~~~~~~~~~~~~~~~~~~~~~~~~~~~~~~~~~~~~~~~~~~~~~\n",
      "Running tests\n",
      "\n",
      "---------------------------------------------------------------------\n",
      "Test summary\n",
      "    Passed: 1\n",
      "    Failed: 0\n",
      "[ooooooooook] 100.0% passed\n",
      "\n"
     ]
    }
   ],
   "source": [
    "_ = tests.grade('q3_1')"
   ]
  },
  {
   "cell_type": "markdown",
   "metadata": {},
   "source": [
    "**Question 2.** Create a bar chart that displays the *proportion of all deaths* by each cause."
   ]
  },
  {
   "cell_type": "code",
   "execution_count": 105,
   "metadata": {
    "for_assignment_type": "student"
   },
   "outputs": [
    {
     "data": {
      "image/png": "[encoded data removed]",
      "text/plain": [
       "<Figure size 432x288 with 1 Axes>"
      ]
     },
     "metadata": {},
     "output_type": "display_data"
    }
   ],
   "source": [
    "# Use this cell to make your plot.\n",
    "top_5_causes.barh(\"Cause of Death\")"
   ]
  },
  {
   "cell_type": "markdown",
   "metadata": {},
   "source": [
    "**Question 3.** Create a plot of the total number of deaths per year in California.\n",
    "\n",
    "*Hint:* Use the Table method `plot`.  The first argument is the name or index of the column to put on the horizontal axis."
   ]
  },
  {
   "cell_type": "code",
   "execution_count": 106,
   "metadata": {},
   "outputs": [
    {
     "data": {
      "text/plain": [
       "(0.0, 300000.0)"
      ]
     },
     "execution_count": 106,
     "metadata": {},
     "output_type": "execute_result"
    },
    {
     "data": {
      "image/png": "[encoded data removed]",
      "text/plain": [
       "<Figure size 432x288 with 1 Axes>"
      ]
     },
     "metadata": {},
     "output_type": "display_data"
    }
   ],
   "source": [
    "death_num = causes.select(\"Year\", \"Count\").group(\"Year\", sum)\n",
    "death_num.plot(\"Year\")\n",
    "# This line will make the vertical axis start at 0.  You can remove\n",
    "# it if you want to see the default plot, which is more zoomed-in.\n",
    "plt.ylim(0, 300000)"
   ]
  },
  {
   "cell_type": "markdown",
   "metadata": {},
   "source": [
    "**Question 4.** You should see that deaths have increased a little over time, though not uniformly.  How would you explain that?  Describe a dataset you'd like to see to test whether your explanation is valid."
   ]
  },
  {
   "cell_type": "markdown",
   "metadata": {},
   "source": [
    "*Write your answer here, replacing this text.*"
   ]
  },
  {
   "cell_type": "code",
   "execution_count": null,
   "metadata": {
    "collapsed": true
   },
   "outputs": [],
   "source": [
    "# For your convenience, you can run this cell to run all the tests at once!\n",
    "import os\n",
    "print(\"Running all tests...\")\n",
    "_ = [tests.grade(q[:-3]) for q in os.listdir(\"tests\") if q.startswith('q')]\n",
    "print(\"Finished running all tests.\")"
   ]
  }
 ],
 "metadata": {
  "kernelspec": {
   "display_name": "Python 3",
   "language": "python",
   "name": "python3"
  },
  "language_info": {
   "codemirror_mode": {
    "name": "ipython",
    "version": 3
   },
   "file_extension": ".py",
   "mimetype": "text/x-python",
   "name": "python",
   "nbconvert_exporter": "python",
   "pygments_lexer": "ipython3",
   "version": "3.8.3"
  }
 },
 "nbformat": 4,
 "nbformat_minor": 1
}
