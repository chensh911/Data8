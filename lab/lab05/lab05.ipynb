{
 "cells": [
  {
   "cell_type": "markdown",
   "metadata": {},
   "source": [
    "## Statistics and Hypothesis Testing\n",
    "\n",
    "Welcome to lab 5!  This lab covers the use of computer simulation, in combination with data, to answer questions about the world.  You'll answer two questions:\n",
    "1. Suppose we estimate a parameter using a statistic computed from a sample of data.  That statistic could have turned out different if the random sample had turned out different.  What is the probability distribution of values of that statistic?\n",
    "1. Was a panel of jurors selected at random from the population of eligible jurors?\n",
    "\n",
    "As usual, if you are curious or confused about something, please ask a neighbor or a TA for help.  Remember to run the tests and the submission cell at the end of the lab."
   ]
  },
  {
   "cell_type": "code",
   "execution_count": 1,
   "metadata": {},
   "outputs": [
    {
     "name": "stderr",
     "output_type": "stream",
     "text": [
      "/Users/chenshangheng/opt/anaconda3/lib/python3.8/site-packages/datascience/tables.py:17: MatplotlibDeprecationWarning: The 'warn' parameter of use() is deprecated since Matplotlib 3.1 and will be removed in 3.3.  If any parameter follows 'warn', they should be pass as keyword, not positionally.\n",
      "  matplotlib.use('agg', warn=False)\n",
      "/Users/chenshangheng/opt/anaconda3/lib/python3.8/site-packages/datascience/util.py:10: MatplotlibDeprecationWarning: The 'warn' parameter of use() is deprecated since Matplotlib 3.1 and will be removed in 3.3.  If any parameter follows 'warn', they should be pass as keyword, not positionally.\n",
      "  matplotlib.use('agg', warn=False)\n"
     ]
    },
    {
     "name": "stdout",
     "output_type": "stream",
     "text": [
      "=====================================================================\n",
      "Assignment: Statistics and Hypothesis Testing\n",
      "OK, version v1.18.1\n",
      "=====================================================================\n",
      "\n"
     ]
    }
   ],
   "source": [
    "# Run this cell to set up the notebook, but please don't change it.\n",
    "\n",
    "# These lines import the Numpy and Datascience modules.\n",
    "import numpy as np\n",
    "from datascience import *\n",
    "\n",
    "# These lines do some fancy plotting magic.\n",
    "import matplotlib\n",
    "%matplotlib inline\n",
    "import matplotlib.pyplot as plt\n",
    "plt.style.use('fivethirtyeight')\n",
    "import warnings\n",
    "warnings.simplefilter('ignore', FutureWarning)\n",
    "\n",
    "# These lines load the tests.\n",
    "from client.api.assignment import load_assignment \n",
    "tests = load_assignment('lab05.ok')"
   ]
  },
  {
   "cell_type": "markdown",
   "metadata": {},
   "source": [
    "## 1. Dungeons and Dragons and Sampling\n",
    "In the game Dungeons & Dragons, each player plays the role of a fantasy character.\n",
    "\n",
    "A player performs actions by rolling a 20-sided die, adding a \"modifier\" number to the roll, and comparing the total to a threshold for success.  The modifier depends on her character's competence in performing the action.\n",
    "\n",
    "For example, suppose Alice's character, a barbarian warrior named Roga, is trying to knock down a heavy door.  She rolls a 20-sided die, adds a modifier of 11 to the result (because her character is good at knocking down doors), and succeeds if the total is greater than 15.\n",
    "\n",
    "### Question 1 ###\n",
    "Write code that simulates that procedure.  Compute three values: the result of Alice's roll (`roll_result`), the result of her roll plus Roga's modifier (`modified_result`), and a boolean value indicating whether the action succeeded (`action_succeeded`).  **Do not fill in any of the results manually**; the entire simulation should happen in code.\n",
    "\n",
    "*Hint:* A roll of a 20-sided die is a number chosen uniformly from the array `make_array(1, 2, 3, 4, ..., 20)`.  So a roll of a 20-sided die *plus 11* is a number chosen uniformly from that array, plus 11."
   ]
  },
  {
   "cell_type": "code",
   "execution_count": 3,
   "metadata": {
    "for_assignment_type": "student"
   },
   "outputs": [
    {
     "name": "stdout",
     "output_type": "stream",
     "text": [
      "On a modified roll of 17, Alice's action succeeded.\n"
     ]
    }
   ],
   "source": [
    "roll_result = np.random.choice(np.arange(1, 21, 1))\n",
    "modified_result = roll_result + 11\n",
    "action_succeeded = modified_result > 15\n",
    "# The next line just prints out your results in a nice way\n",
    "# once you're done.  You can delete it if you want.\n",
    "print(\"On a modified roll of {:d}, Alice's action {}.\".format(modified_result, \"succeeded\" if action_succeeded else \"failed\"))"
   ]
  },
  {
   "cell_type": "code",
   "execution_count": 4,
   "metadata": {},
   "outputs": [
    {
     "name": "stdout",
     "output_type": "stream",
     "text": [
      "~~~~~~~~~~~~~~~~~~~~~~~~~~~~~~~~~~~~~~~~~~~~~~~~~~~~~~~~~~~~~~~~~~~~~\n",
      "Running tests\n",
      "\n",
      "---------------------------------------------------------------------\n",
      "Test summary\n",
      "    Passed: 1\n",
      "    Failed: 0\n",
      "[ooooooooook] 100.0% passed\n",
      "\n"
     ]
    }
   ],
   "source": [
    "_ = tests.grade('q1_1')"
   ]
  },
  {
   "cell_type": "markdown",
   "metadata": {},
   "source": [
    "### Question 2 ###\n",
    "Run your cell 7 times to manually estimate the chance that Alice succeeds at this action.  (Don't use math or an extended simulation.). Your answer should be a fraction. "
   ]
  },
  {
   "cell_type": "code",
   "execution_count": 5,
   "metadata": {
    "scrolled": true
   },
   "outputs": [],
   "source": [
    "N = 7\n",
    "result = make_array()\n",
    "for i in range(N):\n",
    "    roll_result = np.random.choice(np.arange(1, 21, 1))\n",
    "    modified_result = roll_result + 11\n",
    "    action_succeeded = modified_result > 15\n",
    "    result = np.append(action_succeeded, result)\n",
    "rough_success_chance = np.count_nonzero(result) / N"
   ]
  },
  {
   "cell_type": "code",
   "execution_count": 6,
   "metadata": {},
   "outputs": [
    {
     "name": "stdout",
     "output_type": "stream",
     "text": [
      "~~~~~~~~~~~~~~~~~~~~~~~~~~~~~~~~~~~~~~~~~~~~~~~~~~~~~~~~~~~~~~~~~~~~~\n",
      "Running tests\n",
      "\n",
      "---------------------------------------------------------------------\n",
      "Test summary\n",
      "    Passed: 1\n",
      "    Failed: 0\n",
      "[ooooooooook] 100.0% passed\n",
      "\n"
     ]
    }
   ],
   "source": [
    "_ = tests.grade('q1_2')"
   ]
  },
  {
   "cell_type": "markdown",
   "metadata": {},
   "source": [
    "Suppose we don't know that Roga has a modifier of 11 for this action.  Instead, we observe the modified roll (that is, the die roll plus the modifier of 11) from each of 7 of her attempts to knock down doors.  We would like to estimate her modifier from these 7 numbers.\n",
    "\n",
    "### Question 3 ###\n",
    "Write a Python function called `simulate_observations`.  It should take no arguments, and it should return an array of 7 numbers.  Each of the numbers should be the modified roll from one simulation.  **Then**, call your function once to compute an array of 7 simulated modified rolls.  Name that array `observations`."
   ]
  },
  {
   "cell_type": "code",
   "execution_count": 54,
   "metadata": {
    "for_assignment_type": "student"
   },
   "outputs": [],
   "source": [
    "modifier = 11\n",
    "num_observations = 7\n",
    "\n",
    "def simulate_observations():\n",
    "    result = make_array()\n",
    "    for i in range(num_observations):\n",
    "        roll_result = np.random.choice(np.arange(1, 21, 1))\n",
    "        modified_result = roll_result + modifier\n",
    "        result = np.append(modified_result, result)\n",
    "    return result\n",
    "observations = simulate_observations()"
   ]
  },
  {
   "cell_type": "code",
   "execution_count": 55,
   "metadata": {
    "scrolled": true
   },
   "outputs": [
    {
     "name": "stdout",
     "output_type": "stream",
     "text": [
      "~~~~~~~~~~~~~~~~~~~~~~~~~~~~~~~~~~~~~~~~~~~~~~~~~~~~~~~~~~~~~~~~~~~~~\n",
      "Running tests\n",
      "\n",
      "---------------------------------------------------------------------\n",
      "Test summary\n",
      "    Passed: 1\n",
      "    Failed: 0\n",
      "[ooooooooook] 100.0% passed\n",
      "\n"
     ]
    }
   ],
   "source": [
    "_ = tests.grade('q1_3')"
   ]
  },
  {
   "cell_type": "markdown",
   "metadata": {},
   "source": [
    "### Question 4 ###\n",
    "Draw a histogram to display the *probability distribution* of the modified rolls we might see.  Check with a neighbor or a TA to make sure you have the right histogram."
   ]
  },
  {
   "cell_type": "code",
   "execution_count": 9,
   "metadata": {
    "scrolled": true
   },
   "outputs": [
    {
     "data": {
      "image/png": "[encoded data removed]",
      "text/plain": [
       "<Figure size 432x288 with 1 Axes>"
      ]
     },
     "metadata": {},
     "output_type": "display_data"
    }
   ],
   "source": [
    "# We suggest using these bins.\n",
    "roll_bins = np.arange(1, 20+modifier+2, 1)\n",
    "\n",
    "simulate_num = 1000\n",
    "simulate_result = make_array()\n",
    "for i in range(simulate_num):\n",
    "    roll_result = np.random.choice(np.arange(1, 21, 1))\n",
    "    modified_result = roll_result + modifier\n",
    "    simulate_result = np.append(modified_result, simulate_result)\n",
    "Table().with_column(\"result\", simulate_result).hist(bins=roll_bins)"
   ]
  },
  {
   "cell_type": "markdown",
   "metadata": {},
   "source": [
    "Now let's imagine we don't know the modifier and try to estimate it from `observations`.\n",
    "\n",
    "One straightforward (but clearly suboptimal) way to do that is to find the *smallest* total roll, since the smallest roll on a 20-sided die is 1, which is roughly 0.\n",
    "\n",
    "### Question 5 ###\n",
    "Using that method, estimate `modifier` from `observations`.  Name your estimate `min_estimate`."
   ]
  },
  {
   "cell_type": "code",
   "execution_count": 210,
   "metadata": {},
   "outputs": [
    {
     "data": {
      "text/plain": [
       "13.0"
      ]
     },
     "execution_count": 210,
     "metadata": {},
     "output_type": "execute_result"
    }
   ],
   "source": [
    "min_estimate = min(observations)\n",
    "min_estimate"
   ]
  },
  {
   "cell_type": "code",
   "execution_count": 211,
   "metadata": {
    "scrolled": true
   },
   "outputs": [
    {
     "name": "stdout",
     "output_type": "stream",
     "text": [
      "~~~~~~~~~~~~~~~~~~~~~~~~~~~~~~~~~~~~~~~~~~~~~~~~~~~~~~~~~~~~~~~~~~~~~\n",
      "Running tests\n",
      "\n",
      "---------------------------------------------------------------------\n",
      "Test summary\n",
      "    Passed: 1\n",
      "    Failed: 0\n",
      "[ooooooooook] 100.0% passed\n",
      "\n"
     ]
    }
   ],
   "source": [
    "_ = tests.grade('q1_5')"
   ]
  },
  {
   "cell_type": "markdown",
   "metadata": {},
   "source": [
    "Another way to estimate the modifier involves the mean of `observations`.\n",
    "\n",
    "### Question 6 ###\n",
    "Figure out a good estimate based on that quantity.  **Then**, write a function named `mean_based_estimator` that computes your estimate.  It should take an array of modified rolls (like the array `observations`) as its argument and return an estimate of `modifier` based on those numbers."
   ]
  },
  {
   "cell_type": "code",
   "execution_count": 12,
   "metadata": {},
   "outputs": [
    {
     "data": {
      "text/plain": [
       "13.0"
      ]
     },
     "execution_count": 12,
     "metadata": {},
     "output_type": "execute_result"
    }
   ],
   "source": [
    "def mean_based_estimator(nums):\n",
    "    \"\"\"Estimate the roll modifier based on observed modified rolls in the array nums.\"\"\"\n",
    "    return np.mean(nums) - 10\n",
    "\n",
    "# Here is an example call to your function.  It computes an estimate\n",
    "# of the modifier from our 7 observations.\n",
    "mean_based_estimate = mean_based_estimator(observations)\n",
    "mean_based_estimate"
   ]
  },
  {
   "cell_type": "code",
   "execution_count": 13,
   "metadata": {},
   "outputs": [
    {
     "name": "stdout",
     "output_type": "stream",
     "text": [
      "~~~~~~~~~~~~~~~~~~~~~~~~~~~~~~~~~~~~~~~~~~~~~~~~~~~~~~~~~~~~~~~~~~~~~\n",
      "Running tests\n",
      "\n",
      "---------------------------------------------------------------------\n",
      "Test summary\n",
      "    Passed: 1\n",
      "    Failed: 0\n",
      "[ooooooooook] 100.0% passed\n",
      "\n"
     ]
    }
   ],
   "source": [
    "_ = tests.grade('q1_6')"
   ]
  },
  {
   "cell_type": "markdown",
   "metadata": {},
   "source": [
    "### Question 7 ###\n",
    "Recall the warplanes estimation problem from lecture.  There, it made sense to multiply the mean by 2 to estimate the largest serial number.  That doesn't make sense for this estimation problem.  Why not?"
   ]
  },
  {
   "cell_type": "markdown",
   "metadata": {
    "for_assignment_type": "student"
   },
   "source": [
    "    Answer: Because some estimated numbers are bigger than the biggest one"
   ]
  },
  {
   "cell_type": "markdown",
   "metadata": {},
   "source": [
    "Now we want to know how well our two estimators work.  To do that, we'll imagine what *could have happened* when we got our observations.  Concretely, that means we'll generate new sets of observations 1000 times (that is, 1000 times, we'll simulate 7 modified rolls).  Each time, we'll use both estimators to compute estimates of the modifier for each simulated observation set.  Then, we'll display the distribution of those estimates.  That will show us how often each estimator does how well.\n",
    "\n",
    "### Question 8 ###\n",
    "Write code to compute a table called `estimates`.  It should have 1000 rows and 2 columns.  Each row should correspond to a different sample of 7 simulated modified rolls.  The first column, `\"min estimate\"`, should contain estimates using the `min` of each sample.  The second column, `\"mean-based estimate\"`, should contain estimates using your `mean_based_estimator` function on each sample."
   ]
  },
  {
   "cell_type": "code",
   "execution_count": 56,
   "metadata": {
    "scrolled": false
   },
   "outputs": [
    {
     "data": {
      "text/html": [
       "<table border=\"1\" class=\"dataframe\">\n",
       "    <thead>\n",
       "        <tr>\n",
       "            <th>min estimate</th> <th>mean-based estimate</th>\n",
       "        </tr>\n",
       "    </thead>\n",
       "    <tbody>\n",
       "        <tr>\n",
       "            <td>17          </td> <td>13.4286            </td>\n",
       "        </tr>\n",
       "        <tr>\n",
       "            <td>15          </td> <td>10.5714            </td>\n",
       "        </tr>\n",
       "        <tr>\n",
       "            <td>15          </td> <td>11.5714            </td>\n",
       "        </tr>\n",
       "        <tr>\n",
       "            <td>13          </td> <td>12.2857            </td>\n",
       "        </tr>\n",
       "        <tr>\n",
       "            <td>16          </td> <td>10.7143            </td>\n",
       "        </tr>\n",
       "        <tr>\n",
       "            <td>13          </td> <td>14.5714            </td>\n",
       "        </tr>\n",
       "        <tr>\n",
       "            <td>17          </td> <td>12.5714            </td>\n",
       "        </tr>\n",
       "        <tr>\n",
       "            <td>12          </td> <td>11                 </td>\n",
       "        </tr>\n",
       "        <tr>\n",
       "            <td>21          </td> <td>15                 </td>\n",
       "        </tr>\n",
       "        <tr>\n",
       "            <td>14          </td> <td>12.4286            </td>\n",
       "        </tr>\n",
       "    </tbody>\n",
       "</table>\n",
       "<p>... (990 rows omitted)</p>"
      ],
      "text/plain": [
       "min estimate | mean-based estimate\n",
       "17           | 13.4286\n",
       "15           | 10.5714\n",
       "15           | 11.5714\n",
       "13           | 12.2857\n",
       "16           | 10.7143\n",
       "13           | 14.5714\n",
       "17           | 12.5714\n",
       "12           | 11\n",
       "21           | 15\n",
       "14           | 12.4286\n",
       "... (990 rows omitted)"
      ]
     },
     "execution_count": 56,
     "metadata": {},
     "output_type": "execute_result"
    }
   ],
   "source": [
    "min_estimates = make_array()\n",
    "mean_based_estimates = make_array()\n",
    "for _ in range(1000):\n",
    "    new_observations = simulate_observations()\n",
    "    new_min_estimate = min(new_observations)\n",
    "    new_mean_based_estimate = mean_based_estimator(new_observations)\n",
    "    min_estimates = np.append(new_min_estimate, min_estimates)\n",
    "    mean_based_estimates = np.append(new_mean_based_estimate, mean_based_estimates)\n",
    "\n",
    "estimates = Table().with_columns(\n",
    "    \"min estimate\", min_estimates,\n",
    "    \"mean-based estimate\", mean_based_estimates\n",
    ")\n",
    "estimates"
   ]
  },
  {
   "cell_type": "code",
   "execution_count": 57,
   "metadata": {},
   "outputs": [
    {
     "name": "stdout",
     "output_type": "stream",
     "text": [
      "~~~~~~~~~~~~~~~~~~~~~~~~~~~~~~~~~~~~~~~~~~~~~~~~~~~~~~~~~~~~~~~~~~~~~\n",
      "Running tests\n",
      "\n",
      "---------------------------------------------------------------------\n",
      "Test summary\n",
      "    Passed: 2\n",
      "    Failed: 0\n",
      "[ooooooooook] 100.0% passed\n",
      "\n"
     ]
    }
   ],
   "source": [
    "_ = tests.grade('q1_8')"
   ]
  },
  {
   "cell_type": "markdown",
   "metadata": {},
   "source": [
    "### Question 9 ###\n",
    "Make a plot of the empirical distributions of both statistics.  (You should make a *single plot* containing two histograms.  Calling the `hist` method of a table that has 2 numerical columns will do this.)"
   ]
  },
  {
   "cell_type": "code",
   "execution_count": 58,
   "metadata": {
    "for_assignment_type": "student"
   },
   "outputs": [
    {
     "data": {
      "image/png": "[encoded data removed]",
      "text/plain": [
       "<Figure size 432x288 with 1 Axes>"
      ]
     },
     "metadata": {},
     "output_type": "display_data"
    }
   ],
   "source": [
    "#Make your histogram here\n",
    "estimates.hist()"
   ]
  },
  {
   "cell_type": "markdown",
   "metadata": {},
   "source": [
    "### Question 10 ###\n",
    "Why do the `min`-based estimates bottom out at 12, while some of the `mean`-based estimates are smaller than that?d."
   ]
  },
  {
   "cell_type": "markdown",
   "metadata": {},
   "source": [
    "Answer: Beacuse if we choose it, an unexpected result might happen."
   ]
  },
  {
   "cell_type": "markdown",
   "metadata": {},
   "source": [
    "## 2. *Swain v. Alabama*\n",
    "In lecture, we tested the hypothesis that a jury panel in Alameda County was a random sample from the population of Alameda.  Let's go through a similar example in another context.\n",
    "\n",
    "##### Background\n",
    "Swain v. Alabama was a US Supreme Court case decided in 1965.  A black man, Swain, was accused of raping a white woman, and had been convicted by an all-white jury.  The jury was selected from a panel of 100 people that contained only 8 black people and 92 people of other ethnicities.  That panel was supposed to be a random sample from the eligible population of Talladega County, which was 26% black and 74% other ethnicities (and, by law, all male).  We will assume there were 16,000 people in all of Talladega County eligible to serve on the jury.\n",
    "\n",
    "Swain's lawyers argued that this reflected a bias in the jury panel selection process.  A five-justice majority of the Supreme Court disagreed, asserting that,\n",
    "\n",
    "> \"The overall percentage disparity has been small and reflects no studied attempt to include or exclude a specified number of Negros.\"\n",
    "\n",
    "Is 8 enough smaller than 26 to indicate that the jury panel wasn't just a random sample from the eligible population?\n",
    "\n",
    "It *could* have happened by chance, so this may seem like a judgement call.  Indeed, five Supreme Court justices apparently thought it was a matter of judgement.\n",
    "\n",
    "In fact, with a computer simulation, we can answer that is is very unlikely to see a panel of 8 randomly selected from this population.  (Note that the scarcity of computers at the time was no excuse.  Any statistician could have done this calculation by hand in 1965.)\n",
    "\n",
    "Here are the data:"
   ]
  },
  {
   "cell_type": "code",
   "execution_count": 59,
   "metadata": {},
   "outputs": [
    {
     "data": {
      "text/html": [
       "<table border=\"1\" class=\"dataframe\">\n",
       "    <thead>\n",
       "        <tr>\n",
       "            <th>Ethnicity</th> <th>Number eligible</th> <th>Number in panel</th>\n",
       "        </tr>\n",
       "    </thead>\n",
       "    <tbody>\n",
       "        <tr>\n",
       "            <td>Black    </td> <td>4160           </td> <td>8              </td>\n",
       "        </tr>\n",
       "        <tr>\n",
       "            <td>Other    </td> <td>11840          </td> <td>92             </td>\n",
       "        </tr>\n",
       "    </tbody>\n",
       "</table>"
      ],
      "text/plain": [
       "Ethnicity | Number eligible | Number in panel\n",
       "Black     | 4160            | 8\n",
       "Other     | 11840           | 92"
      ]
     },
     "execution_count": 59,
     "metadata": {},
     "output_type": "execute_result"
    },
    {
     "data": {
      "image/png": "[encoded data removed]",
      "text/plain": [
       "<Figure size 432x288 with 1 Axes>"
      ]
     },
     "metadata": {},
     "output_type": "display_data"
    },
    {
     "data": {
      "image/png": "[encoded data removed]",
      "text/plain": [
       "<Figure size 432x288 with 1 Axes>"
      ]
     },
     "metadata": {},
     "output_type": "display_data"
    }
   ],
   "source": [
    "jury = Table.read_table(\"jury.csv\")\n",
    "jury.barh('Ethnicity', \"Number eligible\")\n",
    "jury.barh('Ethnicity', \"Number in panel\")\n",
    "jury"
   ]
  },
  {
   "cell_type": "markdown",
   "metadata": {},
   "source": [
    "#### Question 1\n",
    "It's helpful to draw both bars in one plot to really see the visual distinction.  Why would this not be a good idea with the data that we have so far? Think about what the bar graphs would look like if we plotted them all onto the same chart. "
   ]
  },
  {
   "cell_type": "code",
   "execution_count": 60,
   "metadata": {},
   "outputs": [
    {
     "data": {
      "image/png": "[encoded data removed]",
      "text/plain": [
       "<Figure size 432x288 with 1 Axes>"
      ]
     },
     "metadata": {},
     "output_type": "display_data"
    }
   ],
   "source": [
    "jury.barh(\"Ethnicity\")"
   ]
  },
  {
   "cell_type": "markdown",
   "metadata": {},
   "source": [
    "Answer: The total numer of eligible and panel are different quite a lot."
   ]
  },
  {
   "cell_type": "markdown",
   "metadata": {},
   "source": [
    "#### Question 2\n",
    "Fix the problem by making one bar chart displaying the *proportions* of ethnicities among the eligible population and the panel.  **Before you make the chart**, create a table called `with_proportions` that's a copy of `jury` with columns containing these proportions.  (The column names are filled in for you.)"
   ]
  },
  {
   "cell_type": "code",
   "execution_count": 67,
   "metadata": {
    "for_assignment_type": "student"
   },
   "outputs": [
    {
     "data": {
      "image/png": "[encoded data removed]",
      "text/plain": [
       "<Figure size 432x288 with 1 Axes>"
      ]
     },
     "metadata": {},
     "output_type": "display_data"
    }
   ],
   "source": [
    "with_proportions = jury.with_columns(\n",
    "        \"Proportion eligible\", jury.column(\"Number eligible\") / jury.column(\"Number eligible\").sum(),\n",
    "        \"Proportion in panel\", jury.column(\"Number in panel\") / jury.column(\"Number in panel\").sum())\n",
    "with_proportions.select(\"Ethnicity\", \"Proportion eligible\", \"Proportion in panel\").barh(\"Ethnicity\")"
   ]
  },
  {
   "cell_type": "markdown",
   "metadata": {},
   "source": [
    "To test the hypothesis that the actual panel was a random sample from the eligible population, we first write down a *null hypothesis*.  We will imagine (via computer simulation) what the data would typically look like if this hypothesis were true.  If the actual data don't look like that, we'll reject the null hypothesis.\n",
    "\n",
    "Our null hypothesis is straightforward:\n",
    "\n",
    "> **Null hypothesis:** \"The actual panel in Swain's trial was a random sample from the eligible population in Talladega County.\"\n",
    "\n",
    "Now, imagine drawing a random sample from the population of eligible jurors in Talladega.  There is a 26% chance that any sampled individual is black.  We can simulate drawing just 1 person in this way by calling this function:"
   ]
  },
  {
   "cell_type": "code",
   "execution_count": 126,
   "metadata": {
    "scrolled": true
   },
   "outputs": [
    {
     "data": {
      "text/html": [
       "<table border=\"1\" class=\"dataframe\">\n",
       "    <thead>\n",
       "        <tr>\n",
       "            <th>Ethnicity</th> <th>Number eligible</th> <th>Number in panel</th> <th>Proportion eligible</th> <th>Proportion in panel</th> <th>Proportion in random sample</th>\n",
       "        </tr>\n",
       "    </thead>\n",
       "    <tbody>\n",
       "        <tr>\n",
       "            <td>Black    </td> <td>4160           </td> <td>8              </td> <td>0.26               </td> <td>0.08               </td> <td>0                          </td>\n",
       "        </tr>\n",
       "        <tr>\n",
       "            <td>Other    </td> <td>11840          </td> <td>92             </td> <td>0.74               </td> <td>0.92               </td> <td>1                          </td>\n",
       "        </tr>\n",
       "    </tbody>\n",
       "</table>"
      ],
      "text/plain": [
       "Ethnicity | Number eligible | Number in panel | Proportion eligible | Proportion in panel | Proportion in random sample\n",
       "Black     | 4160            | 8               | 0.26                | 0.08                | 0\n",
       "Other     | 11840           | 92              | 0.74                | 0.92                | 1"
      ]
     },
     "execution_count": 126,
     "metadata": {},
     "output_type": "execute_result"
    }
   ],
   "source": [
    "def proportions_from_distribution(table, proportions_column_label, sample_size):\n",
    "    \"\"\"Produces a random sample with replacement, using proportions from the\n",
    "    column named proportions_column_label in the given table.  The size of the\n",
    "    sample is sample_size.\n",
    "    \n",
    "    Each row in the given table should represent one kind of thing.\n",
    "    Each kind of thing has a proportion, which is the chance that each\n",
    "    member of the sample is that kind.\n",
    "    \n",
    "    Returns a copy of table with an extra column called \"Proportion in random\n",
    "    sample\".  This column contains the number of elements of each kind that\n",
    "    ended up in the random sample.\"\"\"\n",
    "    proportions = np.random.multinomial(sample_size, table.column(proportions_column_label))/sample_size\n",
    "    return table.with_column(\"Proportion in random sample\", proportions)\n",
    "\n",
    "# Sampling 1 person:\n",
    "one_random_sample = proportions_from_distribution(with_proportions, \"Proportion eligible\", 1)\n",
    "one_random_sample"
   ]
  },
  {
   "cell_type": "markdown",
   "metadata": {},
   "source": [
    "This table is the same as `with_proportions`, but the last column in this table contains the numbers of Black and Other people in a random sample of 1 person.  The ethnicity of the person was decided randomly: there was a 26% chance of selecting a black person\n",
    "\n",
    "If we repeated this many times, about 26% of the time we'd get a black person.  Let's try that out.\n",
    "\n",
    "#### Question 3\n",
    "Write a function called `simulate_single_samples`.  It should take no arguments and return no value.  It should simulate 10000 single draws and produce a *histogram* of the numbers of black people in each of those draws."
   ]
  },
  {
   "cell_type": "code",
   "execution_count": 146,
   "metadata": {},
   "outputs": [
    {
     "data": {
      "text/html": [
       "<table border=\"1\" class=\"dataframe\">\n",
       "    <thead>\n",
       "        <tr>\n",
       "            <th>Ethnicity</th> <th>Number eligible</th> <th>Number in panel</th> <th>Proportion eligible</th> <th>Proportion in panel</th> <th>Proportion in random sample</th>\n",
       "        </tr>\n",
       "    </thead>\n",
       "    <tbody>\n",
       "        <tr>\n",
       "            <td>Black    </td> <td>4160           </td> <td>8              </td> <td>0.26               </td> <td>0.08               </td> <td>0                          </td>\n",
       "        </tr>\n",
       "        <tr>\n",
       "            <td>Other    </td> <td>11840          </td> <td>92             </td> <td>0.74               </td> <td>0.92               </td> <td>1                          </td>\n",
       "        </tr>\n",
       "    </tbody>\n",
       "</table>"
      ],
      "text/plain": [
       "Ethnicity | Number eligible | Number in panel | Proportion eligible | Proportion in panel | Proportion in random sample\n",
       "Black     | 4160            | 8               | 0.26                | 0.08                | 0\n",
       "Other     | 11840           | 92              | 0.74                | 0.92                | 1"
      ]
     },
     "execution_count": 146,
     "metadata": {},
     "output_type": "execute_result"
    }
   ],
   "source": [
    "proportions_from_distribution(with_proportions, \"Proportion eligible\", 1)"
   ]
  },
  {
   "cell_type": "code",
   "execution_count": 149,
   "metadata": {},
   "outputs": [
    {
     "data": {
      "image/png": "[encoded data removed]",
      "text/plain": [
       "<Figure size 432x288 with 1 Axes>"
      ]
     },
     "metadata": {},
     "output_type": "display_data"
    }
   ],
   "source": [
    "def simulate_single_samples():\n",
    "    samples = make_array()\n",
    "    for _ in np.arange(10000):\n",
    "        simulate = proportions_from_distribution(with_proportions, \"Proportion eligible\", 1)\n",
    "        samples = np.append(simulate.column(\"Proportion in random sample\").item(0), samples)\n",
    "    Table().with_column(\"Black\", samples).hist()\n",
    "\n",
    "simulate_single_samples()"
   ]
  },
  {
   "cell_type": "markdown",
   "metadata": {},
   "source": [
    "Let's see what happens when we sample 100 people instead of just 1.  Remember, this is simulating how jury panels were *supposed* to be selected, according to the law.\n",
    "\n",
    "#### Question 4\n",
    "Call `proportions_from_distribution` to create a table called `one_sample_of_100` that represents one sample of 100 people from among the eligible jurors.  This is one panel we could see *if the null hypothesis were true*.  **Then,** make a single bar chart displaying the proportions of ethnicities in this sample, in the eligible population, and in the actual panel in Swain's case."
   ]
  },
  {
   "cell_type": "code",
   "execution_count": 197,
   "metadata": {},
   "outputs": [
    {
     "data": {
      "image/png": "[encoded data removed]",
      "text/plain": [
       "<Figure size 432x288 with 1 Axes>"
      ]
     },
     "metadata": {},
     "output_type": "display_data"
    }
   ],
   "source": [
    "one_sample_of_100 = proportions_from_distribution(with_proportions, \"Proportion eligible\", 100)\n",
    "one_sample_of_100.select(\"Ethnicity\", \"Proportion in random sample\", \"Proportion eligible\", \"Proportion in panel\").barh(\"Ethnicity\")"
   ]
  },
  {
   "cell_type": "markdown",
   "metadata": {},
   "source": [
    "Does the panel look like it could have come from this process?\n",
    "\n",
    "To answer that question, we'll need to sample many times, not just once.  And we'll need to summarize each sample with a number (a \"test statistic\").  We want the number to generally look one way if the null hypothesis is true, and some other way if it's not.\n",
    "\n",
    "A useful test statistic in cases like this is the *total variation distance* (TVD) between the distribution of ethnicities in the sample and the distribution of ethnicities in the eligible population.  Intuitively, this distance should be typically small if the null hypothesis is true, because many samples will have similar proportions of ethnicities as the population from which they're taken.\n",
    "\n",
    "To compute the TVD visually, make a bar chart of the two distributions, like the one you made above (ignoring the bars displaying the proportions in the panel).  Then for each category (\"Black\" and \"Other\"), find the absolute difference between the lengths of the bars.  Add up those absolute differences, and divide by 2.\n",
    "\n",
    "#### Question 5\n",
    "Look at the bar chart you made above.  Without using any code, estimate the TVD between the distribution of ethnicities in the sample and the distribution of ethnicities in the eligible population.  Then estimate the TVD between the distribution of ethnicities in the *actual panel* and the distribution of ethnicities in the eligible population.  Note which one is bigger.  Check with a neighbor or a TA to verify your answer."
   ]
  },
  {
   "cell_type": "code",
   "execution_count": 181,
   "metadata": {},
   "outputs": [],
   "source": [
    "rough_tvd_between_sample_and_population = abs(one_sample_of_100.column(\"Proportion in random sample\") - one_sample_of_100.column(\"Proportion eligible\")).sum()/2\n",
    "rough_tvd_between_panel_and_population = abs(one_sample_of_100.column(\"Proportion in panel\") - one_sample_of_100.column(\"Proportion eligible\")).sum()/2"
   ]
  },
  {
   "cell_type": "code",
   "execution_count": 182,
   "metadata": {},
   "outputs": [
    {
     "name": "stdout",
     "output_type": "stream",
     "text": [
      "0.06999999999999998 0.18000000000000002\n"
     ]
    }
   ],
   "source": [
    "print(rough_tvd_between_sample_and_population, rough_tvd_between_panel_and_population)"
   ]
  },
  {
   "cell_type": "markdown",
   "metadata": {},
   "source": [
    "#### Question 6\n",
    "Write a function called `tvd_from_eligible_population`.  It should take 1 argument: an array of proportions of ethnicities.  The first element in the array is the proportion of black people, and the second element in the array is the proportion of others.  The function should return the TVD between that distribution of ethnicities and the distribution in the eligible population."
   ]
  },
  {
   "cell_type": "code",
   "execution_count": 176,
   "metadata": {},
   "outputs": [
    {
     "name": "stdout",
     "output_type": "stream",
     "text": [
      "TVD between eligible population and a random sample: 0.06999999999999998\n",
      "TVD between eligible population and the actual panel: 0.18000000000000002\n"
     ]
    }
   ],
   "source": [
    "def tvd_from_eligible_population(proportions):\n",
    "    tvd_black = abs(proportions.item(0) - 0.26)\n",
    "    tvd_other = abs(proportions.item(1) - 0.74)\n",
    "    return (tvd_black + tvd_other) / 2\n",
    "\n",
    "# An example call to your function.  This computes the\n",
    "# TVD you estimated in question 5.\n",
    "print(\"TVD between eligible population and a random sample:\", tvd_from_eligible_population(one_sample_of_100.column(\"Proportion in random sample\")))\n",
    "# ...and this computes the other TVD you estimated.\n",
    "print(\"TVD between eligible population and the actual panel:\", tvd_from_eligible_population(with_proportions.column(\"Proportion in panel\")))"
   ]
  },
  {
   "cell_type": "code",
   "execution_count": 177,
   "metadata": {},
   "outputs": [
    {
     "name": "stdout",
     "output_type": "stream",
     "text": [
      "~~~~~~~~~~~~~~~~~~~~~~~~~~~~~~~~~~~~~~~~~~~~~~~~~~~~~~~~~~~~~~~~~~~~~\n",
      "Running tests\n",
      "\n",
      "---------------------------------------------------------------------\n",
      "Test summary\n",
      "    Passed: 1\n",
      "    Failed: 0\n",
      "[ooooooooook] 100.0% passed\n",
      "\n"
     ]
    }
   ],
   "source": [
    "_ = tests.grade('q2_6')"
   ]
  },
  {
   "cell_type": "markdown",
   "metadata": {},
   "source": [
    "Now you have all the ingredients for running an hypothesis test:\n",
    "\n",
    "1. You can generate data you would see if the null hypothesis were true.  You did that once in question 4.\n",
    "2. You can compute a test statistic on each simulated dataset by calling `tvd_from_eligible_population`.\n",
    "\n",
    "#### Question 7\n",
    "Write a function called `simulate_tvds_under_null`.  It should take no arguments and return no value.  It should run **20,000** simulations under the null hypothesis, compute the test statistic for each one, and produce a histogram of those **20,000** test statistics."
   ]
  },
  {
   "cell_type": "code",
   "execution_count": 207,
   "metadata": {
    "for_assignment_type": "student"
   },
   "outputs": [
    {
     "data": {
      "image/png": "[encoded data removed]",
      "text/plain": [
       "<Figure size 432x288 with 1 Axes>"
      ]
     },
     "metadata": {},
     "output_type": "display_data"
    }
   ],
   "source": [
    "def simulate_tvds_under_null():\n",
    "    test_stat = make_array()\n",
    "    for i in range(20000):\n",
    "        simulate = one_sample_of_100 = proportions_from_distribution(with_proportions, \"Proportion eligible\", 100)\n",
    "        test_stat = np.append(tvd_from_eligible_population(simulate.column(\"Proportion in random sample\")), test_stat)\n",
    "    Table().with_column(\"tvd\", test_stat).hist()\n",
    "simulate_tvds_under_null()"
   ]
  },
  {
   "cell_type": "markdown",
   "metadata": {},
   "source": [
    "Run the cell below to see the results of your simulation augmented with a red line that shows the TVD between the actual panel and the eligible population (which you estimated in question 5)."
   ]
  },
  {
   "cell_type": "code",
   "execution_count": 208,
   "metadata": {},
   "outputs": [
    {
     "data": {
      "image/png": "[encoded data removed]",
      "text/plain": [
       "<Figure size 432x288 with 1 Axes>"
      ]
     },
     "metadata": {},
     "output_type": "display_data"
    }
   ],
   "source": [
    "# You don't need to read this function unless you're interested.\n",
    "def draw_red_line(spot, height, description):\n",
    "    \"\"\"Draw a vertical red line at a spot in a graph.\"\"\"\n",
    "    plt.plot([spot, spot], [0, height], color=\"red\", label=description)\n",
    "    # Draw a legend off to the right to explain the red line.\n",
    "    plt.legend(loc=\"center left\", bbox_to_anchor=[1, .5])\n",
    "\n",
    "# Now we'll redraw our histogram and draw a line at the observed TVD.\n",
    "simulate_tvds_under_null()\n",
    "draw_red_line(tvd_from_eligible_population(with_proportions.column(\"Proportion in panel\")), 20, \"TVD between Swain's\\nactual jury panel and\\nthe eligible population\")"
   ]
  },
  {
   "cell_type": "markdown",
   "metadata": {},
   "source": [
    "#### Question 8\n",
    "Do we have evidence for or against the null hypothesis, or not much evidence either way?  Discuss with a neighbor or a TA."
   ]
  },
  {
   "cell_type": "markdown",
   "metadata": {},
   "source": [
    "Answer: The result isn't obey the null hypothesis."
   ]
  },
  {
   "cell_type": "code",
   "execution_count": 212,
   "metadata": {},
   "outputs": [
    {
     "name": "stdout",
     "output_type": "stream",
     "text": [
      "~~~~~~~~~~~~~~~~~~~~~~~~~~~~~~~~~~~~~~~~~~~~~~~~~~~~~~~~~~~~~~~~~~~~~\n",
      "Running tests\n",
      "\n",
      "---------------------------------------------------------------------\n",
      "Test summary\n",
      "    Passed: 1\n",
      "    Failed: 0\n",
      "[ooooooooook] 100.0% passed\n",
      "\n",
      "~~~~~~~~~~~~~~~~~~~~~~~~~~~~~~~~~~~~~~~~~~~~~~~~~~~~~~~~~~~~~~~~~~~~~\n",
      "Running tests\n",
      "\n",
      "---------------------------------------------------------------------\n",
      "Test summary\n",
      "    Passed: 2\n",
      "    Failed: 0\n",
      "[ooooooooook] 100.0% passed\n",
      "\n",
      "~~~~~~~~~~~~~~~~~~~~~~~~~~~~~~~~~~~~~~~~~~~~~~~~~~~~~~~~~~~~~~~~~~~~~\n",
      "Running tests\n",
      "\n",
      "---------------------------------------------------------------------\n",
      "Test summary\n",
      "    Passed: 1\n",
      "    Failed: 0\n",
      "[ooooooooook] 100.0% passed\n",
      "\n",
      "~~~~~~~~~~~~~~~~~~~~~~~~~~~~~~~~~~~~~~~~~~~~~~~~~~~~~~~~~~~~~~~~~~~~~\n",
      "Running tests\n",
      "\n",
      "---------------------------------------------------------------------\n",
      "Test summary\n",
      "    Passed: 1\n",
      "    Failed: 0\n",
      "[ooooooooook] 100.0% passed\n",
      "\n",
      "~~~~~~~~~~~~~~~~~~~~~~~~~~~~~~~~~~~~~~~~~~~~~~~~~~~~~~~~~~~~~~~~~~~~~\n",
      "Running tests\n",
      "\n",
      "---------------------------------------------------------------------\n",
      "Test summary\n",
      "    Passed: 2\n",
      "    Failed: 0\n",
      "[ooooooooook] 100.0% passed\n",
      "\n",
      "~~~~~~~~~~~~~~~~~~~~~~~~~~~~~~~~~~~~~~~~~~~~~~~~~~~~~~~~~~~~~~~~~~~~~\n",
      "Running tests\n",
      "\n",
      "---------------------------------------------------------------------\n",
      "Test summary\n",
      "    Passed: 1\n",
      "    Failed: 0\n",
      "[ooooooooook] 100.0% passed\n",
      "\n",
      "~~~~~~~~~~~~~~~~~~~~~~~~~~~~~~~~~~~~~~~~~~~~~~~~~~~~~~~~~~~~~~~~~~~~~\n",
      "Running tests\n",
      "\n",
      "---------------------------------------------------------------------\n",
      "Test summary\n",
      "    Passed: 1\n",
      "    Failed: 0\n",
      "[ooooooooook] 100.0% passed\n",
      "\n",
      "~~~~~~~~~~~~~~~~~~~~~~~~~~~~~~~~~~~~~~~~~~~~~~~~~~~~~~~~~~~~~~~~~~~~~\n",
      "Running tests\n",
      "\n",
      "---------------------------------------------------------------------\n",
      "Test summary\n",
      "    Passed: 1\n",
      "    Failed: 0\n",
      "[ooooooooook] 100.0% passed\n",
      "\n"
     ]
    }
   ],
   "source": [
    "# For your convenience, you can run this cell to run all the tests at once!\n",
    "import os\n",
    "_ = [tests.grade(q[:-3]) for q in os.listdir(\"tests\") if q.startswith('q')]"
   ]
  },
  {
   "cell_type": "code",
   "execution_count": null,
   "metadata": {},
   "outputs": [],
   "source": [
    "# Run this cell to submit your work *after* you have passed all of the test cells.\n",
    "# It's ok to run this cell multiple times. Only your final submission will be scored.\n",
    "\n",
    "!TZ=America/Los_Angeles ipython nbconvert --output=\".lab05_$(date +%m%d_%H%M)_submission.html\" lab05.ipynb\n",
    "print('Submitted Successfully!')"
   ]
  }
 ],
 "metadata": {
  "anaconda-cloud": {},
  "kernelspec": {
   "display_name": "Python 3",
   "language": "python",
   "name": "python3"
  },
  "language_info": {
   "codemirror_mode": {
    "name": "ipython",
    "version": 3
   },
   "file_extension": ".py",
   "mimetype": "text/x-python",
   "name": "python",
   "nbconvert_exporter": "python",
   "pygments_lexer": "ipython3",
   "version": "3.8.3"
  }
 },
 "nbformat": 4,
 "nbformat_minor": 1
}
